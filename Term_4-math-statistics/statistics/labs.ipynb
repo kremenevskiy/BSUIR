{
 "cells": [
  {
   "cell_type": "code",
   "execution_count": 14,
   "id": "affecting-azerbaijan",
   "metadata": {},
   "outputs": [],
   "source": [
    "import numpy as np\n",
    "import pandas as pd\n",
    "import random\n",
    "from numpy.random import rand\n",
    "import matplotlib.pyplot as plt"
   ]
  },
  {
   "cell_type": "code",
   "execution_count": 15,
   "id": "documented-jersey",
   "metadata": {},
   "outputs": [],
   "source": [
    "a = 0\n",
    "b = np.pi/4\n",
    "L, R = 0, 1\n",
    "def fi(x): \n",
    "    return np.tan(x)\n",
    "def X():\n",
    "    return a + (b-a) * rand()\n",
    "def Y(x):\n",
    "    return fi(x)"
   ]
  },
  {
   "cell_type": "code",
   "execution_count": null,
   "id": "guilty-granny",
   "metadata": {},
   "outputs": [],
   "source": []
  },
  {
   "cell_type": "markdown",
   "id": "premium-singing",
   "metadata": {},
   "source": [
    "## Lab 1"
   ]
  },
  {
   "cell_type": "code",
   "execution_count": 16,
   "id": "viral-coast",
   "metadata": {},
   "outputs": [],
   "source": [
    "n = 3\n",
    "def make_samples(n):\n",
    "    x_sample = np.array([X() for i in range(n)])\n",
    "    y_sample = Y(x_sample)\n",
    "    y_sample.sort()\n",
    "    return x_sample, y_sample"
   ]
  },
  {
   "cell_type": "markdown",
   "id": "known-delhi",
   "metadata": {},
   "source": [
    "### params of continious uniform distribution X"
   ]
  },
  {
   "cell_type": "code",
   "execution_count": 17,
   "id": "dynamic-satin",
   "metadata": {},
   "outputs": [
    {
     "name": "stdout",
     "output_type": "stream",
     "text": [
      "theoretical mean of X: 0.3927\n",
      "theoretical std of X: 0.0514\n"
     ]
    }
   ],
   "source": [
    "def uniform_mean(a, b):\n",
    "    return (a + b) / 2\n",
    "\n",
    "def uniform_std(a, b):\n",
    "    return (b - a)**2 / 12\n",
    "\n",
    "def M_uni():\n",
    "    return uniform_mean(a, b)\n",
    "\n",
    "def D_uni():\n",
    "    return uniform_std(a, b)\n",
    "\n",
    "x_mean = M_uni()\n",
    "x_std = D_uni()\n",
    "print(f'theoretical mean of X: {round(x_mean, 4)}')\n",
    "print(f'theoretical std of X: {round(x_std, 4)}')"
   ]
  },
  {
   "cell_type": "markdown",
   "id": "floral-albany",
   "metadata": {},
   "source": [
    "### theoretical distribution function, density function"
   ]
  },
  {
   "cell_type": "code",
   "execution_count": 18,
   "id": "exotic-parade",
   "metadata": {},
   "outputs": [
    {
     "name": "stdout",
     "output_type": "stream",
     "text": [
      "(0, 0.9999999999999999)\n"
     ]
    }
   ],
   "source": [
    "a_Y = a\n",
    "b_Y = Y(b)\n",
    "print((a_Y, b_Y))\n",
    "def F(y):\n",
    "    if y < a_Y: return 0\n",
    "    if a_Y <= y < b_Y: return 4 / np.pi * np.arctan(y)\n",
    "    if y > b_Y: return 1\n",
    "\n",
    "def f(y):\n",
    "    if a_Y < y < b_Y: return 4 / (np.pi * (1 + y**2))\n",
    "    return 0"
   ]
  },
  {
   "cell_type": "code",
   "execution_count": 19,
   "id": "confirmed-lending",
   "metadata": {},
   "outputs": [
    {
     "data": {
      "image/png": "[encoded data removed]",
      "text/plain": [
       "<Figure size 720x576 with 1 Axes>"
      ]
     },
     "metadata": {
      "needs_background": "light"
     },
     "output_type": "display_data"
    }
   ],
   "source": [
    "dots_count = 10**3\n",
    "x_dots = np.linspace(a_Y-1, b_Y+1, dots_count)\n",
    "y_dots = [F(x) for x in x_dots]\n",
    "plt.rcParams[\"figure.figsize\"] = (10, 8)\n",
    "plt.plot(x_dots, y_dots, linewidth=4, label='theoretical distribution function');\n",
    "plt.legend();"
   ]
  },
  {
   "cell_type": "code",
   "execution_count": null,
   "id": "brilliant-prayer",
   "metadata": {},
   "outputs": [],
   "source": []
  },
  {
   "cell_type": "markdown",
   "id": "documented-midwest",
   "metadata": {},
   "source": [
    "### imperical distribution function"
   ]
  },
  {
   "cell_type": "code",
   "execution_count": 20,
   "id": "contemporary-orange",
   "metadata": {},
   "outputs": [
    {
     "name": "stdout",
     "output_type": "stream",
     "text": [
      "[-1, 0.4170334050695345, 0.4170334050695345, 0.9473361260466734, 0.9601080744587516, 1, 2]\n",
      "emperic[0, 0, 0.0, 0.3333333333333333, 0.6666666666666666, 1, 1]\n",
      "imperical mean = 0.6773587158063563\n",
      "imperical std = 0.8413749939482512\n"
     ]
    }
   ],
   "source": [
    "def generate_samples(n):\n",
    "    sample = list(make_samples(n)[1])\n",
    "#     y_sample = [a_Y-1, a_Y] + list(make_samples(n)[1]) + [b_Y, b_Y+1]\n",
    "    y_sample = [-1, sample[0]] + sample + [1, 2]\n",
    "    emperic = [0, 0] + list([(i)/n for i in range(n)]) + [1, 1]\n",
    "    print(y_sample)\n",
    "#     emperic = [0, 0] + list([(i+1)/n for i in range(n)]) + [1, 1]\n",
    "    print(f'emperic{emperic}')\n",
    "    return y_sample, emperic\n",
    "\n",
    "generated = generate_samples(n)\n",
    "\n",
    "print(f'imperical mean = {np.mean(generated[0])}')\n",
    "print(f'imperical std = {np.std(generated[0])}')\n",
    "\n",
    "def update(N=n):\n",
    "    global generated\n",
    "    generated = generate_samples(N)"
   ]
  },
  {
   "cell_type": "code",
   "execution_count": 21,
   "id": "brown-brooklyn",
   "metadata": {},
   "outputs": [
    {
     "data": {
      "text/html": [
       "<div>\n",
       "<style scoped>\n",
       "    .dataframe tbody tr th:only-of-type {\n",
       "        vertical-align: middle;\n",
       "    }\n",
       "\n",
       "    .dataframe tbody tr th {\n",
       "        vertical-align: top;\n",
       "    }\n",
       "\n",
       "    .dataframe thead th {\n",
       "        text-align: right;\n",
       "    }\n",
       "</style>\n",
       "<table border=\"1\" class=\"dataframe\">\n",
       "  <thead>\n",
       "    <tr style=\"text-align: right;\">\n",
       "      <th></th>\n",
       "      <th>x</th>\n",
       "      <th>y</th>\n",
       "    </tr>\n",
       "  </thead>\n",
       "  <tbody>\n",
       "    <tr>\n",
       "      <th>0</th>\n",
       "      <td>-1.000000</td>\n",
       "      <td>0.000000</td>\n",
       "    </tr>\n",
       "    <tr>\n",
       "      <th>1</th>\n",
       "      <td>0.417033</td>\n",
       "      <td>0.000000</td>\n",
       "    </tr>\n",
       "    <tr>\n",
       "      <th>2</th>\n",
       "      <td>0.417033</td>\n",
       "      <td>0.000000</td>\n",
       "    </tr>\n",
       "    <tr>\n",
       "      <th>3</th>\n",
       "      <td>0.947336</td>\n",
       "      <td>0.333333</td>\n",
       "    </tr>\n",
       "    <tr>\n",
       "      <th>4</th>\n",
       "      <td>0.960108</td>\n",
       "      <td>0.666667</td>\n",
       "    </tr>\n",
       "    <tr>\n",
       "      <th>5</th>\n",
       "      <td>1.000000</td>\n",
       "      <td>1.000000</td>\n",
       "    </tr>\n",
       "    <tr>\n",
       "      <th>6</th>\n",
       "      <td>2.000000</td>\n",
       "      <td>1.000000</td>\n",
       "    </tr>\n",
       "  </tbody>\n",
       "</table>\n",
       "</div>"
      ],
      "text/plain": [
       "          x         y\n",
       "0 -1.000000  0.000000\n",
       "1  0.417033  0.000000\n",
       "2  0.417033  0.000000\n",
       "3  0.947336  0.333333\n",
       "4  0.960108  0.666667\n",
       "5  1.000000  1.000000\n",
       "6  2.000000  1.000000"
      ]
     },
     "execution_count": 21,
     "metadata": {},
     "output_type": "execute_result"
    }
   ],
   "source": [
    "data = pd.DataFrame(data={'x':generated[0], 'y':generated[1]})\n",
    "data"
   ]
  },
  {
   "cell_type": "code",
   "execution_count": 22,
   "id": "spanish-contributor",
   "metadata": {},
   "outputs": [
    {
     "data": {
      "image/png": "[encoded data removed]",
      "text/plain": [
       "<Figure size 720x576 with 1 Axes>"
      ]
     },
     "metadata": {
      "needs_background": "light"
     },
     "output_type": "display_data"
    }
   ],
   "source": [
    "plt.rcParams[\"figure.figsize\"] = (10, 8)\n",
    "plt.plot(x_dots, y_dots, linewidth=4, label='theoretical distribution function');\n",
    "plt.plot(generated[0], generated[1], linewidth=2, color='orange')\n",
    "plt.step(generated[0], generated[1], linewidth=2, color='red', label='imperical destribution function')\n",
    "plt.legend();"
   ]
  },
  {
   "cell_type": "code",
   "execution_count": 23,
   "id": "timely-aberdeen",
   "metadata": {},
   "outputs": [],
   "source": [
    "# from statsmodels.distributions.empirical_distribution import ECDF\n",
    "# ecdf = ECDF(generated[0][1:-1])\n",
    "# plt.plot(x_dots, y_dots, linewidth=4, label='theoretical distribution function');\n",
    "# # print(generated[0])\n",
    "# # print(ecdf.x)\n",
    "# plt.plot(ecdf.x, ecdf.y, linewidth=2, color='orange')\n",
    "# plt.step(ecdf.x, ecdf.y, linewidth=2, color='red', label='check imperical destribution function')\n",
    "# plt.legend();"
   ]
  },
  {
   "cell_type": "code",
   "execution_count": 24,
   "id": "spanish-journalism",
   "metadata": {},
   "outputs": [],
   "source": [
    "# update(3)"
   ]
  },
  {
   "cell_type": "code",
   "execution_count": null,
   "id": "absolute-liberty",
   "metadata": {},
   "outputs": [],
   "source": []
  },
  {
   "cell_type": "code",
   "execution_count": null,
   "id": "cubic-richardson",
   "metadata": {},
   "outputs": [],
   "source": []
  },
  {
   "cell_type": "code",
   "execution_count": null,
   "id": "missing-cowboy",
   "metadata": {},
   "outputs": [],
   "source": []
  },
  {
   "cell_type": "markdown",
   "id": "involved-tongue",
   "metadata": {},
   "source": [
    "## Lab 2"
   ]
  },
  {
   "cell_type": "markdown",
   "id": "manual-cassette",
   "metadata": {},
   "source": [
    "## building histograms"
   ]
  },
  {
   "cell_type": "code",
   "execution_count": 25,
   "id": "modern-chancellor",
   "metadata": {},
   "outputs": [
    {
     "data": {
      "text/plain": [
       "array([0.06212261, 0.372418  , 0.6085405 ])"
      ]
     },
     "execution_count": 25,
     "metadata": {},
     "output_type": "execute_result"
    }
   ],
   "source": [
    "Y_sample = make_samples(n)[1]\n",
    "\n",
    "M = 10\n",
    "Y_sample"
   ]
  },
  {
   "cell_type": "code",
   "execution_count": 26,
   "id": "drawn-bride",
   "metadata": {},
   "outputs": [],
   "source": [
    "# def build_histogram(sample, num_intervals, M, equidistandt=True):\n",
    "#     if (equidistandt):\n",
    "#         hist = pd.DataFrame(columns=['Ai', 'Bi', 'v', 'hi', 'fi'])\n",
    "#         x_1, x_n = sample[0], sample[-1]\n",
    "#         h = (x_n - x_1) / M\n",
    "        \n",
    "#         column \n",
    "#         while \n",
    "            \n",
    "            \n",
    "#         return hist\n",
    "    \n",
    "    "
   ]
  },
  {
   "cell_type": "code",
   "execution_count": null,
   "id": "appropriate-shark",
   "metadata": {},
   "outputs": [],
   "source": []
  },
  {
   "cell_type": "code",
   "execution_count": null,
   "id": "artistic-central",
   "metadata": {},
   "outputs": [],
   "source": []
  },
  {
   "cell_type": "code",
   "execution_count": null,
   "id": "abstract-armstrong",
   "metadata": {},
   "outputs": [],
   "source": []
  },
  {
   "cell_type": "code",
   "execution_count": null,
   "id": "irish-neighborhood",
   "metadata": {},
   "outputs": [],
   "source": []
  },
  {
   "cell_type": "code",
   "execution_count": null,
   "id": "boring-tractor",
   "metadata": {},
   "outputs": [],
   "source": []
  },
  {
   "cell_type": "code",
   "execution_count": null,
   "id": "sufficient-promotion",
   "metadata": {},
   "outputs": [],
   "source": []
  },
  {
   "cell_type": "code",
   "execution_count": null,
   "id": "fundamental-education",
   "metadata": {},
   "outputs": [],
   "source": []
  },
  {
   "cell_type": "code",
   "execution_count": null,
   "id": "intensive-arrest",
   "metadata": {},
   "outputs": [],
   "source": []
  },
  {
   "cell_type": "code",
   "execution_count": null,
   "id": "antique-trinity",
   "metadata": {},
   "outputs": [],
   "source": []
  },
  {
   "cell_type": "code",
   "execution_count": null,
   "id": "agreed-workstation",
   "metadata": {},
   "outputs": [],
   "source": []
  },
  {
   "cell_type": "code",
   "execution_count": null,
   "id": "jewish-record",
   "metadata": {},
   "outputs": [],
   "source": []
  },
  {
   "cell_type": "code",
   "execution_count": null,
   "id": "wicked-cincinnati",
   "metadata": {},
   "outputs": [],
   "source": []
  },
  {
   "cell_type": "code",
   "execution_count": null,
   "id": "impressive-tribe",
   "metadata": {},
   "outputs": [],
   "source": []
  },
  {
   "cell_type": "code",
   "execution_count": null,
   "id": "industrial-letters",
   "metadata": {},
   "outputs": [],
   "source": []
  },
  {
   "cell_type": "code",
   "execution_count": null,
   "id": "sticky-profile",
   "metadata": {},
   "outputs": [],
   "source": []
  },
  {
   "cell_type": "code",
   "execution_count": null,
   "id": "smoking-silicon",
   "metadata": {},
   "outputs": [],
   "source": []
  },
  {
   "cell_type": "code",
   "execution_count": null,
   "id": "rational-development",
   "metadata": {},
   "outputs": [],
   "source": []
  },
  {
   "cell_type": "code",
   "execution_count": null,
   "id": "quick-month",
   "metadata": {},
   "outputs": [],
   "source": []
  },
  {
   "cell_type": "code",
   "execution_count": null,
   "id": "elder-estate",
   "metadata": {},
   "outputs": [],
   "source": []
  }
 ],
 "metadata": {
  "kernelspec": {
   "display_name": "Python 3",
   "language": "python",
   "name": "python3"
  },
  "language_info": {
   "codemirror_mode": {
    "name": "ipython",
    "version": 3
   },
   "file_extension": ".py",
   "mimetype": "text/x-python",
   "name": "python",
   "nbconvert_exporter": "python",
   "pygments_lexer": "ipython3",
   "version": "3.9.2"
  }
 },
 "nbformat": 4,
 "nbformat_minor": 5
}
