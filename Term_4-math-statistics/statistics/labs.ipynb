{
 "cells": [
  {
   "cell_type": "code",
   "execution_count": 1,
   "id": "capable-harvey",
   "metadata": {},
   "outputs": [],
   "source": [
    "import numpy as np\n",
    "import pandas as pd\n",
    "import random\n",
    "from numpy.random import rand\n",
    "import matplotlib.pyplot as plt\n",
    "from scipy.interpolate import make_interp_spline"
   ]
  },
  {
   "cell_type": "code",
   "execution_count": 2,
   "id": "adequate-rubber",
   "metadata": {},
   "outputs": [],
   "source": [
    "a = 0\n",
    "b = np.pi/4\n",
    "L, R = 0, 1\n",
    "def fi(x): \n",
    "    return np.tan(x)\n",
    "def X():\n",
    "    return a + (b-a) * rand()\n",
    "def Y(x):\n",
    "    return fi(x)"
   ]
  },
  {
   "cell_type": "code",
   "execution_count": null,
   "id": "conscious-canada",
   "metadata": {},
   "outputs": [],
   "source": []
  },
  {
   "cell_type": "markdown",
   "id": "abroad-thanksgiving",
   "metadata": {},
   "source": [
    "## Lab 1"
   ]
  },
  {
   "cell_type": "code",
   "execution_count": 3,
   "id": "respective-moderator",
   "metadata": {},
   "outputs": [],
   "source": [
    "n = 30\n",
    "def make_samples(n):\n",
    "    x_sample = np.array([X() for i in range(n)])\n",
    "    y_sample = Y(x_sample)\n",
    "    y_sample.sort()\n",
    "    return x_sample, y_sample"
   ]
  },
  {
   "cell_type": "markdown",
   "id": "relative-zambia",
   "metadata": {},
   "source": [
    "### params of continious uniform distribution X"
   ]
  },
  {
   "cell_type": "code",
   "execution_count": 4,
   "id": "painted-celebration",
   "metadata": {},
   "outputs": [
    {
     "name": "stdout",
     "output_type": "stream",
     "text": [
      "theoretical mean of X: 0.3927\n",
      "theoretical std of X: 0.0514\n"
     ]
    }
   ],
   "source": [
    "def uniform_mean(a, b):\n",
    "    return (a + b) / 2\n",
    "\n",
    "def uniform_std(a, b):\n",
    "    return (b - a)**2 / 12\n",
    "\n",
    "def M_uni():\n",
    "    return uniform_mean(a, b)\n",
    "\n",
    "def D_uni():\n",
    "    return uniform_std(a, b)\n",
    "\n",
    "x_mean = M_uni()\n",
    "x_std = D_uni()\n",
    "print(f'theoretical mean of X: {round(x_mean, 4)}')\n",
    "print(f'theoretical std of X: {round(x_std, 4)}')"
   ]
  },
  {
   "cell_type": "markdown",
   "id": "improving-government",
   "metadata": {},
   "source": [
    "### theoretical distribution function, density function"
   ]
  },
  {
   "cell_type": "code",
   "execution_count": 5,
   "id": "prompt-michael",
   "metadata": {},
   "outputs": [
    {
     "name": "stdout",
     "output_type": "stream",
     "text": [
      "New interval: (0.0, 0.9999999999999999)\n"
     ]
    }
   ],
   "source": [
    "a_Y = Y(a)\n",
    "b_Y = Y(b)\n",
    "print(f'New interval: {(a_Y, b_Y)}')\n",
    "\n",
    "\n",
    "def F(y):\n",
    "    if y < a_Y: return 0\n",
    "    if a_Y <= y < b_Y: return 4 / np.pi * np.arctan(y)\n",
    "    if y > b_Y: return 1\n",
    "\n",
    "    \n",
    "def f(y):\n",
    "    if a_Y < y < b_Y: return 4 / (np.pi * (1 + y**2))\n",
    "    return 0"
   ]
  },
  {
   "cell_type": "code",
   "execution_count": 6,
   "id": "becoming-solid",
   "metadata": {},
   "outputs": [
    {
     "data": {
      "image/png": "[encoded data removed]",
      "text/plain": [
       "<Figure size 720x576 with 1 Axes>"
      ]
     },
     "metadata": {
      "needs_background": "light"
     },
     "output_type": "display_data"
    }
   ],
   "source": [
    "dots_count = 10**3\n",
    "x_dots = np.linspace(a_Y-1, b_Y+1, dots_count)\n",
    "y_dots = [F(x) for x in x_dots]\n",
    "plt.rcParams[\"figure.figsize\"] = (10, 8)\n",
    "plt.plot(x_dots, y_dots, linewidth=4, label='theoretical distribution function');\n",
    "plt.legend();"
   ]
  },
  {
   "cell_type": "code",
   "execution_count": null,
   "id": "gothic-macedonia",
   "metadata": {},
   "outputs": [],
   "source": []
  },
  {
   "cell_type": "markdown",
   "id": "tropical-aside",
   "metadata": {},
   "source": [
    "### imperical distribution function"
   ]
  },
  {
   "cell_type": "markdown",
   "id": "parallel-joint",
   "metadata": {},
   "source": [
    "#### get sample"
   ]
  },
  {
   "cell_type": "code",
   "execution_count": 7,
   "id": "interracial-stone",
   "metadata": {},
   "outputs": [],
   "source": [
    "sample = make_samples(n)[1]"
   ]
  },
  {
   "cell_type": "code",
   "execution_count": 176,
   "id": "million-hardwood",
   "metadata": {},
   "outputs": [
    {
     "name": "stdout",
     "output_type": "stream",
     "text": [
      "imperical mean = 0.439117174057388\n",
      "imperical std = 0.4586716933552438\n"
     ]
    }
   ],
   "source": [
    "def generate_samples(n, sample):\n",
    "    n = len(sample)\n",
    "    sample = list(sample)\n",
    "    y_sample = [-1, sample[0]] + sample + [1, 2]\n",
    "    emperic = [0, 0] + list([(i)/n for i in range(n)]) + [1, 1]\n",
    "    return y_sample, emperic\n",
    "\n",
    "generated = generate_samples(n, sample)\n",
    "\n",
    "print(f'imperical mean = {np.mean(generated[0])}')\n",
    "print(f'imperical std = {np.std(generated[0])}')\n",
    "\n",
    "def update(N=n):\n",
    "    global generated, sample\n",
    "    sample = make_samples(n)[1]\n",
    "    generated = generate_samples(N, sample)"
   ]
  },
  {
   "cell_type": "code",
   "execution_count": 9,
   "id": "armed-individual",
   "metadata": {},
   "outputs": [
    {
     "data": {
      "text/html": [
       "<div>\n",
       "<style scoped>\n",
       "    .dataframe tbody tr th:only-of-type {\n",
       "        vertical-align: middle;\n",
       "    }\n",
       "\n",
       "    .dataframe tbody tr th {\n",
       "        vertical-align: top;\n",
       "    }\n",
       "\n",
       "    .dataframe thead th {\n",
       "        text-align: right;\n",
       "    }\n",
       "</style>\n",
       "<table border=\"1\" class=\"dataframe\">\n",
       "  <thead>\n",
       "    <tr style=\"text-align: right;\">\n",
       "      <th></th>\n",
       "      <th>x</th>\n",
       "      <th>y</th>\n",
       "    </tr>\n",
       "  </thead>\n",
       "  <tbody>\n",
       "    <tr>\n",
       "      <th>0</th>\n",
       "      <td>-1.000000</td>\n",
       "      <td>0.000000</td>\n",
       "    </tr>\n",
       "    <tr>\n",
       "      <th>1</th>\n",
       "      <td>0.004011</td>\n",
       "      <td>0.000000</td>\n",
       "    </tr>\n",
       "    <tr>\n",
       "      <th>2</th>\n",
       "      <td>0.004011</td>\n",
       "      <td>0.000000</td>\n",
       "    </tr>\n",
       "    <tr>\n",
       "      <th>3</th>\n",
       "      <td>0.025880</td>\n",
       "      <td>0.033333</td>\n",
       "    </tr>\n",
       "    <tr>\n",
       "      <th>4</th>\n",
       "      <td>0.036679</td>\n",
       "      <td>0.066667</td>\n",
       "    </tr>\n",
       "  </tbody>\n",
       "</table>\n",
       "</div>"
      ],
      "text/plain": [
       "          x         y\n",
       "0 -1.000000  0.000000\n",
       "1  0.004011  0.000000\n",
       "2  0.004011  0.000000\n",
       "3  0.025880  0.033333\n",
       "4  0.036679  0.066667"
      ]
     },
     "execution_count": 9,
     "metadata": {},
     "output_type": "execute_result"
    }
   ],
   "source": [
    "data = pd.DataFrame(data={'x':generated[0], 'y':generated[1]})\n",
    "data.head()"
   ]
  },
  {
   "cell_type": "code",
   "execution_count": 10,
   "id": "dependent-sucking",
   "metadata": {},
   "outputs": [
    {
     "data": {
      "image/png": "[encoded data removed]",
      "text/plain": [
       "<Figure size 720x576 with 1 Axes>"
      ]
     },
     "metadata": {
      "needs_background": "light"
     },
     "output_type": "display_data"
    }
   ],
   "source": [
    "plt.rcParams[\"figure.figsize\"] = (10, 8)\n",
    "plt.plot(x_dots, y_dots, linewidth=4, label='theoretical distribution function');\n",
    "plt.plot(generated[0], generated[1], linewidth=2, color='orange')\n",
    "plt.step(generated[0], generated[1], linewidth=2, color='red', label='imperical destribution function')\n",
    "plt.legend();"
   ]
  },
  {
   "cell_type": "code",
   "execution_count": null,
   "id": "fresh-delight",
   "metadata": {},
   "outputs": [],
   "source": []
  },
  {
   "cell_type": "code",
   "execution_count": null,
   "id": "missing-springer",
   "metadata": {},
   "outputs": [],
   "source": []
  },
  {
   "cell_type": "code",
   "execution_count": null,
   "id": "minor-seattle",
   "metadata": {},
   "outputs": [],
   "source": []
  },
  {
   "cell_type": "code",
   "execution_count": null,
   "id": "optimum-flight",
   "metadata": {},
   "outputs": [],
   "source": []
  },
  {
   "cell_type": "code",
   "execution_count": null,
   "id": "middle-virginia",
   "metadata": {},
   "outputs": [],
   "source": []
  },
  {
   "cell_type": "markdown",
   "id": "optional-architecture",
   "metadata": {},
   "source": [
    "## Lab 2"
   ]
  },
  {
   "cell_type": "markdown",
   "id": "broad-event",
   "metadata": {},
   "source": [
    "## building histograms"
   ]
  },
  {
   "cell_type": "code",
   "execution_count": null,
   "id": "greatest-fundamentals",
   "metadata": {},
   "outputs": [],
   "source": []
  },
  {
   "cell_type": "code",
   "execution_count": 11,
   "id": "median-brush",
   "metadata": {},
   "outputs": [],
   "source": [
    "def build_histogram(sample, equidistand=True, bins=None):\n",
    "    k = bins\n",
    "    n = len(sample)\n",
    "    M = None\n",
    "    if k is None:\n",
    "        if n <= 100:\n",
    "            k = int(np.sqrt(n))\n",
    "        else:\n",
    "            k = 1 + int(3.322 * np.log10(n))\n",
    "\n",
    "    hist = pd.DataFrame(columns=['Ai', 'Bi', 'v', 'hi', 'fi', 'mid', 'nums'])\n",
    "    x_1, x_n = sample[0] - 0.00001, sample[-1] + 0.00001\n",
    "    h = (x_n - x_1) / k\n",
    "\n",
    "    def get_new_A_equdist(i):\n",
    "        return x_1 + (i - 1) * h\n",
    "\n",
    "    def get_new_A_not_equdist(i, prev_segment):\n",
    "\n",
    "        if i == 1:\n",
    "            return x_1\n",
    "        left_border, right_border = prev_segment, None\n",
    "        segment = intervals / k\n",
    "        if i == 2:\n",
    "            left_border = 0\n",
    "        right_border = left_border + segment\n",
    "        diff_part = right_border - int(right_border)\n",
    "        index_for_B = int(right_border)\n",
    "        B = (sample[index_for_B + 1] - sample[index_for_B]) * diff_part + sample[index_for_B]\n",
    "\n",
    "        return B, right_border\n",
    "\n",
    "    if equidistand:\n",
    "\n",
    "\n",
    "        iter = 0\n",
    "        saved_for_next = 0\n",
    "        for i in range(1, k + 1):\n",
    "            A = get_new_A_equdist(i)\n",
    "            B = get_new_A_equdist(i + 1)\n",
    "            mid = (B + A) / 2\n",
    "\n",
    "            v = saved_for_next  # frequency\n",
    "            saved_for_next = 0\n",
    "            nums = []\n",
    "            while (iter < n) and (sample[iter] <= B):\n",
    "                nums.append(sample[iter])\n",
    "                if sample[iter] == B:\n",
    "                    v += 0.5\n",
    "                    saved_for_next += 0.5\n",
    "                else:\n",
    "                    v += 1\n",
    "                iter += 1\n",
    "\n",
    "            if iter == n-1:\n",
    "                v += saved_for_next\n",
    "\n",
    "            fi = v / (n * h)\n",
    "            hist.loc[i] = [A, B, v, h, fi, mid, nums]\n",
    "\n",
    "        return hist\n",
    "\n",
    "    else:\n",
    "        if k > n - 1:\n",
    "            if n <= 100:\n",
    "                k = int(np.sqrt(n))\n",
    "            else:\n",
    "                k = 1 + int(3.322 * np.log10(n))\n",
    "        intervals = n-1\n",
    "        segments = intervals / k\n",
    "        prev_segment = None\n",
    "        A, B = None, None\n",
    "        iter = 0\n",
    "        for i in range(1, k + 1):\n",
    "            if i == 1:\n",
    "                A = get_new_A_not_equdist(1, None)\n",
    "            else:\n",
    "                A = B\n",
    "            if i == k:\n",
    "                B = x_n\n",
    "            else:\n",
    "                B, prev_segment = get_new_A_not_equdist(i+1, prev_segment)\n",
    "\n",
    "            h = B - A\n",
    "            mid = (A + B) / 2\n",
    "            v = 0\n",
    "            nums = []\n",
    "            while (iter < n) and (sample[iter] < B):\n",
    "                nums.append(sample[iter])\n",
    "                v += 1\n",
    "                iter += 1\n",
    "\n",
    "            fi = (v * (x_n-x_1)) / (n * h)\n",
    "            hist.loc[i] = [A, B, v, h, fi, mid, nums]\n",
    "\n",
    "        return hist"
   ]
  },
  {
   "cell_type": "code",
   "execution_count": 12,
   "id": "coupled-google",
   "metadata": {},
   "outputs": [],
   "source": [
    "def draw_hist(hist_data):\n",
    "    x = []\n",
    "    y = []\n",
    "    for i in range(1, hist_data.shape[0]+1):\n",
    "        x.append(hist_data.loc[i, 'Ai'])\n",
    "        y.append(0)\n",
    "        x.append(hist_data.loc[i, 'Ai'])\n",
    "        y.append(hist_data.loc[i, 'fi'])\n",
    "        x.append(hist_data.loc[i, 'Bi'])\n",
    "        y.append(hist_data.loc[i, 'fi'])\n",
    "    x.append(hist_data.loc[hist_data.shape[0], 'Bi'])\n",
    "    y.append(0)\n",
    "    return x, y\n",
    "\n",
    "\n",
    "def get_hist_points(hist_data):\n",
    "    x, y = draw_hist(hist_data)\n",
    "    return x, y\n",
    "\n",
    "def get_polygon_points(hist_data):\n",
    "    x = []\n",
    "    y = []\n",
    "    for i in range(1, hist_data.shape[0]+1):\n",
    "        x.append(hist_data.loc[i, 'mid'])\n",
    "        y.append(hist_data.loc[i, 'fi'])\n",
    "    return x, y"
   ]
  },
  {
   "cell_type": "markdown",
   "id": "modular-parent",
   "metadata": {},
   "source": [
    "## histogram and polygon draw functions"
   ]
  },
  {
   "cell_type": "code",
   "execution_count": 13,
   "id": "homeless-tractor",
   "metadata": {},
   "outputs": [],
   "source": [
    "def draw_histogram_plot(x, y, label_hist='histogram'):\n",
    "    plt.plot(x, y, label=label_hist)\n",
    "    plt.show()\n",
    "def draw_polygon_plot(x, y, label_poly='polygon'):\n",
    "    plt.plot(x, y, label = label_poly)\n",
    "    plt.show()"
   ]
  },
  {
   "cell_type": "markdown",
   "id": "spoken-ordering",
   "metadata": {},
   "source": [
    "## Equal intervals histogram & polygon"
   ]
  },
  {
   "cell_type": "code",
   "execution_count": 14,
   "id": "opponent-engineer",
   "metadata": {},
   "outputs": [
    {
     "data": {
      "text/html": [
       "<div>\n",
       "<style scoped>\n",
       "    .dataframe tbody tr th:only-of-type {\n",
       "        vertical-align: middle;\n",
       "    }\n",
       "\n",
       "    .dataframe tbody tr th {\n",
       "        vertical-align: top;\n",
       "    }\n",
       "\n",
       "    .dataframe thead th {\n",
       "        text-align: right;\n",
       "    }\n",
       "</style>\n",
       "<table border=\"1\" class=\"dataframe\">\n",
       "  <thead>\n",
       "    <tr style=\"text-align: right;\">\n",
       "      <th></th>\n",
       "      <th>Ai</th>\n",
       "      <th>Bi</th>\n",
       "      <th>v</th>\n",
       "      <th>hi</th>\n",
       "      <th>fi</th>\n",
       "      <th>mid</th>\n",
       "      <th>nums</th>\n",
       "    </tr>\n",
       "  </thead>\n",
       "  <tbody>\n",
       "    <tr>\n",
       "      <th>1</th>\n",
       "      <td>0.004001</td>\n",
       "      <td>0.180266</td>\n",
       "      <td>7</td>\n",
       "      <td>0.176266</td>\n",
       "      <td>1.323760</td>\n",
       "      <td>0.092134</td>\n",
       "      <td>[0.004010929405708287, 0.02587963924234155, 0....</td>\n",
       "    </tr>\n",
       "    <tr>\n",
       "      <th>2</th>\n",
       "      <td>0.180266</td>\n",
       "      <td>0.356532</td>\n",
       "      <td>6</td>\n",
       "      <td>0.176266</td>\n",
       "      <td>1.134652</td>\n",
       "      <td>0.268399</td>\n",
       "      <td>[0.2091953972011891, 0.23644837372464775, 0.29...</td>\n",
       "    </tr>\n",
       "    <tr>\n",
       "      <th>3</th>\n",
       "      <td>0.356532</td>\n",
       "      <td>0.532798</td>\n",
       "      <td>6</td>\n",
       "      <td>0.176266</td>\n",
       "      <td>1.134652</td>\n",
       "      <td>0.444665</td>\n",
       "      <td>[0.38367926819294146, 0.39010232232013015, 0.3...</td>\n",
       "    </tr>\n",
       "    <tr>\n",
       "      <th>4</th>\n",
       "      <td>0.532798</td>\n",
       "      <td>0.709063</td>\n",
       "      <td>5</td>\n",
       "      <td>0.176266</td>\n",
       "      <td>0.945543</td>\n",
       "      <td>0.620930</td>\n",
       "      <td>[0.5830274170846007, 0.5899222204031103, 0.603...</td>\n",
       "    </tr>\n",
       "    <tr>\n",
       "      <th>5</th>\n",
       "      <td>0.709063</td>\n",
       "      <td>0.885329</td>\n",
       "      <td>6</td>\n",
       "      <td>0.176266</td>\n",
       "      <td>1.134652</td>\n",
       "      <td>0.797196</td>\n",
       "      <td>[0.7422382219398509, 0.78529316959072, 0.79121...</td>\n",
       "    </tr>\n",
       "  </tbody>\n",
       "</table>\n",
       "</div>"
      ],
      "text/plain": [
       "         Ai        Bi  v        hi        fi       mid  \\\n",
       "1  0.004001  0.180266  7  0.176266  1.323760  0.092134   \n",
       "2  0.180266  0.356532  6  0.176266  1.134652  0.268399   \n",
       "3  0.356532  0.532798  6  0.176266  1.134652  0.444665   \n",
       "4  0.532798  0.709063  5  0.176266  0.945543  0.620930   \n",
       "5  0.709063  0.885329  6  0.176266  1.134652  0.797196   \n",
       "\n",
       "                                                nums  \n",
       "1  [0.004010929405708287, 0.02587963924234155, 0....  \n",
       "2  [0.2091953972011891, 0.23644837372464775, 0.29...  \n",
       "3  [0.38367926819294146, 0.39010232232013015, 0.3...  \n",
       "4  [0.5830274170846007, 0.5899222204031103, 0.603...  \n",
       "5  [0.7422382219398509, 0.78529316959072, 0.79121...  "
      ]
     },
     "execution_count": 14,
     "metadata": {},
     "output_type": "execute_result"
    }
   ],
   "source": [
    "hist_data_equal = build_histogram(sample)\n",
    "hist_data_equal"
   ]
  },
  {
   "cell_type": "markdown",
   "id": "lucky-thermal",
   "metadata": {},
   "source": [
    "### drawing equal intervals histogram and polygon"
   ]
  },
  {
   "cell_type": "markdown",
   "id": "harmful-primary",
   "metadata": {},
   "source": [
    "#### get points "
   ]
  },
  {
   "cell_type": "code",
   "execution_count": 15,
   "id": "expressed-politics",
   "metadata": {},
   "outputs": [],
   "source": [
    "x_hist_equal, y_hist_equal = get_hist_points(hist_data_equal)\n",
    "x_poly_equal, y_poly_equal = get_polygon_points(hist_data_equal)"
   ]
  },
  {
   "cell_type": "code",
   "execution_count": 16,
   "id": "capable-madness",
   "metadata": {},
   "outputs": [
    {
     "data": {
      "text/plain": [
       "<matplotlib.legend.Legend at 0x1271de970>"
      ]
     },
     "execution_count": 16,
     "metadata": {},
     "output_type": "execute_result"
    },
    {
     "data": {
      "image/png": "[encoded data removed]",
      "text/plain": [
       "<Figure size 720x576 with 1 Axes>"
      ]
     },
     "metadata": {
      "needs_background": "light"
     },
     "output_type": "display_data"
    }
   ],
   "source": [
    "plt.plot(x_hist_equal, y_hist_equal, label='histogram equal intervals')\n",
    "plt.plot(x_poly_equal, y_poly_equal, label ='polygon equal intervals')\n",
    "plt.legend()"
   ]
  },
  {
   "cell_type": "markdown",
   "id": "forbidden-screening",
   "metadata": {},
   "source": [
    "## Equal probabilities histogram & polygon"
   ]
  },
  {
   "cell_type": "code",
   "execution_count": 17,
   "id": "photographic-brighton",
   "metadata": {},
   "outputs": [],
   "source": [
    "hist_data_prob = build_histogram(sample, equidistand=False)\n",
    "x_hist_prob, y_hist_prob = get_hist_points(hist_data_prob)\n",
    "x_poly_prob, y_poly_prob = get_polygon_points(hist_data_prob)"
   ]
  },
  {
   "cell_type": "code",
   "execution_count": 18,
   "id": "demographic-science",
   "metadata": {},
   "outputs": [
    {
     "data": {
      "text/html": [
       "<div>\n",
       "<style scoped>\n",
       "    .dataframe tbody tr th:only-of-type {\n",
       "        vertical-align: middle;\n",
       "    }\n",
       "\n",
       "    .dataframe tbody tr th {\n",
       "        vertical-align: top;\n",
       "    }\n",
       "\n",
       "    .dataframe thead th {\n",
       "        text-align: right;\n",
       "    }\n",
       "</style>\n",
       "<table border=\"1\" class=\"dataframe\">\n",
       "  <thead>\n",
       "    <tr style=\"text-align: right;\">\n",
       "      <th></th>\n",
       "      <th>Ai</th>\n",
       "      <th>Bi</th>\n",
       "      <th>v</th>\n",
       "      <th>hi</th>\n",
       "      <th>fi</th>\n",
       "      <th>mid</th>\n",
       "      <th>nums</th>\n",
       "    </tr>\n",
       "  </thead>\n",
       "  <tbody>\n",
       "    <tr>\n",
       "      <th>1</th>\n",
       "      <td>0.004001</td>\n",
       "      <td>0.163379</td>\n",
       "      <td>6</td>\n",
       "      <td>0.159378</td>\n",
       "      <td>1.105957</td>\n",
       "      <td>0.083690</td>\n",
       "      <td>[0.004010929405708287, 0.02587963924234155, 0....</td>\n",
       "    </tr>\n",
       "    <tr>\n",
       "      <th>2</th>\n",
       "      <td>0.163379</td>\n",
       "      <td>0.344935</td>\n",
       "      <td>6</td>\n",
       "      <td>0.181556</td>\n",
       "      <td>0.970860</td>\n",
       "      <td>0.254157</td>\n",
       "      <td>[0.17048247086392926, 0.2091953972011891, 0.23...</td>\n",
       "    </tr>\n",
       "    <tr>\n",
       "      <th>3</th>\n",
       "      <td>0.344935</td>\n",
       "      <td>0.499129</td>\n",
       "      <td>6</td>\n",
       "      <td>0.154194</td>\n",
       "      <td>1.143144</td>\n",
       "      <td>0.422032</td>\n",
       "      <td>[0.35148998095330625, 0.38367926819294146, 0.3...</td>\n",
       "    </tr>\n",
       "    <tr>\n",
       "      <th>4</th>\n",
       "      <td>0.499129</td>\n",
       "      <td>0.709314</td>\n",
       "      <td>6</td>\n",
       "      <td>0.210185</td>\n",
       "      <td>0.838622</td>\n",
       "      <td>0.604221</td>\n",
       "      <td>[0.5301231142238473, 0.5830274170846007, 0.589...</td>\n",
       "    </tr>\n",
       "    <tr>\n",
       "      <th>5</th>\n",
       "      <td>0.709314</td>\n",
       "      <td>0.885329</td>\n",
       "      <td>6</td>\n",
       "      <td>0.176015</td>\n",
       "      <td>1.001424</td>\n",
       "      <td>0.797321</td>\n",
       "      <td>[0.7422382219398509, 0.78529316959072, 0.79121...</td>\n",
       "    </tr>\n",
       "  </tbody>\n",
       "</table>\n",
       "</div>"
      ],
      "text/plain": [
       "         Ai        Bi  v        hi        fi       mid  \\\n",
       "1  0.004001  0.163379  6  0.159378  1.105957  0.083690   \n",
       "2  0.163379  0.344935  6  0.181556  0.970860  0.254157   \n",
       "3  0.344935  0.499129  6  0.154194  1.143144  0.422032   \n",
       "4  0.499129  0.709314  6  0.210185  0.838622  0.604221   \n",
       "5  0.709314  0.885329  6  0.176015  1.001424  0.797321   \n",
       "\n",
       "                                                nums  \n",
       "1  [0.004010929405708287, 0.02587963924234155, 0....  \n",
       "2  [0.17048247086392926, 0.2091953972011891, 0.23...  \n",
       "3  [0.35148998095330625, 0.38367926819294146, 0.3...  \n",
       "4  [0.5301231142238473, 0.5830274170846007, 0.589...  \n",
       "5  [0.7422382219398509, 0.78529316959072, 0.79121...  "
      ]
     },
     "execution_count": 18,
     "metadata": {},
     "output_type": "execute_result"
    }
   ],
   "source": [
    "hist_data_prob"
   ]
  },
  {
   "cell_type": "code",
   "execution_count": null,
   "id": "determined-rouge",
   "metadata": {},
   "outputs": [],
   "source": []
  },
  {
   "cell_type": "markdown",
   "id": "divine-script",
   "metadata": {},
   "source": [
    "### drawing equal probability histogram and polygon"
   ]
  },
  {
   "cell_type": "code",
   "execution_count": 19,
   "id": "dated-bangladesh",
   "metadata": {},
   "outputs": [
    {
     "data": {
      "text/plain": [
       "<matplotlib.legend.Legend at 0x1271512e0>"
      ]
     },
     "execution_count": 19,
     "metadata": {},
     "output_type": "execute_result"
    },
    {
     "data": {
      "image/png": "[encoded data removed]",
      "text/plain": [
       "<Figure size 720x576 with 1 Axes>"
      ]
     },
     "metadata": {
      "needs_background": "light"
     },
     "output_type": "display_data"
    }
   ],
   "source": [
    "plt.plot(x_hist_prob, y_hist_prob, label='histogram equal probability')\n",
    "plt.plot(x_poly_prob, y_poly_prob, label ='polygon equal probability')\n",
    "plt.legend()"
   ]
  },
  {
   "cell_type": "markdown",
   "id": "effective-blair",
   "metadata": {},
   "source": [
    "### comparing intervals and probability histograms"
   ]
  },
  {
   "cell_type": "code",
   "execution_count": 20,
   "id": "graphic-attraction",
   "metadata": {},
   "outputs": [
    {
     "data": {
      "text/plain": [
       "<matplotlib.legend.Legend at 0x126f96d30>"
      ]
     },
     "execution_count": 20,
     "metadata": {},
     "output_type": "execute_result"
    },
    {
     "data": {
      "image/png": "[encoded data removed]",
      "text/plain": [
       "<Figure size 720x576 with 1 Axes>"
      ]
     },
     "metadata": {
      "needs_background": "light"
     },
     "output_type": "display_data"
    }
   ],
   "source": [
    "plt.plot(x_hist_prob, y_hist_prob, color='red', label='histogram equal probability')\n",
    "# plt.plot(x_poly_prob, y_poly_prob, color='red', label ='polygon equal probability')\n",
    "plt.plot(x_hist_equal, y_hist_equal, color='blue', label='histogram equal intervals', alpha=.3)\n",
    "# plt.plot(x_poly_equal, y_poly_equal, color='blue', label ='polygon equal intervals', alpha=.3)\n",
    "\n",
    "plt.legend()"
   ]
  },
  {
   "cell_type": "code",
   "execution_count": null,
   "id": "southern-camcorder",
   "metadata": {},
   "outputs": [],
   "source": []
  },
  {
   "cell_type": "code",
   "execution_count": null,
   "id": "familiar-comparison",
   "metadata": {},
   "outputs": [],
   "source": []
  },
  {
   "cell_type": "markdown",
   "id": "younger-territory",
   "metadata": {},
   "source": [
    "## group data for distribution function intervals"
   ]
  },
  {
   "cell_type": "code",
   "execution_count": 21,
   "id": "generic-sender",
   "metadata": {},
   "outputs": [],
   "source": [
    "def get_gropued_data(hist_data):\n",
    "    sample = list(hist_data['Ai']) + [hist_data.iloc[-1, 1]]\n",
    "    n = len(sample)\n",
    "    y_sample = [-1, sample[0]] + sample + [1, 2]\n",
    "    emperic = [0, 0] + list([(i)/n for i in range(n)]) + [1, 1]\n",
    "    return y_sample, emperic"
   ]
  },
  {
   "cell_type": "code",
   "execution_count": 22,
   "id": "apart-return",
   "metadata": {},
   "outputs": [],
   "source": [
    "grouped_data_equal = get_gropued_data(hist_data_equal)"
   ]
  },
  {
   "cell_type": "code",
   "execution_count": 23,
   "id": "acceptable-rugby",
   "metadata": {},
   "outputs": [
    {
     "data": {
      "text/html": [
       "<div>\n",
       "<style scoped>\n",
       "    .dataframe tbody tr th:only-of-type {\n",
       "        vertical-align: middle;\n",
       "    }\n",
       "\n",
       "    .dataframe tbody tr th {\n",
       "        vertical-align: top;\n",
       "    }\n",
       "\n",
       "    .dataframe thead th {\n",
       "        text-align: right;\n",
       "    }\n",
       "</style>\n",
       "<table border=\"1\" class=\"dataframe\">\n",
       "  <thead>\n",
       "    <tr style=\"text-align: right;\">\n",
       "      <th></th>\n",
       "      <th>x</th>\n",
       "      <th>y</th>\n",
       "    </tr>\n",
       "  </thead>\n",
       "  <tbody>\n",
       "    <tr>\n",
       "      <th>0</th>\n",
       "      <td>-1.000000</td>\n",
       "      <td>0.000000</td>\n",
       "    </tr>\n",
       "    <tr>\n",
       "      <th>1</th>\n",
       "      <td>0.004001</td>\n",
       "      <td>0.000000</td>\n",
       "    </tr>\n",
       "    <tr>\n",
       "      <th>2</th>\n",
       "      <td>0.004001</td>\n",
       "      <td>0.000000</td>\n",
       "    </tr>\n",
       "    <tr>\n",
       "      <th>3</th>\n",
       "      <td>0.180266</td>\n",
       "      <td>0.166667</td>\n",
       "    </tr>\n",
       "    <tr>\n",
       "      <th>4</th>\n",
       "      <td>0.356532</td>\n",
       "      <td>0.333333</td>\n",
       "    </tr>\n",
       "  </tbody>\n",
       "</table>\n",
       "</div>"
      ],
      "text/plain": [
       "          x         y\n",
       "0 -1.000000  0.000000\n",
       "1  0.004001  0.000000\n",
       "2  0.004001  0.000000\n",
       "3  0.180266  0.166667\n",
       "4  0.356532  0.333333"
      ]
     },
     "execution_count": 23,
     "metadata": {},
     "output_type": "execute_result"
    }
   ],
   "source": [
    "grouped_df_equal = pd.DataFrame(data={'x':grouped_data_equal[0], 'y':grouped_data_equal[1]})\n",
    "grouped_df_equal.head()"
   ]
  },
  {
   "cell_type": "code",
   "execution_count": 24,
   "id": "stylish-mouth",
   "metadata": {},
   "outputs": [
    {
     "data": {
      "image/png": "[encoded data removed]",
      "text/plain": [
       "<Figure size 720x576 with 1 Axes>"
      ]
     },
     "metadata": {
      "needs_background": "light"
     },
     "output_type": "display_data"
    }
   ],
   "source": [
    "plt.rcParams[\"figure.figsize\"] = (10, 8)\n",
    "plt.plot(x_dots, y_dots, linewidth=4, label='theoretical distribution function');\n",
    "plt.plot(grouped_data_equal[0], grouped_data_equal[1], linewidth=2, color='orange', label='smoothed grouped destribution function')\n",
    "plt.step(grouped_data_equal[0], grouped_data_equal[1], linewidth=2, color='red', label='imperical grouped destribution function')\n",
    "plt.legend();"
   ]
  },
  {
   "cell_type": "code",
   "execution_count": null,
   "id": "satisfied-retirement",
   "metadata": {},
   "outputs": [],
   "source": []
  },
  {
   "cell_type": "markdown",
   "id": "demonstrated-original",
   "metadata": {},
   "source": [
    "## group data for distribution function probability"
   ]
  },
  {
   "cell_type": "code",
   "execution_count": 25,
   "id": "final-preserve",
   "metadata": {},
   "outputs": [],
   "source": [
    "grouped_data_prob = get_gropued_data(hist_data_prob)"
   ]
  },
  {
   "cell_type": "code",
   "execution_count": 26,
   "id": "general-apartment",
   "metadata": {},
   "outputs": [
    {
     "data": {
      "text/html": [
       "<div>\n",
       "<style scoped>\n",
       "    .dataframe tbody tr th:only-of-type {\n",
       "        vertical-align: middle;\n",
       "    }\n",
       "\n",
       "    .dataframe tbody tr th {\n",
       "        vertical-align: top;\n",
       "    }\n",
       "\n",
       "    .dataframe thead th {\n",
       "        text-align: right;\n",
       "    }\n",
       "</style>\n",
       "<table border=\"1\" class=\"dataframe\">\n",
       "  <thead>\n",
       "    <tr style=\"text-align: right;\">\n",
       "      <th></th>\n",
       "      <th>x</th>\n",
       "      <th>y</th>\n",
       "    </tr>\n",
       "  </thead>\n",
       "  <tbody>\n",
       "    <tr>\n",
       "      <th>0</th>\n",
       "      <td>-1.000000</td>\n",
       "      <td>0.000000</td>\n",
       "    </tr>\n",
       "    <tr>\n",
       "      <th>1</th>\n",
       "      <td>0.004001</td>\n",
       "      <td>0.000000</td>\n",
       "    </tr>\n",
       "    <tr>\n",
       "      <th>2</th>\n",
       "      <td>0.004001</td>\n",
       "      <td>0.000000</td>\n",
       "    </tr>\n",
       "    <tr>\n",
       "      <th>3</th>\n",
       "      <td>0.163379</td>\n",
       "      <td>0.166667</td>\n",
       "    </tr>\n",
       "    <tr>\n",
       "      <th>4</th>\n",
       "      <td>0.344935</td>\n",
       "      <td>0.333333</td>\n",
       "    </tr>\n",
       "  </tbody>\n",
       "</table>\n",
       "</div>"
      ],
      "text/plain": [
       "          x         y\n",
       "0 -1.000000  0.000000\n",
       "1  0.004001  0.000000\n",
       "2  0.004001  0.000000\n",
       "3  0.163379  0.166667\n",
       "4  0.344935  0.333333"
      ]
     },
     "execution_count": 26,
     "metadata": {},
     "output_type": "execute_result"
    }
   ],
   "source": [
    "grouped_df_prob = pd.DataFrame(data={'x':grouped_data_prob[0], 'y':grouped_data_prob[1]})\n",
    "grouped_df_prob.head()"
   ]
  },
  {
   "cell_type": "code",
   "execution_count": 27,
   "id": "broken-weekly",
   "metadata": {},
   "outputs": [
    {
     "data": {
      "image/png": "[encoded data removed]",
      "text/plain": [
       "<Figure size 720x576 with 1 Axes>"
      ]
     },
     "metadata": {
      "needs_background": "light"
     },
     "output_type": "display_data"
    }
   ],
   "source": [
    "plt.rcParams[\"figure.figsize\"] = (10, 8)\n",
    "plt.plot(x_dots, y_dots, linewidth=4, label='theoretical distribution function');\n",
    "plt.plot(grouped_data_prob[0], grouped_data_prob[1], linewidth=2, color='orange', label='smoothed grouped destribution function')\n",
    "plt.step(grouped_data_prob[0], grouped_data_prob[1], linewidth=2, color='red', label='imperical grouped destribution function')\n",
    "plt.legend();"
   ]
  },
  {
   "cell_type": "code",
   "execution_count": null,
   "id": "dutch-couple",
   "metadata": {},
   "outputs": [],
   "source": []
  },
  {
   "cell_type": "markdown",
   "id": "nearby-vitamin",
   "metadata": {},
   "source": [
    "### probabilty and intervals distribution functions"
   ]
  },
  {
   "cell_type": "code",
   "execution_count": null,
   "id": "recent-arrest",
   "metadata": {},
   "outputs": [],
   "source": []
  },
  {
   "cell_type": "code",
   "execution_count": 28,
   "id": "direct-defendant",
   "metadata": {},
   "outputs": [
    {
     "data": {
      "text/plain": [
       "<matplotlib.legend.Legend at 0x1272f6bb0>"
      ]
     },
     "execution_count": 28,
     "metadata": {},
     "output_type": "execute_result"
    },
    {
     "data": {
      "image/png": "[encoded data removed]",
      "text/plain": [
       "<Figure size 720x576 with 1 Axes>"
      ]
     },
     "metadata": {
      "needs_background": "light"
     },
     "output_type": "display_data"
    }
   ],
   "source": [
    "plt.plot(x_dots, y_dots, linewidth=2, color='gray', label='theoretical distribution function');\n",
    "plt.step(grouped_data_prob[0], grouped_data_prob[1], linewidth=2, color='orange', label='imperical grouped probability destribution function')\n",
    "# plt.plot(grouped_data_prob[0], grouped_data_prob[1], linewidth=2, color='orange', label='smoothed grouped destribution function')\n",
    "plt.step(grouped_data_equal[0], grouped_data_equal[1], linewidth=2, color='blue', label='imperical grouped intervals destribution function')\n",
    "# plt.plot(grouped_data_equal[0], grouped_data_equal[1], linewidth=2, color='blue', label='smoothed grouped destribution function')\n",
    "plt.legend()"
   ]
  },
  {
   "cell_type": "code",
   "execution_count": null,
   "id": "afraid-coach",
   "metadata": {},
   "outputs": [],
   "source": []
  },
  {
   "cell_type": "markdown",
   "id": "reliable-computer",
   "metadata": {},
   "source": [
    "## Density function  "
   ]
  },
  {
   "cell_type": "code",
   "execution_count": 29,
   "id": "blocked-columbia",
   "metadata": {},
   "outputs": [],
   "source": [
    "def get_plot_dens_data(sample_x, sample_y):\n",
    "#     new_x = [a_Y] + sample_x + [b_Y]\n",
    "    new_x = [a_Y] + [sample_x[0]-0.001] + sample_x + [sample_x[-1]+0.001] + [b_Y]\n",
    "#     new_y = [0] + sample_y + [0]\n",
    "    new_y = [0] + [sample_y[0]-0.001] + sample_y +  [sample_y[-1] + 0.001] + [0]\n",
    "    return new_x, new_y\n",
    "    return sample_x, sample_y"
   ]
  },
  {
   "cell_type": "markdown",
   "id": "female-nurse",
   "metadata": {},
   "source": [
    "### Density funtcion for equal intervals"
   ]
  },
  {
   "cell_type": "code",
   "execution_count": 30,
   "id": "thirty-quantity",
   "metadata": {},
   "outputs": [
    {
     "data": {
      "text/plain": [
       "<matplotlib.legend.Legend at 0x12739dac0>"
      ]
     },
     "execution_count": 30,
     "metadata": {},
     "output_type": "execute_result"
    },
    {
     "data": {
      "image/png": "[encoded data removed]",
      "text/plain": [
       "<Figure size 720x576 with 1 Axes>"
      ]
     },
     "metadata": {
      "needs_background": "light"
     },
     "output_type": "display_data"
    }
   ],
   "source": [
    "# theoretical\n",
    "dots_count = 10**3\n",
    "x_dots_dens = np.linspace(a_Y-1, b_Y+1, dots_count)\n",
    "y_dots_dens = [f(x) for x in x_dots_dens]\n",
    "plt.rcParams[\"figure.figsize\"] = (10, 8)\n",
    "plt.plot(x_dots_dens, y_dots_dens, linewidth=4, label='theoretical density distribution function');\n",
    "\n",
    "\n",
    "# imperical\n",
    "x_dens_prepared, y_dens_prepared = get_plot_dens_data(x_poly_equal, y_poly_equal)\n",
    "x_den, y_den = np.array(x_dens_prepared), np.array(y_dens_prepared)\n",
    "x_den_new = np.linspace(x_den.min(), x_den.max(), 200)\n",
    "spline = make_interp_spline(x_den, y_den, k=3)\n",
    "y_den_smooth = spline(x_den_new)\n",
    "plt.plot([a_Y-0.001] + list(x_den_new) + [b_Y+0.001],[0] + list(y_den_smooth) + [0], linewidth=3, label = 'imperical smoothed density distribution function')\n",
    "# plt.plot(x_dens_prepared,y_dens_prepared, label='not smoothed')\n",
    "\n",
    "plt.plot(x_hist_equal, y_hist_equal, label='histogram equal intervals')\n",
    "\n",
    "plt.legend()\n"
   ]
  },
  {
   "cell_type": "code",
   "execution_count": null,
   "id": "bulgarian-synthetic",
   "metadata": {},
   "outputs": [],
   "source": []
  },
  {
   "cell_type": "code",
   "execution_count": null,
   "id": "played-slovak",
   "metadata": {},
   "outputs": [],
   "source": []
  },
  {
   "cell_type": "markdown",
   "id": "thick-strip",
   "metadata": {},
   "source": [
    "### Density funtcion for equal probabilities"
   ]
  },
  {
   "cell_type": "code",
   "execution_count": null,
   "id": "accompanied-honduras",
   "metadata": {},
   "outputs": [],
   "source": []
  },
  {
   "cell_type": "code",
   "execution_count": 31,
   "id": "honest-spain",
   "metadata": {},
   "outputs": [
    {
     "data": {
      "image/png": "[encoded data removed]",
      "text/plain": [
       "<Figure size 720x576 with 1 Axes>"
      ]
     },
     "metadata": {
      "needs_background": "light"
     },
     "output_type": "display_data"
    }
   ],
   "source": [
    "dots_count = 10**3\n",
    "x_dots_dens = np.linspace(a_Y-1, b_Y+1, dots_count)\n",
    "y_dots_dens = [f(x) for x in x_dots_dens]\n",
    "plt.rcParams[\"figure.figsize\"] = (10, 8)\n",
    "plt.plot(x_dots_dens, y_dots_dens, linewidth=4, label='theoretical density distribution function');\n",
    "\n",
    "x_dens_prepared_prob, y_dens_prepared_prob = get_plot_dens_data(x_poly_prob, y_poly_prob)\n",
    "x_den_prob, y_den_prob = np.array(x_dens_prepared_prob), np.array(y_dens_prepared_prob)\n",
    "x_den_new_prob = np.linspace(x_den_prob.min(), x_den_prob.max(), 200)\n",
    "spline_prob = make_interp_spline(x_den_prob, y_den_prob, k=3)\n",
    "y_den_smooth_prob = spline_prob(x_den_new_prob)\n",
    "plt.plot(list(x_den_new_prob),list(y_den_smooth_prob), linewidth=3, label = 'imperical smoothed density distribution function')\n",
    "\n",
    "\n",
    "plt.plot(x_hist_prob, y_hist_prob, label='histogram equal probability')\n",
    "# plt.plot(x_poly_prob, y_poly_prob, label ='polygon equal probability')\n",
    "\n",
    "plt.legend();"
   ]
  },
  {
   "cell_type": "code",
   "execution_count": null,
   "id": "stainless-balloon",
   "metadata": {},
   "outputs": [],
   "source": []
  },
  {
   "cell_type": "code",
   "execution_count": null,
   "id": "rotary-frederick",
   "metadata": {},
   "outputs": [],
   "source": []
  },
  {
   "cell_type": "markdown",
   "id": "satisfied-saver",
   "metadata": {},
   "source": [
    "# Lab 3"
   ]
  },
  {
   "cell_type": "markdown",
   "id": "greatest-rochester",
   "metadata": {},
   "source": [
    "## Pearson criteria"
   ]
  },
  {
   "cell_type": "code",
   "execution_count": 32,
   "id": "velvet-alfred",
   "metadata": {},
   "outputs": [],
   "source": [
    "from scipy import stats"
   ]
  },
  {
   "cell_type": "code",
   "execution_count": 105,
   "id": "caroline-protest",
   "metadata": {},
   "outputs": [],
   "source": [
    "def get_chi2(hist_data):\n",
    "    n = hist_data['v'].sum()\n",
    "    hi_quad = 0\n",
    "    for i in range(hist_data.shape[0]):\n",
    "        p_emperic = hist_data.iloc[i, 2] / n\n",
    "        A, B = hist_data.iloc[i, 0], hist_data.iloc[i, 1]\n",
    "        p_theor = F(B) - F(A)\n",
    "        hi_quad += n * (((p_emperic - p_theor)**2) / p_theor)\n",
    "    return hi_quad\n",
    "\n",
    "\n",
    "def check_pearson_hyp(sample, alpha):\n",
    "    hist_data = build_histogram(sample, equidistand=False)\n",
    "    df = hist_data.shape[0] - 1\n",
    "    chi2 = get_chi2(hist_data)\n",
    "    chi2_critic = stats.chi2.ppf(alpha, df)\n",
    "\n",
    "    print(f'Pearson\\'s chi-squared test with alpha={(1-alpha):.2} \\\n",
    "          \\n\\tchi2 = {chi2:.2f} \\\n",
    "          \\n\\tchi2_critical = {chi2_critic:.2f} |({(alpha, df)})\\\n",
    "          \\n\\tverdict: {chi2 < chi2_critic}')\n",
    "    return hist_data, chi2, chi2_critic, df"
   ]
  },
  {
   "cell_type": "code",
   "execution_count": 117,
   "id": "signal-yesterday",
   "metadata": {},
   "outputs": [
    {
     "name": "stdout",
     "output_type": "stream",
     "text": [
      "Pearson's chi-squared test with alpha=1.0           \n",
      "\tchi2 = 2.27           \n",
      "\tchi2_critical = 0.38 |((0.001, 6))          \n",
      "\tverdict: False\n",
      "Pearson's chi-squared test with alpha=0.5           \n",
      "\tchi2 = 2.27           \n",
      "\tchi2_critical = 5.35 |((0.5, 6))          \n",
      "\tverdict: True\n",
      "Pearson's chi-squared test with alpha=0.3           \n",
      "\tchi2 = 2.27           \n",
      "\tchi2_critical = 7.23 |((0.7, 6))          \n",
      "\tverdict: True\n",
      "Pearson's chi-squared test with alpha=0.2           \n",
      "\tchi2 = 2.27           \n",
      "\tchi2_critical = 8.56 |((0.8, 6))          \n",
      "\tverdict: True\n",
      "Pearson's chi-squared test with alpha=0.1           \n",
      "\tchi2 = 2.27           \n",
      "\tchi2_critical = 10.64 |((0.9, 6))          \n",
      "\tverdict: True\n",
      "Pearson's chi-squared test with alpha=0.05           \n",
      "\tchi2 = 2.27           \n",
      "\tchi2_critical = 12.59 |((0.95, 6))          \n",
      "\tverdict: True\n",
      "Pearson's chi-squared test with alpha=0.01           \n",
      "\tchi2 = 2.27           \n",
      "\tchi2_critical = 16.81 |((0.99, 6))          \n",
      "\tverdict: True\n"
     ]
    },
    {
     "data": {
      "text/html": [
       "<div>\n",
       "<style scoped>\n",
       "    .dataframe tbody tr th:only-of-type {\n",
       "        vertical-align: middle;\n",
       "    }\n",
       "\n",
       "    .dataframe tbody tr th {\n",
       "        vertical-align: top;\n",
       "    }\n",
       "\n",
       "    .dataframe thead th {\n",
       "        text-align: right;\n",
       "    }\n",
       "</style>\n",
       "<table border=\"1\" class=\"dataframe\">\n",
       "  <thead>\n",
       "    <tr style=\"text-align: right;\">\n",
       "      <th></th>\n",
       "      <th>Ai</th>\n",
       "      <th>Bi</th>\n",
       "      <th>v</th>\n",
       "      <th>hi</th>\n",
       "      <th>fi</th>\n",
       "      <th>mid</th>\n",
       "      <th>nums</th>\n",
       "    </tr>\n",
       "  </thead>\n",
       "  <tbody>\n",
       "    <tr>\n",
       "      <th>1</th>\n",
       "      <td>0.000412</td>\n",
       "      <td>0.116573</td>\n",
       "      <td>7</td>\n",
       "      <td>0.116161</td>\n",
       "      <td>1.170147</td>\n",
       "      <td>0.058493</td>\n",
       "      <td>[0.00042220893157515066, 0.0201828855828816, 0...</td>\n",
       "    </tr>\n",
       "    <tr>\n",
       "      <th>2</th>\n",
       "      <td>0.116573</td>\n",
       "      <td>0.266608</td>\n",
       "      <td>7</td>\n",
       "      <td>0.150036</td>\n",
       "      <td>0.905952</td>\n",
       "      <td>0.191591</td>\n",
       "      <td>[0.11657285368793403, 0.12496014531916914, 0.1...</td>\n",
       "    </tr>\n",
       "    <tr>\n",
       "      <th>3</th>\n",
       "      <td>0.266608</td>\n",
       "      <td>0.355746</td>\n",
       "      <td>7</td>\n",
       "      <td>0.089138</td>\n",
       "      <td>1.524883</td>\n",
       "      <td>0.311177</td>\n",
       "      <td>[0.26660838039719154, 0.2810475379508882, 0.28...</td>\n",
       "    </tr>\n",
       "    <tr>\n",
       "      <th>4</th>\n",
       "      <td>0.355746</td>\n",
       "      <td>0.454939</td>\n",
       "      <td>7</td>\n",
       "      <td>0.099193</td>\n",
       "      <td>1.370311</td>\n",
       "      <td>0.405343</td>\n",
       "      <td>[0.35574638248501467, 0.381771418697217, 0.382...</td>\n",
       "    </tr>\n",
       "    <tr>\n",
       "      <th>5</th>\n",
       "      <td>0.454939</td>\n",
       "      <td>0.626817</td>\n",
       "      <td>7</td>\n",
       "      <td>0.171878</td>\n",
       "      <td>0.790825</td>\n",
       "      <td>0.540878</td>\n",
       "      <td>[0.4549392187866448, 0.4573618940904066, 0.470...</td>\n",
       "    </tr>\n",
       "    <tr>\n",
       "      <th>6</th>\n",
       "      <td>0.626817</td>\n",
       "      <td>0.791346</td>\n",
       "      <td>7</td>\n",
       "      <td>0.164529</td>\n",
       "      <td>0.826145</td>\n",
       "      <td>0.709081</td>\n",
       "      <td>[0.6268167809092888, 0.6315181519853089, 0.631...</td>\n",
       "    </tr>\n",
       "    <tr>\n",
       "      <th>7</th>\n",
       "      <td>0.791346</td>\n",
       "      <td>0.971305</td>\n",
       "      <td>8</td>\n",
       "      <td>0.179959</td>\n",
       "      <td>0.863211</td>\n",
       "      <td>0.881326</td>\n",
       "      <td>[0.7913459916922888, 0.8074139308830444, 0.819...</td>\n",
       "    </tr>\n",
       "  </tbody>\n",
       "</table>\n",
       "</div>"
      ],
      "text/plain": [
       "         Ai        Bi  v        hi        fi       mid  \\\n",
       "1  0.000412  0.116573  7  0.116161  1.170147  0.058493   \n",
       "2  0.116573  0.266608  7  0.150036  0.905952  0.191591   \n",
       "3  0.266608  0.355746  7  0.089138  1.524883  0.311177   \n",
       "4  0.355746  0.454939  7  0.099193  1.370311  0.405343   \n",
       "5  0.454939  0.626817  7  0.171878  0.790825  0.540878   \n",
       "6  0.626817  0.791346  7  0.164529  0.826145  0.709081   \n",
       "7  0.791346  0.971305  8  0.179959  0.863211  0.881326   \n",
       "\n",
       "                                                nums  \n",
       "1  [0.00042220893157515066, 0.0201828855828816, 0...  \n",
       "2  [0.11657285368793403, 0.12496014531916914, 0.1...  \n",
       "3  [0.26660838039719154, 0.2810475379508882, 0.28...  \n",
       "4  [0.35574638248501467, 0.381771418697217, 0.382...  \n",
       "5  [0.4549392187866448, 0.4573618940904066, 0.470...  \n",
       "6  [0.6268167809092888, 0.6315181519853089, 0.631...  \n",
       "7  [0.7913459916922888, 0.8074139308830444, 0.819...  "
      ]
     },
     "execution_count": 117,
     "metadata": {},
     "output_type": "execute_result"
    }
   ],
   "source": [
    "n_pearson = 50\n",
    "sample_p = make_samples(n_pearson)[1]\n",
    "\n",
    "histogram_p, chi2, chi2_critic, df = check_pearson_hyp(sample_p, 0.001);\n",
    "\n",
    "check_pearson_hyp(sample_p, 0.5);\n",
    "check_pearson_hyp(sample_p, 0.7);\n",
    "check_pearson_hyp(sample_p, 0.8);\n",
    "check_pearson_hyp(sample_p, 0.9);\n",
    "check_pearson_hyp(sample_p, 0.95);\n",
    "check_pearson_hyp(sample_p, 0.99);\n",
    "histogram_p"
   ]
  },
  {
   "cell_type": "code",
   "execution_count": 118,
   "id": "fabulous-metallic",
   "metadata": {},
   "outputs": [
    {
     "data": {
      "image/png": "[encoded data removed]",
      "text/plain": [
       "<Figure size 720x576 with 1 Axes>"
      ]
     },
     "metadata": {
      "needs_background": "light"
     },
     "output_type": "display_data"
    }
   ],
   "source": [
    "dots_count = 10**3\n",
    "x_dots_dens = np.linspace(a_Y-1, b_Y+1, dots_count)\n",
    "y_dots_dens = [f(x) for x in x_dots_dens]\n",
    "plt.rcParams[\"figure.figsize\"] = (10, 8)\n",
    "plt.plot(x_dots_dens, y_dots_dens, linewidth=4, label='theoretical density distribution function');\n",
    "\n",
    "\n",
    "x_hist_prob, y_hist_prob = get_hist_points(histogram_p)\n",
    "x_poly_prob, y_poly_prob = get_polygon_points(histogram_p)\n",
    "x_dens_prepared_prob, y_dens_prepared_prob = get_plot_dens_data(x_poly_prob, y_poly_prob)\n",
    "x_den_prob, y_den_prob = np.array(x_dens_prepared_prob), np.array(y_dens_prepared_prob)\n",
    "x_den_new_prob = np.linspace(x_den_prob.min(), x_den_prob.max(), 200)\n",
    "spline_prob = make_interp_spline(x_den_prob, y_den_prob, k=3)\n",
    "y_den_smooth_prob = spline_prob(x_den_new_prob)\n",
    "# plt.plot(list(x_den_new_prob),list(y_den_smooth_prob), linewidth=3, label = 'imperical smoothed density distribution function')\n",
    "\n",
    "\n",
    "plt.plot(x_hist_prob, y_hist_prob, label='histogram equal probability')\n",
    "# plt.plot(x_poly_prob, y_poly_prob, label ='polygon equal probability')\n",
    "\n",
    "plt.legend();"
   ]
  },
  {
   "cell_type": "code",
   "execution_count": 91,
   "id": "otherwise-catch",
   "metadata": {},
   "outputs": [
    {
     "data": {
      "image/png": "[encoded data removed]",
      "text/plain": [
       "<Figure size 720x576 with 1 Axes>"
      ]
     },
     "metadata": {
      "needs_background": "light"
     },
     "output_type": "display_data"
    }
   ],
   "source": [
    "grouped_data_prob = get_gropued_data(histogram_p)\n",
    "plt.rcParams[\"figure.figsize\"] = (10, 8)\n",
    "plt.plot(x_dots, y_dots, linewidth=4, label='theoretical distribution function');\n",
    "plt.plot(grouped_data_prob[0], grouped_data_prob[1], linewidth=2, color='orange', label='smoothed grouped destribution function')\n",
    "plt.step(grouped_data_prob[0], grouped_data_prob[1], linewidth=2, color='red', label='imperical grouped destribution function')\n",
    "plt.legend();\n",
    "grouped_df_prob = pd.DataFrame(data={'x':grouped_data_prob[0], 'y':grouped_data_prob[1]})"
   ]
  },
  {
   "cell_type": "code",
   "execution_count": null,
   "id": "academic-arrest",
   "metadata": {},
   "outputs": [],
   "source": [
    "chi2_critic = stats.chi2.ppf(0.99, 4)\n",
    "chi2_critic"
   ]
  },
  {
   "cell_type": "code",
   "execution_count": null,
   "id": "composite-india",
   "metadata": {},
   "outputs": [],
   "source": []
  },
  {
   "cell_type": "markdown",
   "id": "fleet-invasion",
   "metadata": {},
   "source": [
    "## Kolmogorov test"
   ]
  },
  {
   "cell_type": "code",
   "execution_count": 182,
   "id": "soviet-consciousness",
   "metadata": {},
   "outputs": [],
   "source": [
    "def get_kolmogorov_value(sample):\n",
    "    n = len(sample)\n",
    "    emperic_F = [i/n for i in range(n)]\n",
    "    d = 0\n",
    "    max_delta_x = 0\n",
    "    for i in range(n):\n",
    "#         d = max(d, abs(emperic_F[i], F(sample[i])))\n",
    "        saved_d = d\n",
    "        d = max(d, max(abs(i/n - F(sample[i])), abs((i+1)/n - F(sample[i]))))\n",
    "        if saved_d != d:\n",
    "            max_delta_x = sample[i], (i/n + (i+1)/n) / 2\n",
    "    K = d * np.sqrt(n) + 1/(6*np.sqrt(n))\n",
    "    return K, max_delta_x\n",
    "\n",
    "\n",
    "def check_kolmogorov_hyp(sample, alpha):\n",
    "    K, max_delta_x = get_kolmogorov_value(sample)\n",
    "    K_critical = stats.kstwobign.ppf(alpha)\n",
    "    print(f'Kolmogorov test with alpha = {(1-alpha):.2f}\\n\\t\\\n",
    "            K = {K:.4f}\\n\\t\\\n",
    "            K_critical = {K_critical:.4f} | {alpha}\\n\\t\\\n",
    "            verdict: {K < K_critical}')\n",
    "    return max_delta_x"
   ]
  },
  {
   "cell_type": "code",
   "execution_count": 187,
   "id": "complimentary-disney",
   "metadata": {},
   "outputs": [
    {
     "name": "stdout",
     "output_type": "stream",
     "text": [
      "Kolmogorov test with alpha = 0.50\n",
      "\t            K = 1.4448\n",
      "\t            K_critical = 0.8276 | 0.5\n",
      "\t            verdict: False\n",
      "Kolmogorov test with alpha = 0.40\n",
      "\t            K = 1.4448\n",
      "\t            K_critical = 0.8948 | 0.6\n",
      "\t            verdict: False\n",
      "Kolmogorov test with alpha = 0.30\n",
      "\t            K = 1.4448\n",
      "\t            K_critical = 0.9731 | 0.7\n",
      "\t            verdict: False\n",
      "Kolmogorov test with alpha = 0.20\n",
      "\t            K = 1.4448\n",
      "\t            K_critical = 1.0727 | 0.8\n",
      "\t            verdict: False\n",
      "Kolmogorov test with alpha = 0.10\n",
      "\t            K = 1.4448\n",
      "\t            K_critical = 1.2238 | 0.9\n",
      "\t            verdict: False\n",
      "Kolmogorov test with alpha = 0.05\n",
      "\t            K = 1.4448\n",
      "\t            K_critical = 1.3581 | 0.95\n",
      "\t            verdict: False\n",
      "Kolmogorov test with alpha = 0.01\n",
      "\t            K = 1.4448\n",
      "\t            K_critical = 1.6276 | 0.99\n",
      "\t            verdict: True\n"
     ]
    }
   ],
   "source": [
    "n_kolm = 30\n",
    "sample_k = make_samples(n_kolm)[1]\n",
    "\n",
    "max_delta_x = check_kolmogorov_hyp(sample_k, 0.5);\n",
    "check_kolmogorov_hyp(sample_k, 0.6);\n",
    "check_kolmogorov_hyp(sample_k, 0.7);\n",
    "check_kolmogorov_hyp(sample_k, 0.8);\n",
    "check_kolmogorov_hyp(sample_k, 0.9);\n",
    "check_kolmogorov_hyp(sample_k, 0.95);\n",
    "check_kolmogorov_hyp(sample_k, 0.99);"
   ]
  },
  {
   "cell_type": "code",
   "execution_count": 188,
   "id": "greek-circulation",
   "metadata": {},
   "outputs": [
    {
     "data": {
      "image/png": "[encoded data removed]",
      "text/plain": [
       "<Figure size 720x576 with 1 Axes>"
      ]
     },
     "metadata": {
      "needs_background": "light"
     },
     "output_type": "display_data"
    }
   ],
   "source": [
    "kolm_data = generate_samples(n_kolm, sample_k)\n",
    "\n",
    "\n",
    "plt.rcParams[\"figure.figsize\"] = (10, 8)\n",
    "plt.plot(x_dots, y_dots, linewidth=4, label='theoretical distribution function');\n",
    "plt.plot(kolm_data[0], kolm_data[1], linewidth=2, color='orange',  label='imperical destribution function')\n",
    "# plt.step(kolm_data[0], kolm_data[1], linewidth=2, color='red', label='imperical destribution function')\n",
    "plt.scatter(max_delta_x[0], max_delta_x[1], s=100, color='black')\n",
    "plt.scatter(max_delta_x[0], F(max_delta_x[0]), s=100, color='black')\n",
    "plt.plot([max_delta_x[0], max_delta_x[0]], [max_delta_x[1], F(max_delta_x[0])], linewidth=3, label='max diff')\n",
    "plt.legend();\n"
   ]
  },
  {
   "cell_type": "code",
   "execution_count": 189,
   "id": "corresponding-institution",
   "metadata": {},
   "outputs": [
    {
     "data": {
      "image/png": "[encoded data removed]",
      "text/plain": [
       "<Figure size 720x576 with 1 Axes>"
      ]
     },
     "metadata": {
      "needs_background": "light"
     },
     "output_type": "display_data"
    }
   ],
   "source": [
    "hist_k = build_histogram(sample_k, equidistand=False)\n",
    "\n",
    "\n",
    "dots_count = 10**3\n",
    "x_dots_dens = np.linspace(a_Y-1, b_Y+1, dots_count)\n",
    "y_dots_dens = [f(x) for x in x_dots_dens]\n",
    "plt.rcParams[\"figure.figsize\"] = (10, 8)\n",
    "plt.plot(x_dots_dens, y_dots_dens, linewidth=4, label='theoretical density distribution function');\n",
    "\n",
    "\n",
    "x_hist_prob, y_hist_prob = get_hist_points(hist_k)\n",
    "x_poly_prob, y_poly_prob = get_polygon_points(histogram_p)\n",
    "x_dens_prepared_prob, y_dens_prepared_prob = get_plot_dens_data(x_poly_prob, y_poly_prob)\n",
    "x_den_prob, y_den_prob = np.array(x_dens_prepared_prob), np.array(y_dens_prepared_prob)\n",
    "x_den_new_prob = np.linspace(x_den_prob.min(), x_den_prob.max(), 200)\n",
    "spline_prob = make_interp_spline(x_den_prob, y_den_prob, k=3)\n",
    "y_den_smooth_prob = spline_prob(x_den_new_prob)\n",
    "# plt.plot(list(x_den_new_prob),list(y_den_smooth_prob), linewidth=3, label = 'imperical smoothed density distribution function')\n",
    "\n",
    "\n",
    "plt.plot(x_hist_prob, y_hist_prob, label='histogram equal probability')\n",
    "# plt.plot(x_poly_prob, y_poly_prob, label ='polygon equal probability')\n",
    "\n",
    "plt.legend();"
   ]
  },
  {
   "cell_type": "code",
   "execution_count": null,
   "id": "human-spirit",
   "metadata": {},
   "outputs": [],
   "source": []
  },
  {
   "cell_type": "code",
   "execution_count": null,
   "id": "split-drilling",
   "metadata": {},
   "outputs": [],
   "source": []
  },
  {
   "cell_type": "code",
   "execution_count": null,
   "id": "green-sleep",
   "metadata": {},
   "outputs": [],
   "source": []
  },
  {
   "cell_type": "code",
   "execution_count": null,
   "id": "prescription-recipe",
   "metadata": {},
   "outputs": [],
   "source": []
  },
  {
   "cell_type": "code",
   "execution_count": null,
   "id": "charitable-introduction",
   "metadata": {},
   "outputs": [],
   "source": []
  },
  {
   "cell_type": "code",
   "execution_count": null,
   "id": "tender-cinema",
   "metadata": {},
   "outputs": [],
   "source": []
  },
  {
   "cell_type": "code",
   "execution_count": null,
   "id": "cardiac-emission",
   "metadata": {},
   "outputs": [],
   "source": []
  },
  {
   "cell_type": "code",
   "execution_count": null,
   "id": "structural-dialogue",
   "metadata": {},
   "outputs": [],
   "source": []
  }
 ],
 "metadata": {
  "kernelspec": {
   "display_name": "Python 3",
   "language": "python",
   "name": "python3"
  },
  "language_info": {
   "codemirror_mode": {
    "name": "ipython",
    "version": 3
   },
   "file_extension": ".py",
   "mimetype": "text/x-python",
   "name": "python",
   "nbconvert_exporter": "python",
   "pygments_lexer": "ipython3",
   "version": "3.9.2"
  }
 },
 "nbformat": 4,
 "nbformat_minor": 5
}
