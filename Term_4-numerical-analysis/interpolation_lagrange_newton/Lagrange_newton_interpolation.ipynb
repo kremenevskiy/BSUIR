{
 "cells": [
  {
   "cell_type": "code",
   "execution_count": 1,
   "id": "iraqi-disease",
   "metadata": {},
   "outputs": [],
   "source": [
    "import numpy as np\n",
    "import matplotlib.pyplot as plt\n",
    "from sympy import *\n",
    "from sympy.utilities.lambdify import lambdify"
   ]
  },
  {
   "cell_type": "code",
   "execution_count": null,
   "id": "collaborative-backing",
   "metadata": {},
   "outputs": [],
   "source": []
  },
  {
   "cell_type": "markdown",
   "id": "starting-bangladesh",
   "metadata": {},
   "source": [
    "## Lagrange interpolation"
   ]
  },
  {
   "cell_type": "code",
   "execution_count": 2,
   "id": "secure-sewing",
   "metadata": {},
   "outputs": [],
   "source": [
    "def lagrange_l(x_ls: list, x_j):\n",
    "    x = symbols('x')\n",
    "    lg = 1\n",
    "    n = len(x_ls)\n",
    "    for i in range(n):\n",
    "        if x_j == x_ls[i]:\n",
    "            continue\n",
    "        lg *= (x - x_ls[i]) / (x_j - x_ls[i])\n",
    "    return lg\n",
    "\n",
    "\n",
    "def lagrange_poly(x, y):\n",
    "    if len(x) != len(y):\n",
    "        raise ValueError(\"x and y are not same length\")\n",
    "\n",
    "    n = len(x)\n",
    "    # x = symbols('x')\n",
    "\n",
    "    L = 0\n",
    "    for i in range(n):\n",
    "        L += y[i] * lagrange_l(x, x[i])\n",
    "    return L"
   ]
  },
  {
   "cell_type": "code",
   "execution_count": null,
   "id": "pleased-drink",
   "metadata": {},
   "outputs": [],
   "source": []
  },
  {
   "cell_type": "markdown",
   "id": "mounted-expansion",
   "metadata": {},
   "source": [
    "## Newton Interpolation"
   ]
  },
  {
   "cell_type": "code",
   "execution_count": 3,
   "id": "atmospheric-minneapolis",
   "metadata": {},
   "outputs": [],
   "source": [
    "def y_diff_table(y: list):\n",
    "    f_diff = np.zeros(shape=(len(y) - 1, len(y) - 1))\n",
    "    n = f_diff.shape[0]\n",
    "\n",
    "    for i in range(n):\n",
    "        f_diff[0, i] = (y[i+1] - y[i])\n",
    "\n",
    "    for i in range(1, n):\n",
    "        for j in range(n-i):\n",
    "            f_diff[i, j] = f_diff[i-1, j+1] - f_diff[i - 1, j]\n",
    "\n",
    "    return f_diff\n",
    "\n",
    "\n",
    "def get_a(x: list, y: list):\n",
    "    a_table = np.zeros(shape=(len(y) - 1, len(y) - 1))\n",
    "    n = a_table.shape[0]\n",
    "\n",
    "    for i in range(n):\n",
    "        a_table[0, i] = (y[i + 1] - y[i]) / (x[i+1] - x[i])\n",
    "\n",
    "    for i in range(1, n):\n",
    "        for j in range(n - i):\n",
    "            a_table[i, j] = (a_table[i - 1, j + 1] - a_table[i - 1, j]) / (x[i+1+j] - x[j])\n",
    "\n",
    "    return a_table\n",
    "\n",
    "\n",
    "def newton_poly(x_ls: list, y_ls: list):\n",
    "    if len(x_ls) != len(y_ls):\n",
    "        raise TypeError(\"x and y must be same size\")\n",
    "\n",
    "    n = len(x_ls)\n",
    "\n",
    "    x = symbols('x')\n",
    "    N = 0\n",
    "    a_table = get_a(x_ls, y_ls)\n",
    "    for i in range(n):\n",
    "        if i == 0:\n",
    "            N += y_ls[0]\n",
    "            continue\n",
    "        x_poly = 1\n",
    "        for j in range(i):\n",
    "            x_poly *= (x-x_ls[j])\n",
    "\n",
    "        N += a_table[i-1, 0] * x_poly\n",
    "\n",
    "    return N"
   ]
  },
  {
   "cell_type": "code",
   "execution_count": null,
   "id": "saving-valuation",
   "metadata": {},
   "outputs": [],
   "source": []
  },
  {
   "cell_type": "code",
   "execution_count": 4,
   "id": "confused-commission",
   "metadata": {},
   "outputs": [],
   "source": [
    "class tests:\n",
    "    x_1 = [2, 4, 5]\n",
    "    y_1 = [1, 15, 28]\n",
    "    point_1 = 3\n",
    "\n",
    "    x_2 = [5, 6, 9, 11]\n",
    "    y_2 = [12, 13, 14, 16]\n",
    "    point_2 = 7\n",
    "\n",
    "    x_3 = [-5, -1, 0, 2]\n",
    "    y_3 = [-2, 6, 1, 3]\n",
    "    point_3 = 1\n",
    "\n",
    "    x_4 = [0, 1, 2, 3]\n",
    "    y_4 = [5, 1, 7, 29]\n",
    "    point_4 = 2.5\n",
    "\n",
    "    x_5 = [0.1, 0.5, 0.7, 1.2, 1.5]\n",
    "    y_5 = [1.2, 2.7, 3.8, 4.7, 6]\n",
    "    point_5 = 0.8\n",
    "    \n",
    "    x_6 = [3/2, -1/3, 0, 1/6, 0.5]\n",
    "    y_6 = [1, -np.sqrt(3)/2, 0, 0.5, 1]\n",
    "    point_6 = 0.25"
   ]
  },
  {
   "cell_type": "code",
   "execution_count": null,
   "id": "affiliated-subject",
   "metadata": {},
   "outputs": [],
   "source": []
  },
  {
   "cell_type": "markdown",
   "id": "hollywood-simulation",
   "metadata": {},
   "source": [
    "## Tests examples"
   ]
  },
  {
   "cell_type": "markdown",
   "id": "northern-aggregate",
   "metadata": {},
   "source": [
    "### Test 1"
   ]
  },
  {
   "cell_type": "code",
   "execution_count": 5,
   "id": "authorized-simon",
   "metadata": {},
   "outputs": [
    {
     "name": "stdout",
     "output_type": "stream",
     "text": [
      "\tData:\n",
      "x = [2, 4, 5]\n",
      "y = [1, 15, 28]\n",
      "--------------------------------------------------------------------------------\n",
      "\tLagrange interpolation polynomial:\n",
      "L(x) = (5/3 - x/3)*(2 - x/2) + 15*(5 - x)*(x/2 - 1) + 28*(x/3 - 2/3)*(x - 4)\n",
      "Interpolation point: x = 3\n",
      "Lagrange poly result on x = 3\n",
      "L(3) = 6.0000\n",
      "--------------------------------------------------------------------------------\n",
      "\tNewton interpolation polynomial:\n",
      "N(x) = 7.0*x + 2.0*(x - 4)*(x - 2) - 13.0\n",
      "Interpolation point: x = 3\n",
      "Newton poly result on x = 3\n",
      "N(3) = 6.0000\n"
     ]
    }
   ],
   "source": [
    "x = tests.x_1\n",
    "y = tests.y_1\n",
    "x_var = symbols('x')\n",
    "point = tests.point_1\n",
    "\n",
    "\n",
    "newton = newton_poly(x, y)\n",
    "lagrange = lagrange_poly(x, y)\n",
    "\n",
    "print(f\"\\tData:\\n\"\n",
    "      f\"x = {x}\\n\"\n",
    "      f\"y = {y}\")\n",
    "\n",
    "print('-' * 80)\n",
    "\n",
    "print(f'\\tLagrange interpolation polynomial:\\nL(x) = {lagrange}')\n",
    "print(f'Interpolation point: x = {point}')\n",
    "print(f'Lagrange poly result on x = {point}\\nL({point}) = {float(lagrange.subs(x_var, point)):.4f}')\n",
    "\n",
    "print('-' * 80)\n",
    "\n",
    "print(f'\\tNewton interpolation polynomial:\\nN(x) = {newton}')\n",
    "print(f'Interpolation point: x = {point}')\n",
    "print(f'Newton poly result on x = {point}\\nN({point}) = {float(newton.subs(x_var, point)):.4f}')"
   ]
  },
  {
   "cell_type": "markdown",
   "id": "elect-photograph",
   "metadata": {},
   "source": [
    "### Lagrange Polynomial"
   ]
  },
  {
   "cell_type": "code",
   "execution_count": 6,
   "id": "related-boards",
   "metadata": {},
   "outputs": [
    {
     "data": {
      "text/latex": [
       "$\\displaystyle \\left(\\frac{5}{3} - \\frac{x}{3}\\right) \\left(2 - \\frac{x}{2}\\right) + 15 \\left(5 - x\\right) \\left(\\frac{x}{2} - 1\\right) + 28 \\left(\\frac{x}{3} - \\frac{2}{3}\\right) \\left(x - 4\\right)$"
      ],
      "text/plain": [
       "(5/3 - x/3)*(2 - x/2) + 15*(5 - x)*(x/2 - 1) + 28*(x/3 - 2/3)*(x - 4)"
      ]
     },
     "execution_count": 6,
     "metadata": {},
     "output_type": "execute_result"
    }
   ],
   "source": [
    "lagrange"
   ]
  },
  {
   "cell_type": "code",
   "execution_count": 7,
   "id": "rational-factor",
   "metadata": {},
   "outputs": [
    {
     "data": {
      "text/latex": [
       "$\\displaystyle 2 x^{2} - 5 x + 3$"
      ],
      "text/plain": [
       "2*x**2 - 5*x + 3"
      ]
     },
     "execution_count": 7,
     "metadata": {},
     "output_type": "execute_result"
    }
   ],
   "source": [
    "simplify(lagrange)"
   ]
  },
  {
   "cell_type": "markdown",
   "id": "theoretical-stake",
   "metadata": {},
   "source": [
    "### Newton Polynomial"
   ]
  },
  {
   "cell_type": "code",
   "execution_count": 8,
   "id": "ahead-wings",
   "metadata": {},
   "outputs": [
    {
     "data": {
      "text/latex": [
       "$\\displaystyle 7.0 x + 2.0 \\left(x - 4\\right) \\left(x - 2\\right) - 13.0$"
      ],
      "text/plain": [
       "7.0*x + 2.0*(x - 4)*(x - 2) - 13.0"
      ]
     },
     "execution_count": 8,
     "metadata": {},
     "output_type": "execute_result"
    }
   ],
   "source": [
    "newton"
   ]
  },
  {
   "cell_type": "code",
   "execution_count": 9,
   "id": "federal-explanation",
   "metadata": {},
   "outputs": [
    {
     "data": {
      "text/latex": [
       "$\\displaystyle 2.0 x^{2} - 5.0 x + 3.0$"
      ],
      "text/plain": [
       "2.0*x**2 - 5.0*x + 3.0"
      ]
     },
     "execution_count": 9,
     "metadata": {},
     "output_type": "execute_result"
    }
   ],
   "source": [
    "simplify(newton)"
   ]
  },
  {
   "cell_type": "code",
   "execution_count": 10,
   "id": "retained-advice",
   "metadata": {},
   "outputs": [
    {
     "data": {
      "image/png": "[encoded data removed]",
      "text/plain": [
       "<Figure size 576x432 with 1 Axes>"
      ]
     },
     "metadata": {
      "needs_background": "light"
     },
     "output_type": "display_data"
    }
   ],
   "source": [
    "# plt.style.use('seaborn-poster')\n",
    "X = np.linspace(-30, 30, 50, endpoint=True)\n",
    "L = lambdify(x_var, lagrange)\n",
    "L_y = L(X)\n",
    "N = lambdify(x_var, newton)\n",
    "N_y = N(X)\n",
    "\n",
    "fig = plt.figure(figsize=(8, 6))\n",
    "# lagrange function\n",
    "plt.plot(X, L_y, label='Lagrange / Newton')\n",
    "\n",
    "# print interpolation points\n",
    "plt.plot(x, y, 'ko', c='red')\n",
    "# axes\n",
    "plt.axvline(color=\"black\", linewidth=0.5)\n",
    "plt.axhline(color='black', linewidth=0.5)\n",
    "plt.grid()\n",
    "\n",
    "plt.title('Lagrange and Newton Polynomials')\n",
    "plt.legend()\n",
    "plt.show()"
   ]
  },
  {
   "cell_type": "markdown",
   "id": "appreciated-method",
   "metadata": {},
   "source": [
    "### Найдем значение в точке"
   ]
  },
  {
   "cell_type": "code",
   "execution_count": 11,
   "id": "received-universe",
   "metadata": {},
   "outputs": [
    {
     "name": "stdout",
     "output_type": "stream",
     "text": [
      "Point!\n",
      "x = 3\n",
      "L(3) = 6.0\n",
      "N(3) = 6.0\n"
     ]
    },
    {
     "data": {
      "image/png": "[encoded data removed]",
      "text/plain": [
       "<Figure size 576x432 with 1 Axes>"
      ]
     },
     "metadata": {
      "needs_background": "light"
     },
     "output_type": "display_data"
    }
   ],
   "source": [
    "point_x = tests.point_1\n",
    "print(f\"Point!\\nx = {point_x}\")\n",
    "\n",
    "point_y_lagr = L(point_x)\n",
    "point_y_newt = N(point_x)\n",
    "print(f'L({point_x}) = {point_y_lagr}')\n",
    "print(f'N({point_x}) = {point_y_newt}')\n",
    "\n",
    "X = np.linspace(-7, 7, 50, endpoint=True)\n",
    "L_y = L(X)\n",
    "\n",
    "fig = plt.figure(figsize=(8, 6))\n",
    "# lagrange function\n",
    "plt.plot(X, L_y, label='Lagrange / Newton')\n",
    "\n",
    "# print interpolation points\n",
    "plt.plot(point_x, point_y_lagr, 'ko', c='black')\n",
    "plt.plot(x, y, 'ko', c='red')\n",
    "# axes\n",
    "plt.axvline(color=\"black\", linewidth=0.5)\n",
    "plt.axhline(color='black', linewidth=0.5)\n",
    "\n",
    "plt.grid()\n",
    "\n",
    "plt.title('Lagrange and Newton Polynomials')\n",
    "plt.legend()\n",
    "plt.show()"
   ]
  },
  {
   "cell_type": "code",
   "execution_count": null,
   "id": "biblical-percentage",
   "metadata": {},
   "outputs": [],
   "source": []
  },
  {
   "cell_type": "code",
   "execution_count": null,
   "id": "fifth-intervention",
   "metadata": {},
   "outputs": [],
   "source": []
  },
  {
   "cell_type": "code",
   "execution_count": null,
   "id": "floral-winner",
   "metadata": {},
   "outputs": [],
   "source": []
  },
  {
   "cell_type": "markdown",
   "id": "clinical-karen",
   "metadata": {},
   "source": [
    "### Test 2"
   ]
  },
  {
   "cell_type": "code",
   "execution_count": 12,
   "id": "expanded-greenhouse",
   "metadata": {},
   "outputs": [
    {
     "name": "stdout",
     "output_type": "stream",
     "text": [
      "\tData:\n",
      "x = [5, 6, 9, 11]\n",
      "y = [12, 13, 14, 16]\n",
      "--------------------------------------------------------------------------------\n",
      "\tLagrange interpolation polynomial:\n",
      "L(x) = 12*(11/6 - x/6)*(9/4 - x/4)*(6 - x) + 13*(11/5 - x/5)*(3 - x/3)*(x - 5) + 14*(11/2 - x/2)*(x/4 - 5/4)*(x/3 - 2) + 16*(x/6 - 5/6)*(x/5 - 6/5)*(x/2 - 9/2)\n",
      "Interpolation point: x = 7\n",
      "Lagrange poly result on x = 7\n",
      "L(7) = 13.4667\n",
      "--------------------------------------------------------------------------------\n",
      "\tNewton interpolation polynomial:\n",
      "N(x) = 1.0*x + 0.05*(x - 9)*(x - 6)*(x - 5) - 0.166666666666667*(x - 6)*(x - 5) + 7.0\n",
      "Interpolation point: x = 7\n",
      "Newton poly result on x = 7\n",
      "N(7) = 13.4667\n"
     ]
    }
   ],
   "source": [
    "x = tests.x_2\n",
    "y = tests.y_2\n",
    "point = tests.point_2\n",
    "x_var = symbols('x')\n",
    "\n",
    "newton = newton_poly(x, y)\n",
    "lagrange = lagrange_poly(x, y)\n",
    "\n",
    "print(f\"\\tData:\\n\"\n",
    "      f\"x = {x}\\n\"\n",
    "      f\"y = {y}\")\n",
    "\n",
    "print('-' * 80)\n",
    "\n",
    "print(f'\\tLagrange interpolation polynomial:\\nL(x) = {lagrange}')\n",
    "print(f'Interpolation point: x = {point}')\n",
    "print(f'Lagrange poly result on x = {point}\\nL({point}) = {float(lagrange.subs(x_var, point)):.4f}')\n",
    "\n",
    "print('-' * 80)\n",
    "\n",
    "print(f'\\tNewton interpolation polynomial:\\nN(x) = {newton}')\n",
    "print(f'Interpolation point: x = {point}')\n",
    "print(f'Newton poly result on x = {point}\\nN({point}) = {float(newton.subs(x_var, point)):.4f}')"
   ]
  },
  {
   "cell_type": "markdown",
   "id": "biological-jurisdiction",
   "metadata": {},
   "source": [
    "### Lagrange Polynomial"
   ]
  },
  {
   "cell_type": "code",
   "execution_count": 13,
   "id": "collected-french",
   "metadata": {},
   "outputs": [
    {
     "data": {
      "text/latex": [
       "$\\displaystyle 12 \\left(\\frac{11}{6} - \\frac{x}{6}\\right) \\left(\\frac{9}{4} - \\frac{x}{4}\\right) \\left(6 - x\\right) + 13 \\left(\\frac{11}{5} - \\frac{x}{5}\\right) \\left(3 - \\frac{x}{3}\\right) \\left(x - 5\\right) + 14 \\left(\\frac{11}{2} - \\frac{x}{2}\\right) \\left(\\frac{x}{4} - \\frac{5}{4}\\right) \\left(\\frac{x}{3} - 2\\right) + 16 \\left(\\frac{x}{6} - \\frac{5}{6}\\right) \\left(\\frac{x}{5} - \\frac{6}{5}\\right) \\left(\\frac{x}{2} - \\frac{9}{2}\\right)$"
      ],
      "text/plain": [
       "12*(11/6 - x/6)*(9/4 - x/4)*(6 - x) + 13*(11/5 - x/5)*(3 - x/3)*(x - 5) + 14*(11/2 - x/2)*(x/4 - 5/4)*(x/3 - 2) + 16*(x/6 - 5/6)*(x/5 - 6/5)*(x/2 - 9/2)"
      ]
     },
     "execution_count": 13,
     "metadata": {},
     "output_type": "execute_result"
    }
   ],
   "source": [
    "lagrange"
   ]
  },
  {
   "cell_type": "code",
   "execution_count": 14,
   "id": "sharp-crown",
   "metadata": {},
   "outputs": [
    {
     "data": {
      "text/latex": [
       "$\\displaystyle \\frac{x^{3}}{20} - \\frac{7 x^{2}}{6} + \\frac{557 x}{60} - \\frac{23}{2}$"
      ],
      "text/plain": [
       "x**3/20 - 7*x**2/6 + 557*x/60 - 23/2"
      ]
     },
     "execution_count": 14,
     "metadata": {},
     "output_type": "execute_result"
    }
   ],
   "source": [
    "simplify(lagrange)"
   ]
  },
  {
   "cell_type": "markdown",
   "id": "blank-willow",
   "metadata": {},
   "source": [
    "### Newton Polynomial"
   ]
  },
  {
   "cell_type": "code",
   "execution_count": 15,
   "id": "individual-coordinate",
   "metadata": {},
   "outputs": [
    {
     "data": {
      "text/latex": [
       "$\\displaystyle 1.0 x + 0.05 \\left(x - 9\\right) \\left(x - 6\\right) \\left(x - 5\\right) - 0.166666666666667 \\left(x - 6\\right) \\left(x - 5\\right) + 7.0$"
      ],
      "text/plain": [
       "1.0*x + 0.05*(x - 9)*(x - 6)*(x - 5) - 0.166666666666667*(x - 6)*(x - 5) + 7.0"
      ]
     },
     "execution_count": 15,
     "metadata": {},
     "output_type": "execute_result"
    }
   ],
   "source": [
    "newton"
   ]
  },
  {
   "cell_type": "code",
   "execution_count": 16,
   "id": "rocky-rolling",
   "metadata": {},
   "outputs": [
    {
     "data": {
      "text/latex": [
       "$\\displaystyle 0.05 x^{3} - 1.16666666666667 x^{2} + 9.28333333333333 x - 11.5$"
      ],
      "text/plain": [
       "0.05*x**3 - 1.16666666666667*x**2 + 9.28333333333333*x - 11.5"
      ]
     },
     "execution_count": 16,
     "metadata": {},
     "output_type": "execute_result"
    }
   ],
   "source": [
    "simplify(newton)"
   ]
  },
  {
   "cell_type": "code",
   "execution_count": 17,
   "id": "embedded-launch",
   "metadata": {},
   "outputs": [
    {
     "data": {
      "image/png": "[encoded data removed]",
      "text/plain": [
       "<Figure size 576x432 with 1 Axes>"
      ]
     },
     "metadata": {
      "needs_background": "light"
     },
     "output_type": "display_data"
    }
   ],
   "source": [
    "# plt.style.use('seaborn-poster')\n",
    "X = np.linspace(-30, 30, 50, endpoint=True)\n",
    "L = lambdify(x_var, lagrange)\n",
    "L_y = L(X)\n",
    "N = lambdify(x_var, newton)\n",
    "N_y = N(X)\n",
    "\n",
    "fig = plt.figure(figsize=(8, 6))\n",
    "# lagrange function\n",
    "plt.plot(X, L_y, label='Lagrange / Newton')\n",
    "\n",
    "# print interpolation points\n",
    "plt.plot(x, y, 'ko', c='red')\n",
    "# axes\n",
    "plt.axvline(color=\"black\", linewidth=0.5)\n",
    "plt.axhline(color='black', linewidth=0.5)\n",
    "plt.grid()\n",
    "\n",
    "plt.title('Lagrange and Newton Polynomials')\n",
    "plt.legend()\n",
    "plt.show()"
   ]
  },
  {
   "cell_type": "markdown",
   "id": "reasonable-object",
   "metadata": {},
   "source": [
    "### Найдем значение в точке"
   ]
  },
  {
   "cell_type": "code",
   "execution_count": 18,
   "id": "referenced-interstate",
   "metadata": {},
   "outputs": [
    {
     "name": "stdout",
     "output_type": "stream",
     "text": [
      "Point!\n",
      "x = 7\n",
      "L(7) = 13.466666666666669\n",
      "N(7) = 13.466666666666665\n"
     ]
    },
    {
     "data": {
      "image/png": "[encoded data removed]",
      "text/plain": [
       "<Figure size 576x432 with 1 Axes>"
      ]
     },
     "metadata": {
      "needs_background": "light"
     },
     "output_type": "display_data"
    }
   ],
   "source": [
    "point_x = tests.point_2\n",
    "print(f\"Point!\\nx = {point_x}\")\n",
    "\n",
    "point_y_lagr = L(point_x)\n",
    "point_y_newt = N(point_x)\n",
    "print(f'L({point_x}) = {point_y_lagr}')\n",
    "print(f'N({point_x}) = {point_y_newt}')\n",
    "\n",
    "X = np.linspace(-13, 20, 50, endpoint=True)\n",
    "L_y = L(X)\n",
    "\n",
    "fig = plt.figure(figsize=(8, 6))\n",
    "# lagrange function\n",
    "plt.plot(X, L_y, label='Lagrange / Newton')\n",
    "\n",
    "# print interpolation points\n",
    "plt.plot(point_x, point_y_lagr, 'ko', c='black')\n",
    "plt.plot(x, y, 'ko', c='red')\n",
    "# axes\n",
    "plt.axvline(color=\"black\", linewidth=0.5)\n",
    "plt.axhline(color='black', linewidth=0.5)\n",
    "\n",
    "plt.grid()\n",
    "\n",
    "plt.title('Lagrange and Newton Polynomials')\n",
    "plt.legend()\n",
    "plt.show()"
   ]
  },
  {
   "cell_type": "code",
   "execution_count": null,
   "id": "distinguished-british",
   "metadata": {},
   "outputs": [],
   "source": []
  },
  {
   "cell_type": "code",
   "execution_count": null,
   "id": "charitable-apparel",
   "metadata": {},
   "outputs": [],
   "source": []
  },
  {
   "cell_type": "markdown",
   "id": "banner-actor",
   "metadata": {},
   "source": [
    "### Test 3"
   ]
  },
  {
   "cell_type": "code",
   "execution_count": 19,
   "id": "violent-analyst",
   "metadata": {},
   "outputs": [
    {
     "name": "stdout",
     "output_type": "stream",
     "text": [
      "\tData:\n",
      "x = [-5, -1, 0, 2]\n",
      "y = [-2, 6, 1, 3]\n",
      "--------------------------------------------------------------------------------\n",
      "\tLagrange interpolation polynomial:\n",
      "L(x) = 2*x*(2/7 - x/7)*(-x/4 - 1/4)/5 - 6*x*(2/3 - x/3)*(x/4 + 5/4) + 3*x*(x/7 + 5/7)*(x/3 + 1/3)/2 + (1 - x/2)*(x/5 + 1)*(x + 1)\n",
      "Interpolation point: x = 1\n",
      "Lagrange poly result on x = 1\n",
      "L(1) = -0.9714\n",
      "--------------------------------------------------------------------------------\n",
      "\tNewton interpolation polynomial:\n",
      "N(x) = 0.485714285714286*x*(x + 1)*(x + 5) + 2.0*x - 1.4*(x + 1)*(x + 5) + 8.0\n",
      "Interpolation point: x = 1\n",
      "Newton poly result on x = 1\n",
      "N(1) = -0.9714\n"
     ]
    }
   ],
   "source": [
    "x = tests.x_3\n",
    "y = tests.y_3\n",
    "point = tests.point_3\n",
    "x_var = symbols('x')\n",
    "\n",
    "newton = newton_poly(x, y)\n",
    "lagrange = lagrange_poly(x, y)\n",
    "\n",
    "print(f\"\\tData:\\n\"\n",
    "      f\"x = {x}\\n\"\n",
    "      f\"y = {y}\")\n",
    "\n",
    "print('-' * 80)\n",
    "\n",
    "print(f'\\tLagrange interpolation polynomial:\\nL(x) = {lagrange}')\n",
    "print(f'Interpolation point: x = {point}')\n",
    "print(f'Lagrange poly result on x = {point}\\nL({point}) = {float(lagrange.subs(x_var, point)):.4f}')\n",
    "\n",
    "print('-' * 80)\n",
    "\n",
    "print(f'\\tNewton interpolation polynomial:\\nN(x) = {newton}')\n",
    "print(f'Interpolation point: x = {point}')\n",
    "print(f'Newton poly result on x = {point}\\nN({point}) = {float(newton.subs(x_var, point)):.4f}')"
   ]
  },
  {
   "cell_type": "markdown",
   "id": "corporate-building",
   "metadata": {},
   "source": [
    "### Lagrange Polynomial"
   ]
  },
  {
   "cell_type": "code",
   "execution_count": 20,
   "id": "referenced-console",
   "metadata": {},
   "outputs": [
    {
     "data": {
      "text/latex": [
       "$\\displaystyle \\frac{2 x \\left(\\frac{2}{7} - \\frac{x}{7}\\right) \\left(- \\frac{x}{4} - \\frac{1}{4}\\right)}{5} - 6 x \\left(\\frac{2}{3} - \\frac{x}{3}\\right) \\left(\\frac{x}{4} + \\frac{5}{4}\\right) + \\frac{3 x \\left(\\frac{x}{7} + \\frac{5}{7}\\right) \\left(\\frac{x}{3} + \\frac{1}{3}\\right)}{2} + \\left(1 - \\frac{x}{2}\\right) \\left(\\frac{x}{5} + 1\\right) \\left(x + 1\\right)$"
      ],
      "text/plain": [
       "2*x*(2/7 - x/7)*(-x/4 - 1/4)/5 - 6*x*(2/3 - x/3)*(x/4 + 5/4) + 3*x*(x/7 + 5/7)*(x/3 + 1/3)/2 + (1 - x/2)*(x/5 + 1)*(x + 1)"
      ]
     },
     "execution_count": 20,
     "metadata": {},
     "output_type": "execute_result"
    }
   ],
   "source": [
    "lagrange"
   ]
  },
  {
   "cell_type": "code",
   "execution_count": 21,
   "id": "appointed-services",
   "metadata": {},
   "outputs": [
    {
     "data": {
      "text/latex": [
       "$\\displaystyle \\frac{17 x^{3}}{35} + \\frac{53 x^{2}}{35} - \\frac{139 x}{35} + 1$"
      ],
      "text/plain": [
       "17*x**3/35 + 53*x**2/35 - 139*x/35 + 1"
      ]
     },
     "execution_count": 21,
     "metadata": {},
     "output_type": "execute_result"
    }
   ],
   "source": [
    "simplify(lagrange)"
   ]
  },
  {
   "cell_type": "markdown",
   "id": "urban-wisdom",
   "metadata": {},
   "source": [
    "### Newton Polynomial"
   ]
  },
  {
   "cell_type": "code",
   "execution_count": 22,
   "id": "roman-coach",
   "metadata": {},
   "outputs": [
    {
     "data": {
      "text/latex": [
       "$\\displaystyle 0.485714285714286 x \\left(x + 1\\right) \\left(x + 5\\right) + 2.0 x - 1.4 \\left(x + 1\\right) \\left(x + 5\\right) + 8.0$"
      ],
      "text/plain": [
       "0.485714285714286*x*(x + 1)*(x + 5) + 2.0*x - 1.4*(x + 1)*(x + 5) + 8.0"
      ]
     },
     "execution_count": 22,
     "metadata": {},
     "output_type": "execute_result"
    }
   ],
   "source": [
    "newton"
   ]
  },
  {
   "cell_type": "code",
   "execution_count": 23,
   "id": "utility-istanbul",
   "metadata": {},
   "outputs": [
    {
     "data": {
      "text/latex": [
       "$\\displaystyle 0.485714285714286 x^{3} + 1.51428571428571 x^{2} - 3.97142857142857 x + 1.0$"
      ],
      "text/plain": [
       "0.485714285714286*x**3 + 1.51428571428571*x**2 - 3.97142857142857*x + 1.0"
      ]
     },
     "execution_count": 23,
     "metadata": {},
     "output_type": "execute_result"
    }
   ],
   "source": [
    "simplify(newton)"
   ]
  },
  {
   "cell_type": "code",
   "execution_count": 24,
   "id": "respected-crest",
   "metadata": {},
   "outputs": [
    {
     "data": {
      "image/png": "[encoded data removed]",
      "text/plain": [
       "<Figure size 576x432 with 1 Axes>"
      ]
     },
     "metadata": {
      "needs_background": "light"
     },
     "output_type": "display_data"
    }
   ],
   "source": [
    "# plt.style.use('seaborn-poster')\n",
    "X = np.linspace(-30, 30, 50, endpoint=True)\n",
    "L = lambdify(x_var, lagrange)\n",
    "L_y = L(X)\n",
    "N = lambdify(x_var, newton)\n",
    "N_y = N(X)\n",
    "\n",
    "fig = plt.figure(figsize=(8, 6))\n",
    "# lagrange function\n",
    "plt.plot(X, L_y, label='Lagrange / Newton')\n",
    "\n",
    "# print interpolation points\n",
    "plt.plot(x, y, 'ko', c='red')\n",
    "# axes\n",
    "plt.axvline(color=\"black\", linewidth=0.5)\n",
    "plt.axhline(color='black', linewidth=0.5)\n",
    "plt.grid()\n",
    "\n",
    "plt.title('Lagrange and Newton Polynomials')\n",
    "plt.legend()\n",
    "plt.show()"
   ]
  },
  {
   "cell_type": "markdown",
   "id": "waiting-replacement",
   "metadata": {},
   "source": [
    "### Найдем значение в точке"
   ]
  },
  {
   "cell_type": "code",
   "execution_count": 25,
   "id": "initial-kinase",
   "metadata": {},
   "outputs": [
    {
     "name": "stdout",
     "output_type": "stream",
     "text": [
      "Point!\n",
      "x = 1\n",
      "L(1) = -0.9714285714285713\n",
      "N(1) = -0.9714285714285644\n"
     ]
    },
    {
     "data": {
      "image/png": "[encoded data removed]",
      "text/plain": [
       "<Figure size 576x432 with 1 Axes>"
      ]
     },
     "metadata": {
      "needs_background": "light"
     },
     "output_type": "display_data"
    }
   ],
   "source": [
    "point_x = tests.point_3\n",
    "print(f\"Point!\\nx = {point_x}\")\n",
    "\n",
    "point_y_lagr = L(point_x)\n",
    "point_y_newt = N(point_x)\n",
    "print(f'L({point_x}) = {point_y_lagr}')\n",
    "print(f'N({point_x}) = {point_y_newt}')\n",
    "\n",
    "X = np.linspace(-6, 5, 50, endpoint=True)\n",
    "L_y = L(X)\n",
    "\n",
    "fig = plt.figure(figsize=(8, 6))\n",
    "# lagrange function\n",
    "plt.plot(X, L_y, label='Lagrange / Newton')\n",
    "\n",
    "# print interpolation points\n",
    "plt.plot(point_x, point_y_lagr, 'ko', c='black')\n",
    "plt.plot(x, y, 'ko', c='red')\n",
    "# axes\n",
    "plt.axvline(color=\"black\", linewidth=0.5)\n",
    "plt.axhline(color='black', linewidth=0.5)\n",
    "\n",
    "plt.grid()\n",
    "\n",
    "plt.title('Lagrange and Newton Polynomials')\n",
    "plt.legend()\n",
    "plt.show()"
   ]
  },
  {
   "cell_type": "code",
   "execution_count": null,
   "id": "organic-problem",
   "metadata": {},
   "outputs": [],
   "source": []
  },
  {
   "cell_type": "code",
   "execution_count": null,
   "id": "instrumental-healthcare",
   "metadata": {},
   "outputs": [],
   "source": []
  },
  {
   "cell_type": "markdown",
   "id": "freelance-skill",
   "metadata": {},
   "source": [
    "### Test 4"
   ]
  },
  {
   "cell_type": "code",
   "execution_count": 26,
   "id": "imported-makeup",
   "metadata": {},
   "outputs": [
    {
     "name": "stdout",
     "output_type": "stream",
     "text": [
      "\tData:\n",
      "x = [0, 1, 2, 3]\n",
      "y = [5, 1, 7, 29]\n",
      "--------------------------------------------------------------------------------\n",
      "\tLagrange interpolation polynomial:\n",
      "L(x) = x*(3/2 - x/2)*(2 - x) + 7*x*(3 - x)*(x - 1)/2 + 29*x*(x/2 - 1/2)*(x - 2)/3 + 5*(1 - x)*(1 - x/2)*(1 - x/3)\n",
      "Interpolation point: x = 2.5\n",
      "Lagrange poly result on x = 2.5\n",
      "L(2.5) = 15.6250\n",
      "--------------------------------------------------------------------------------\n",
      "\tNewton interpolation polynomial:\n",
      "N(x) = 1.0*x*(x - 2)*(x - 1) + 5.0*x*(x - 1) - 4.0*x + 5\n",
      "Interpolation point: x = 2.5\n",
      "Newton poly result on x = 2.5\n",
      "N(2.5) = 15.6250\n"
     ]
    }
   ],
   "source": [
    "x = tests.x_4\n",
    "y = tests.y_4\n",
    "point = tests.point_4\n",
    "x_var = symbols('x')\n",
    "\n",
    "newton = newton_poly(x, y)\n",
    "lagrange = lagrange_poly(x, y)\n",
    "\n",
    "print(f\"\\tData:\\n\"\n",
    "      f\"x = {x}\\n\"\n",
    "      f\"y = {y}\")\n",
    "\n",
    "print('-' * 80)\n",
    "\n",
    "print(f'\\tLagrange interpolation polynomial:\\nL(x) = {lagrange}')\n",
    "print(f'Interpolation point: x = {point}')\n",
    "print(f'Lagrange poly result on x = {point}\\nL({point}) = {float(lagrange.subs(x_var, point)):.4f}')\n",
    "\n",
    "print('-' * 80)\n",
    "\n",
    "print(f'\\tNewton interpolation polynomial:\\nN(x) = {newton}')\n",
    "print(f'Interpolation point: x = {point}')\n",
    "print(f'Newton poly result on x = {point}\\nN({point}) = {float(newton.subs(x_var, point)):.4f}')"
   ]
  },
  {
   "cell_type": "markdown",
   "id": "unique-idaho",
   "metadata": {},
   "source": [
    "### Lagrange Polynomial"
   ]
  },
  {
   "cell_type": "code",
   "execution_count": 27,
   "id": "raised-treat",
   "metadata": {},
   "outputs": [
    {
     "data": {
      "text/latex": [
       "$\\displaystyle x \\left(\\frac{3}{2} - \\frac{x}{2}\\right) \\left(2 - x\\right) + \\frac{7 x \\left(3 - x\\right) \\left(x - 1\\right)}{2} + \\frac{29 x \\left(\\frac{x}{2} - \\frac{1}{2}\\right) \\left(x - 2\\right)}{3} + 5 \\left(1 - x\\right) \\left(1 - \\frac{x}{2}\\right) \\left(1 - \\frac{x}{3}\\right)$"
      ],
      "text/plain": [
       "x*(3/2 - x/2)*(2 - x) + 7*x*(3 - x)*(x - 1)/2 + 29*x*(x/2 - 1/2)*(x - 2)/3 + 5*(1 - x)*(1 - x/2)*(1 - x/3)"
      ]
     },
     "execution_count": 27,
     "metadata": {},
     "output_type": "execute_result"
    }
   ],
   "source": [
    "lagrange"
   ]
  },
  {
   "cell_type": "code",
   "execution_count": 28,
   "id": "single-journey",
   "metadata": {},
   "outputs": [
    {
     "data": {
      "text/latex": [
       "$\\displaystyle x^{3} + 2 x^{2} - 7 x + 5$"
      ],
      "text/plain": [
       "x**3 + 2*x**2 - 7*x + 5"
      ]
     },
     "execution_count": 28,
     "metadata": {},
     "output_type": "execute_result"
    }
   ],
   "source": [
    "simplify(lagrange)"
   ]
  },
  {
   "cell_type": "markdown",
   "id": "loose-birmingham",
   "metadata": {},
   "source": [
    "### Newton Polynomial"
   ]
  },
  {
   "cell_type": "code",
   "execution_count": 29,
   "id": "adjusted-colorado",
   "metadata": {},
   "outputs": [
    {
     "data": {
      "text/latex": [
       "$\\displaystyle 1.0 x \\left(x - 2\\right) \\left(x - 1\\right) + 5.0 x \\left(x - 1\\right) - 4.0 x + 5$"
      ],
      "text/plain": [
       "1.0*x*(x - 2)*(x - 1) + 5.0*x*(x - 1) - 4.0*x + 5"
      ]
     },
     "execution_count": 29,
     "metadata": {},
     "output_type": "execute_result"
    }
   ],
   "source": [
    "newton"
   ]
  },
  {
   "cell_type": "code",
   "execution_count": 30,
   "id": "liquid-championship",
   "metadata": {},
   "outputs": [
    {
     "data": {
      "text/latex": [
       "$\\displaystyle 1.0 x^{3} + 2.0 x^{2} - 7.0 x + 5.0$"
      ],
      "text/plain": [
       "1.0*x**3 + 2.0*x**2 - 7.0*x + 5.0"
      ]
     },
     "execution_count": 30,
     "metadata": {},
     "output_type": "execute_result"
    }
   ],
   "source": [
    "simplify(newton)"
   ]
  },
  {
   "cell_type": "code",
   "execution_count": 31,
   "id": "ordered-fossil",
   "metadata": {},
   "outputs": [
    {
     "data": {
      "image/png": "[encoded data removed]",
      "text/plain": [
       "<Figure size 576x432 with 1 Axes>"
      ]
     },
     "metadata": {
      "needs_background": "light"
     },
     "output_type": "display_data"
    }
   ],
   "source": [
    "# plt.style.use('seaborn-poster')\n",
    "X = np.linspace(-30, 30, 50, endpoint=True)\n",
    "L = lambdify(x_var, lagrange)\n",
    "L_y = L(X)\n",
    "N = lambdify(x_var, newton)\n",
    "N_y = N(X)\n",
    "\n",
    "fig = plt.figure(figsize=(8, 6))\n",
    "# lagrange function\n",
    "plt.plot(X, L_y, label='Lagrange / Newton')\n",
    "\n",
    "# print interpolation points\n",
    "plt.plot(x, y, 'ko', c='red')\n",
    "# axes\n",
    "plt.axvline(color=\"black\", linewidth=0.5)\n",
    "plt.axhline(color='black', linewidth=0.5)\n",
    "plt.grid()\n",
    "\n",
    "plt.title('Lagrange and Newton Polynomials')\n",
    "plt.legend()\n",
    "plt.show()"
   ]
  },
  {
   "cell_type": "markdown",
   "id": "wired-twins",
   "metadata": {},
   "source": [
    "### Найдем значение в точке"
   ]
  },
  {
   "cell_type": "code",
   "execution_count": 32,
   "id": "prompt-manor",
   "metadata": {},
   "outputs": [
    {
     "name": "stdout",
     "output_type": "stream",
     "text": [
      "Point!\n",
      "x = 2.5\n",
      "L(2.5) = 15.625\n",
      "N(2.5) = 15.625\n"
     ]
    },
    {
     "data": {
      "image/png": "[encoded data removed]",
      "text/plain": [
       "<Figure size 576x432 with 1 Axes>"
      ]
     },
     "metadata": {
      "needs_background": "light"
     },
     "output_type": "display_data"
    }
   ],
   "source": [
    "point_x = tests.point_4\n",
    "print(f\"Point!\\nx = {point_x}\")\n",
    "\n",
    "point_y_lagr = L(point_x)\n",
    "point_y_newt = N(point_x)\n",
    "print(f'L({point_x}) = {point_y_lagr}')\n",
    "print(f'N({point_x}) = {point_y_newt}')\n",
    "\n",
    "X = np.linspace(-5, 5, 50, endpoint=True)\n",
    "L_y = L(X)\n",
    "\n",
    "fig = plt.figure(figsize=(8, 6))\n",
    "# lagrange function\n",
    "plt.plot(X, L_y, label='Lagrange / Newton')\n",
    "\n",
    "# print interpolation points\n",
    "plt.plot(point_x, point_y_lagr, 'ko', c='black')\n",
    "plt.plot(x, y, 'ko', c='red')\n",
    "# axes\n",
    "plt.axvline(color=\"black\", linewidth=0.5)\n",
    "plt.axhline(color='black', linewidth=0.5)\n",
    "\n",
    "plt.grid()\n",
    "\n",
    "plt.title('Lagrange and Newton Polynomials')\n",
    "plt.legend()\n",
    "plt.show()"
   ]
  },
  {
   "cell_type": "code",
   "execution_count": null,
   "id": "returning-burton",
   "metadata": {},
   "outputs": [],
   "source": []
  },
  {
   "cell_type": "code",
   "execution_count": null,
   "id": "exempt-criticism",
   "metadata": {},
   "outputs": [],
   "source": []
  },
  {
   "cell_type": "markdown",
   "id": "unusual-witness",
   "metadata": {},
   "source": [
    "### Test 5"
   ]
  },
  {
   "cell_type": "code",
   "execution_count": 33,
   "id": "usual-algeria",
   "metadata": {},
   "outputs": [
    {
     "name": "stdout",
     "output_type": "stream",
     "text": [
      "\tData:\n",
      "x = [0.1, 0.5, 0.7, 1.2, 1.5]\n",
      "y = [1.2, 2.7, 3.8, 4.7, 6]\n",
      "--------------------------------------------------------------------------------\n",
      "\tLagrange interpolation polynomial:\n",
      "L(x) = 1.2*(1.07142857142857 - 0.714285714285714*x)*(1.09090909090909 - 0.909090909090909*x)*(1.16666666666667 - 1.66666666666667*x)*(1.25 - 2.5*x) + 2.7*(1.5 - 1.0*x)*(1.71428571428571 - 1.42857142857143*x)*(3.5 - 5.0*x)*(2.5*x - 0.25) + 3.8*(1.875 - 1.25*x)*(2.4 - 2.0*x)*(1.66666666666667*x - 0.166666666666667)*(5.0*x - 2.5) + 4.7*(5.0 - 3.33333333333333*x)*(0.909090909090909*x - 0.0909090909090909)*(1.42857142857143*x - 0.714285714285714)*(2.0*x - 1.4) + 6*(0.714285714285714*x - 0.0714285714285714)*(1.0*x - 0.5)*(1.25*x - 0.875)*(3.33333333333333*x - 4.0)\n",
      "Interpolation point: x = 0.8\n",
      "Lagrange poly result on x = 0.8\n",
      "L(0.8) = 4.1855\n",
      "--------------------------------------------------------------------------------\n",
      "\tNewton interpolation polynomial:\n",
      "N(x) = 3.75*x + 11.3636363636364*(x - 1.2)*(x - 0.7)*(x - 0.5)*(x - 0.1) - 7.45670995670995*(x - 0.7)*(x - 0.5)*(x - 0.1) + 2.91666666666666*(x - 0.5)*(x - 0.1) + 0.825\n",
      "Interpolation point: x = 0.8\n",
      "Newton poly result on x = 0.8\n",
      "N(0.8) = 4.1855\n"
     ]
    }
   ],
   "source": [
    "x = tests.x_5\n",
    "y = tests.y_5\n",
    "point = tests.point_5\n",
    "x_var = symbols('x')\n",
    "\n",
    "newton = newton_poly(x, y)\n",
    "lagrange = lagrange_poly(x, y)\n",
    "\n",
    "print(f\"\\tData:\\n\"\n",
    "      f\"x = {x}\\n\"\n",
    "      f\"y = {y}\")\n",
    "\n",
    "print('-' * 80)\n",
    "\n",
    "print(f'\\tLagrange interpolation polynomial:\\nL(x) = {lagrange}')\n",
    "print(f'Interpolation point: x = {point}')\n",
    "print(f'Lagrange poly result on x = {point}\\nL({point}) = {float(lagrange.subs(x_var, point)):.4f}')\n",
    "\n",
    "print('-' * 80)\n",
    "\n",
    "print(f'\\tNewton interpolation polynomial:\\nN(x) = {newton}')\n",
    "print(f'Interpolation point: x = {point}')\n",
    "print(f'Newton poly result on x = {point}\\nN({point}) = {float(newton.subs(x_var, point)):.4f}')"
   ]
  },
  {
   "cell_type": "markdown",
   "id": "handmade-scanner",
   "metadata": {},
   "source": [
    "### Lagrange Polynomial"
   ]
  },
  {
   "cell_type": "code",
   "execution_count": 34,
   "id": "invisible-beads",
   "metadata": {},
   "outputs": [
    {
     "data": {
      "text/latex": [
       "$\\displaystyle 1.2 \\left(1.07142857142857 - 0.714285714285714 x\\right) \\left(1.09090909090909 - 0.909090909090909 x\\right) \\left(1.16666666666667 - 1.66666666666667 x\\right) \\left(1.25 - 2.5 x\\right) + 2.7 \\left(1.5 - 1.0 x\\right) \\left(1.71428571428571 - 1.42857142857143 x\\right) \\left(3.5 - 5.0 x\\right) \\left(2.5 x - 0.25\\right) + 3.8 \\left(1.875 - 1.25 x\\right) \\left(2.4 - 2.0 x\\right) \\left(1.66666666666667 x - 0.166666666666667\\right) \\left(5.0 x - 2.5\\right) + 4.7 \\left(5.0 - 3.33333333333333 x\\right) \\left(0.909090909090909 x - 0.0909090909090909\\right) \\left(1.42857142857143 x - 0.714285714285714\\right) \\left(2.0 x - 1.4\\right) + 6 \\left(0.714285714285714 x - 0.0714285714285714\\right) \\left(1.0 x - 0.5\\right) \\left(1.25 x - 0.875\\right) \\left(3.33333333333333 x - 4.0\\right)$"
      ],
      "text/plain": [
       "1.2*(1.07142857142857 - 0.714285714285714*x)*(1.09090909090909 - 0.909090909090909*x)*(1.16666666666667 - 1.66666666666667*x)*(1.25 - 2.5*x) + 2.7*(1.5 - 1.0*x)*(1.71428571428571 - 1.42857142857143*x)*(3.5 - 5.0*x)*(2.5*x - 0.25) + 3.8*(1.875 - 1.25*x)*(2.4 - 2.0*x)*(1.66666666666667*x - 0.166666666666667)*(5.0*x - 2.5) + 4.7*(5.0 - 3.33333333333333*x)*(0.909090909090909*x - 0.0909090909090909)*(1.42857142857143*x - 0.714285714285714)*(2.0*x - 1.4) + 6*(0.714285714285714*x - 0.0714285714285714)*(1.0*x - 0.5)*(1.25*x - 0.875)*(3.33333333333333*x - 4.0)"
      ]
     },
     "execution_count": 34,
     "metadata": {},
     "output_type": "execute_result"
    }
   ],
   "source": [
    "lagrange"
   ]
  },
  {
   "cell_type": "code",
   "execution_count": 35,
   "id": "organized-newark",
   "metadata": {},
   "outputs": [
    {
     "data": {
      "text/latex": [
       "$\\displaystyle 11.3636363636364 x^{4} - 35.8658008658009 x^{3} + 35.6785714285714 x^{2} - 8.31147186147186 x + 1.70909090909091$"
      ],
      "text/plain": [
       "11.3636363636364*x**4 - 35.8658008658009*x**3 + 35.6785714285714*x**2 - 8.31147186147186*x + 1.70909090909091"
      ]
     },
     "execution_count": 35,
     "metadata": {},
     "output_type": "execute_result"
    }
   ],
   "source": [
    "simplify(lagrange)"
   ]
  },
  {
   "cell_type": "markdown",
   "id": "innocent-rings",
   "metadata": {},
   "source": [
    "### Newton Polynomial"
   ]
  },
  {
   "cell_type": "code",
   "execution_count": 36,
   "id": "wrong-deposit",
   "metadata": {},
   "outputs": [
    {
     "data": {
      "text/latex": [
       "$\\displaystyle 3.75 x + 11.3636363636364 \\left(x - 1.2\\right) \\left(x - 0.7\\right) \\left(x - 0.5\\right) \\left(x - 0.1\\right) - 7.45670995670995 \\left(x - 0.7\\right) \\left(x - 0.5\\right) \\left(x - 0.1\\right) + 2.91666666666666 \\left(x - 0.5\\right) \\left(x - 0.1\\right) + 0.825$"
      ],
      "text/plain": [
       "3.75*x + 11.3636363636364*(x - 1.2)*(x - 0.7)*(x - 0.5)*(x - 0.1) - 7.45670995670995*(x - 0.7)*(x - 0.5)*(x - 0.1) + 2.91666666666666*(x - 0.5)*(x - 0.1) + 0.825"
      ]
     },
     "execution_count": 36,
     "metadata": {},
     "output_type": "execute_result"
    }
   ],
   "source": [
    "newton"
   ]
  },
  {
   "cell_type": "code",
   "execution_count": 37,
   "id": "absolute-qualification",
   "metadata": {},
   "outputs": [
    {
     "data": {
      "text/latex": [
       "$\\displaystyle 11.3636363636364 x^{4} - 35.8658008658009 x^{3} + 35.6785714285714 x^{2} - 8.31147186147185 x + 1.70909090909091$"
      ],
      "text/plain": [
       "11.3636363636364*x**4 - 35.8658008658009*x**3 + 35.6785714285714*x**2 - 8.31147186147185*x + 1.70909090909091"
      ]
     },
     "execution_count": 37,
     "metadata": {},
     "output_type": "execute_result"
    }
   ],
   "source": [
    "simplify(newton)"
   ]
  },
  {
   "cell_type": "code",
   "execution_count": 38,
   "id": "peaceful-invasion",
   "metadata": {},
   "outputs": [
    {
     "data": {
      "image/png": "[encoded data removed]",
      "text/plain": [
       "<Figure size 576x432 with 1 Axes>"
      ]
     },
     "metadata": {
      "needs_background": "light"
     },
     "output_type": "display_data"
    }
   ],
   "source": [
    "# plt.style.use('seaborn-poster')\n",
    "X = np.linspace(-5, 5, 50, endpoint=True)\n",
    "L = lambdify(x_var, lagrange)\n",
    "L_y = L(X)\n",
    "N = lambdify(x_var, newton)\n",
    "N_y = N(X)\n",
    "\n",
    "fig = plt.figure(figsize=(8, 6))\n",
    "# lagrange function\n",
    "plt.plot(X, L_y, label='Lagrange / Newton')\n",
    "\n",
    "# print interpolation points\n",
    "plt.plot(x, y, 'ko', c='red')\n",
    "# axes\n",
    "plt.axvline(color=\"black\", linewidth=0.5)\n",
    "plt.axhline(color='black', linewidth=0.5)\n",
    "plt.grid()\n",
    "\n",
    "plt.title('Lagrange and Newton Polynomials')\n",
    "plt.legend()\n",
    "plt.show()"
   ]
  },
  {
   "cell_type": "markdown",
   "id": "weekly-illustration",
   "metadata": {},
   "source": [
    "### Найдем значение в точке"
   ]
  },
  {
   "cell_type": "code",
   "execution_count": 39,
   "id": "molecular-holly",
   "metadata": {},
   "outputs": [
    {
     "name": "stdout",
     "output_type": "stream",
     "text": [
      "Point!\n",
      "x = 0.8\n",
      "L(0.8) = 4.185454545454566\n",
      "N(0.8) = 4.185454545454544\n"
     ]
    },
    {
     "data": {
      "image/png": "[encoded data removed]",
      "text/plain": [
       "<Figure size 576x432 with 1 Axes>"
      ]
     },
     "metadata": {
      "needs_background": "light"
     },
     "output_type": "display_data"
    }
   ],
   "source": [
    "point_x = tests.point_5\n",
    "print(f\"Point!\\nx = {point_x}\")\n",
    "\n",
    "point_y_lagr = L(point_x)\n",
    "point_y_newt = N(point_x)\n",
    "print(f'L({point_x}) = {point_y_lagr}')\n",
    "print(f'N({point_x}) = {point_y_newt}')\n",
    "\n",
    "X = np.linspace(-1, 2, 50, endpoint=True)\n",
    "L_y = L(X)\n",
    "\n",
    "fig = plt.figure(figsize=(8, 6))\n",
    "# lagrange function\n",
    "plt.plot(X, L_y, label='Lagrange / Newton')\n",
    "\n",
    "# print interpolation points\n",
    "plt.plot(point_x, point_y_lagr, 'ko', c='black')\n",
    "plt.plot(x, y, 'ko', c='red')\n",
    "# axes\n",
    "plt.axvline(color=\"black\", linewidth=0.5)\n",
    "plt.axhline(color='black', linewidth=0.5)\n",
    "\n",
    "plt.grid()\n",
    "\n",
    "plt.title('Lagrange and Newton Polynomials')\n",
    "plt.legend()\n",
    "plt.show()"
   ]
  },
  {
   "cell_type": "code",
   "execution_count": null,
   "id": "intimate-engagement",
   "metadata": {},
   "outputs": [],
   "source": []
  },
  {
   "cell_type": "code",
   "execution_count": null,
   "id": "presidential-millennium",
   "metadata": {},
   "outputs": [],
   "source": []
  },
  {
   "cell_type": "code",
   "execution_count": null,
   "id": "protecting-fundamentals",
   "metadata": {},
   "outputs": [],
   "source": []
  },
  {
   "cell_type": "markdown",
   "id": "norwegian-infection",
   "metadata": {},
   "source": [
    "### Test 6"
   ]
  },
  {
   "cell_type": "code",
   "execution_count": 40,
   "id": "underlying-belle",
   "metadata": {},
   "outputs": [
    {
     "name": "stdout",
     "output_type": "stream",
     "text": [
      "\tData:\n",
      "x = [1.5, -0.3333333333333333, 0, 0.16666666666666666, 0.5]\n",
      "y = [1, -0.8660254037844386, 0, 0.5, 1]\n",
      "--------------------------------------------------------------------------------\n",
      "\tLagrange interpolation polynomial:\n",
      "L(x) = 2.59807621135332*x*(0.333333333333333 - 2.0*x)*(0.6 - 1.2*x)*(0.818181818181818 - 0.545454545454546*x) + 3.0*x*(1.125 - 0.75*x)*(1.5 - 3.0*x)*(2.0*x + 0.666666666666667) + 2.0*x*(1.5 - 1.0*x)*(1.2*x + 0.4)*(3.0*x - 0.5) + 0.666666666666667*x*(0.545454545454546*x + 0.181818181818182)*(0.75*x - 0.125)*(1.0*x - 0.5)\n",
      "Interpolation point: x = 0.25\n",
      "Lagrange poly result on x = 0.25\n",
      "L(0.25) = 0.7016\n",
      "--------------------------------------------------------------------------------\n",
      "\tNewton interpolation polynomial:\n",
      "N(x) = 3.1716093233193*x*(x - 1.5)*(x - 0.166666666666667)*(x + 0.333333333333333) - 1.39300776943275*x*(x - 1.5)*(x + 0.333333333333333) + 1.01783203842788*x - 1.05349611528363*(x - 1.5)*(x + 0.333333333333333) - 0.526748057641814\n",
      "Interpolation point: x = 0.25\n",
      "Newton poly result on x = 0.25\n",
      "N(0.25) = 0.7016\n"
     ]
    }
   ],
   "source": [
    "x = tests.x_6\n",
    "y = tests.y_6\n",
    "point = tests.point_6\n",
    "x_var = symbols('x')\n",
    "\n",
    "newton = newton_poly(x, y)\n",
    "lagrange = lagrange_poly(x, y)\n",
    "\n",
    "print(f\"\\tData:\\n\"\n",
    "      f\"x = {x}\\n\"\n",
    "      f\"y = {y}\")\n",
    "\n",
    "print('-' * 80)\n",
    "\n",
    "print(f'\\tLagrange interpolation polynomial:\\nL(x) = {lagrange}')\n",
    "print(f'Interpolation point: x = {point}')\n",
    "print(f'Lagrange poly result on x = {point}\\nL({point}) = {float(lagrange.subs(x_var, point)):.4f}')\n",
    "\n",
    "print('-' * 80)\n",
    "\n",
    "print(f'\\tNewton interpolation polynomial:\\nN(x) = {newton}')\n",
    "print(f'Interpolation point: x = {point}')\n",
    "print(f'Newton poly result on x = {point}\\nN({point}) = {float(newton.subs(x_var, point)):.4f}')"
   ]
  },
  {
   "cell_type": "markdown",
   "id": "dressed-waters",
   "metadata": {},
   "source": [
    "### Lagrange Polynomial"
   ]
  },
  {
   "cell_type": "code",
   "execution_count": 41,
   "id": "sharing-launch",
   "metadata": {},
   "outputs": [
    {
     "data": {
      "text/latex": [
       "$\\displaystyle 2.59807621135332 x \\left(0.333333333333333 - 2.0 x\\right) \\left(0.6 - 1.2 x\\right) \\left(0.818181818181818 - 0.545454545454546 x\\right) + 3.0 x \\left(1.125 - 0.75 x\\right) \\left(1.5 - 3.0 x\\right) \\left(2.0 x + 0.666666666666667\\right) + 2.0 x \\left(1.5 - 1.0 x\\right) \\left(1.2 x + 0.4\\right) \\left(3.0 x - 0.5\\right) + 0.666666666666667 x \\left(0.545454545454546 x + 0.181818181818182\\right) \\left(0.75 x - 0.125\\right) \\left(1.0 x - 0.5\\right)$"
      ],
      "text/plain": [
       "2.59807621135332*x*(0.333333333333333 - 2.0*x)*(0.6 - 1.2*x)*(0.818181818181818 - 0.545454545454546*x) + 3.0*x*(1.125 - 0.75*x)*(1.5 - 3.0*x)*(2.0*x + 0.666666666666667) + 2.0*x*(1.5 - 1.0*x)*(1.2*x + 0.4)*(3.0*x - 0.5) + 0.666666666666667*x*(0.545454545454546*x + 0.181818181818182)*(0.75*x - 0.125)*(1.0*x - 0.5)"
      ]
     },
     "execution_count": 41,
     "metadata": {},
     "output_type": "execute_result"
    }
   ],
   "source": [
    "lagrange"
   ]
  },
  {
   "cell_type": "code",
   "execution_count": 42,
   "id": "aggressive-mountain",
   "metadata": {},
   "outputs": [
    {
     "data": {
      "text/latex": [
       "$\\displaystyle x \\left(3.17160932331929 x^{3} - 5.62182020052513 x^{2} - 0.397423233070764 x + 3.20771550125175\\right)$"
      ],
      "text/plain": [
       "x*(3.17160932331929*x**3 - 5.62182020052513*x**2 - 0.397423233070764*x + 3.20771550125175)"
      ]
     },
     "execution_count": 42,
     "metadata": {},
     "output_type": "execute_result"
    }
   ],
   "source": [
    "simplify(lagrange)"
   ]
  },
  {
   "cell_type": "markdown",
   "id": "suspected-surveillance",
   "metadata": {},
   "source": [
    "### Newton Polynomial"
   ]
  },
  {
   "cell_type": "code",
   "execution_count": 43,
   "id": "medical-natural",
   "metadata": {},
   "outputs": [
    {
     "data": {
      "text/latex": [
       "$\\displaystyle 3.1716093233193 x \\left(x - 1.5\\right) \\left(x - 0.166666666666667\\right) \\left(x + 0.333333333333333\\right) - 1.39300776943275 x \\left(x - 1.5\\right) \\left(x + 0.333333333333333\\right) + 1.01783203842788 x - 1.05349611528363 \\left(x - 1.5\\right) \\left(x + 0.333333333333333\\right) - 0.526748057641814$"
      ],
      "text/plain": [
       "3.1716093233193*x*(x - 1.5)*(x - 0.166666666666667)*(x + 0.333333333333333) - 1.39300776943275*x*(x - 1.5)*(x + 0.333333333333333) + 1.01783203842788*x - 1.05349611528363*(x - 1.5)*(x + 0.333333333333333) - 0.526748057641814"
      ]
     },
     "execution_count": 43,
     "metadata": {},
     "output_type": "execute_result"
    }
   ],
   "source": [
    "newton"
   ]
  },
  {
   "cell_type": "code",
   "execution_count": 44,
   "id": "engaged-broadway",
   "metadata": {},
   "outputs": [
    {
     "data": {
      "text/latex": [
       "$\\displaystyle 3.1716093233193 x^{4} - 5.62182020052514 x^{3} - 0.397423233070763 x^{2} + 3.20771550125176 x - 1.11022302462516 \\cdot 10^{-16}$"
      ],
      "text/plain": [
       "3.1716093233193*x**4 - 5.62182020052514*x**3 - 0.397423233070763*x**2 + 3.20771550125176*x - 1.11022302462516e-16"
      ]
     },
     "execution_count": 44,
     "metadata": {},
     "output_type": "execute_result"
    }
   ],
   "source": [
    "simplify(newton)"
   ]
  },
  {
   "cell_type": "code",
   "execution_count": 45,
   "id": "stainless-listing",
   "metadata": {},
   "outputs": [
    {
     "data": {
      "image/png": "[encoded data removed]",
      "text/plain": [
       "<Figure size 576x432 with 1 Axes>"
      ]
     },
     "metadata": {
      "needs_background": "light"
     },
     "output_type": "display_data"
    }
   ],
   "source": [
    "# plt.style.use('seaborn-poster')\n",
    "X = np.linspace(-2, 2, 50, endpoint=True)\n",
    "L = lambdify(x_var, lagrange)\n",
    "L_y = L(X)\n",
    "N = lambdify(x_var, newton)\n",
    "N_y = N(X)\n",
    "\n",
    "fig = plt.figure(figsize=(8, 6))\n",
    "# lagrange function\n",
    "plt.plot(X, L_y, label='Lagrange / Newton')\n",
    "\n",
    "# sin(pi*x)\n",
    "plt.plot(X, np.sin(np.pi * X), color='green', label='sin(pi*x)')\n",
    "\n",
    "# print interpolation points\n",
    "plt.plot(x, y, 'ko', c='red')\n",
    "# axes\n",
    "plt.axvline(color=\"black\", linewidth=0.5)\n",
    "plt.axhline(color='black', linewidth=0.5)\n",
    "plt.ylim(-1.5, 1.5)\n",
    "plt.grid()\n",
    "\n",
    "plt.title('Lagrange and Newton Polynomials')\n",
    "plt.legend()\n",
    "plt.show()"
   ]
  },
  {
   "cell_type": "markdown",
   "id": "excited-singles",
   "metadata": {},
   "source": [
    "### Найдем значение в точке"
   ]
  },
  {
   "cell_type": "code",
   "execution_count": 46,
   "id": "hearing-polyester",
   "metadata": {},
   "outputs": [
    {
     "name": "stdout",
     "output_type": "stream",
     "text": [
      "Point!\n",
      "x = 0.25\n",
      "L(0.25) = 0.7016380815320267\n",
      "N(0.25) = 0.7016380815320298\n"
     ]
    },
    {
     "data": {
      "image/png": "[encoded data removed]",
      "text/plain": [
       "<Figure size 576x432 with 1 Axes>"
      ]
     },
     "metadata": {
      "needs_background": "light"
     },
     "output_type": "display_data"
    }
   ],
   "source": [
    "point_x = tests.point_6\n",
    "print(f\"Point!\\nx = {point_x}\")\n",
    "\n",
    "point_y_lagr = L(point_x)\n",
    "point_y_newt = N(point_x)\n",
    "print(f'L({point_x}) = {point_y_lagr}')\n",
    "print(f'N({point_x}) = {point_y_newt}')\n",
    "\n",
    "X = np.linspace(-1.5, 1.5, 50, endpoint=True)\n",
    "\n",
    "L_y = L(X)\n",
    "\n",
    "fig = plt.figure(figsize=(8, 6))\n",
    "\n",
    "# lagrange function\n",
    "plt.plot(X, L_y, label='Lagrange / Newton')\n",
    "\n",
    "plt.plot(X, np.sin(np.pi * X), color='green', label='sin(pi*x)')\n",
    "\n",
    "# print interpolation points\n",
    "plt.plot(point_x, point_y_lagr, 'ko', c='black')\n",
    "plt.plot(x, y, 'ko', c='red')\n",
    "# axes\n",
    "plt.axvline(color=\"black\", linewidth=0.5)\n",
    "plt.axhline(color='black', linewidth=0.5)\n",
    "plt.ylim(-1.5, 1.5)\n",
    "\n",
    "plt.grid()\n",
    "\n",
    "plt.title('Lagrange and Newton Polynomials')\n",
    "plt.legend()\n",
    "plt.show()"
   ]
  },
  {
   "cell_type": "code",
   "execution_count": null,
   "id": "colored-assignment",
   "metadata": {},
   "outputs": [],
   "source": []
  },
  {
   "cell_type": "code",
   "execution_count": null,
   "id": "defensive-brief",
   "metadata": {},
   "outputs": [],
   "source": []
  },
  {
   "cell_type": "code",
   "execution_count": 47,
   "id": "approximate-sitting",
   "metadata": {},
   "outputs": [],
   "source": [
    "class task:\n",
    "    k = 10\n",
    "    m = 1.8\n",
    "\n",
    "    x = np.array([0, 0.1, 0.2, 0.3, 0.4, 0.5, 0.6, 0.7, 0.8, 0.9, 1])\n",
    "    p = np.array([0, 0.41, 0.79, 1.13, 1.46, 1.76, 2.04, 2.3, 2.55, 2.79, 3.01])\n",
    "\n",
    "    y = p + (-1)**k * m\n",
    "    point = 0.47"
   ]
  },
  {
   "cell_type": "code",
   "execution_count": null,
   "id": "dangerous-quest",
   "metadata": {},
   "outputs": [],
   "source": []
  },
  {
   "cell_type": "markdown",
   "id": "alpha-calibration",
   "metadata": {},
   "source": [
    "### Task"
   ]
  },
  {
   "cell_type": "code",
   "execution_count": 48,
   "id": "committed-booth",
   "metadata": {},
   "outputs": [
    {
     "name": "stdout",
     "output_type": "stream",
     "text": [
      "\tData:\n",
      "x = [0.  0.1 0.2 0.3 0.4 0.5 0.6 0.7 0.8 0.9 1. ]\n",
      "y = [1.8  2.21 2.59 2.93 3.26 3.56 3.84 4.1  4.35 4.59 4.81]\n",
      "--------------------------------------------------------------------------------\n",
      "\tLagrange interpolation polynomial:\n",
      "L(x) = 22.1*x*(1.11111111111111 - 1.11111111111111*x)*(1.125 - 1.25*x)*(1.14285714285714 - 1.42857142857143*x)*(1.16666666666667 - 1.66666666666667*x)*(1.2 - 2.0*x)*(1.25 - 2.5*x)*(1.33333333333333 - 3.33333333333333*x)*(1.5 - 5.0*x)*(2.0 - 10.0*x) + 12.95*x*(1.25 - 1.25*x)*(1.28571428571429 - 1.42857142857143*x)*(1.33333333333333 - 1.66666666666667*x)*(1.4 - 2.0*x)*(1.5 - 2.5*x)*(1.66666666666667 - 3.33333333333333*x)*(2.0 - 5.0*x)*(3.0 - 10.0*x)*(10.0*x - 1.0) + 9.76666666666667*x*(1.42857142857143 - 1.42857142857143*x)*(1.5 - 1.66666666666667*x)*(1.6 - 2.0*x)*(1.75 - 2.5*x)*(2.0 - 3.33333333333333*x)*(2.5 - 5.0*x)*(4.0 - 10.0*x)*(5.0*x - 0.5)*(10.0*x - 2.0) + 8.15*x*(1.66666666666667 - 1.66666666666667*x)*(1.8 - 2.0*x)*(2.0 - 2.5*x)*(2.33333333333333 - 3.33333333333333*x)*(3.0 - 5.0*x)*(5.0 - 10.0*x)*(3.33333333333333*x - 0.333333333333333)*(5.0*x - 1.0)*(10.0*x - 3.0) + 7.12*x*(2.0 - 2.0*x)*(2.25 - 2.5*x)*(2.66666666666667 - 3.33333333333333*x)*(3.5 - 5.0*x)*(6.0 - 10.0*x)*(2.5*x - 0.25)*(3.33333333333333*x - 0.666666666666667)*(5.0*x - 1.5)*(10.0*x - 4.0) + 6.4*x*(2.5 - 2.5*x)*(3.0 - 3.33333333333333*x)*(4.0 - 5.0*x)*(7.0 - 10.0*x)*(2.0*x - 0.2)*(2.5*x - 0.5)*(3.33333333333333*x - 1.0)*(5.0*x - 2.0)*(10.0*x - 5.0) + 5.85714285714286*x*(3.33333333333333 - 3.33333333333333*x)*(4.5 - 5.0*x)*(7.99999999999999 - 9.99999999999999*x)*(1.66666666666667*x - 0.166666666666667)*(2.0*x - 0.4)*(2.5*x - 0.75)*(3.33333333333333*x - 1.33333333333333)*(5.0*x - 2.5)*(10.0*x - 6.0) + 5.4375*x*(5.0 - 5.0*x)*(9.0 - 10.0*x)*(1.42857142857143*x - 0.142857142857143)*(1.66666666666667*x - 0.333333333333333)*(2.0*x - 0.6)*(2.5*x - 1.0)*(3.33333333333333*x - 1.66666666666667)*(5.0*x - 3.0)*(9.99999999999999*x - 6.99999999999999) + 5.1*x*(10.0 - 10.0*x)*(1.25*x - 0.125)*(1.42857142857143*x - 0.285714285714286)*(1.66666666666667*x - 0.5)*(2.0*x - 0.8)*(2.5*x - 1.25)*(3.33333333333333*x - 2.0)*(5.0*x - 3.5)*(10.0*x - 8.0) + 4.81*x*(1.11111111111111*x - 0.111111111111111)*(1.25*x - 0.25)*(1.42857142857143*x - 0.428571428571429)*(1.66666666666667*x - 0.666666666666667)*(2.0*x - 1.0)*(2.5*x - 1.5)*(3.33333333333333*x - 2.33333333333333)*(5.0*x - 4.0)*(10.0*x - 9.0) + 1.8*(1.0 - 10.0*x)*(1.0 - 5.0*x)*(1.0 - 3.33333333333333*x)*(1.0 - 2.5*x)*(1.0 - 2.0*x)*(1.0 - 1.66666666666667*x)*(1.0 - 1.42857142857143*x)*(1.0 - 1.25*x)*(1.0 - 1.11111111111111*x)*(1.0 - 1.0*x)\n",
      "Interpolation point: x = 0.8\n",
      "Lagrange poly result on x = 0.8\n",
      "L(0.8) = 4.3500\n",
      "--------------------------------------------------------------------------------\n",
      "\tNewton interpolation polynomial:\n",
      "N(x) = 3279.32098765415*x*(x - 0.9)*(x - 0.8)*(x - 0.7)*(x - 0.6)*(x - 0.5)*(x - 0.4)*(x - 0.3)*(x - 0.2)*(x - 0.1) - 2066.79894179886*x*(x - 0.8)*(x - 0.7)*(x - 0.6)*(x - 0.5)*(x - 0.4)*(x - 0.3)*(x - 0.2)*(x - 0.1) + 1165.67460317457*x*(x - 0.7)*(x - 0.6)*(x - 0.5)*(x - 0.4)*(x - 0.3)*(x - 0.2)*(x - 0.1) - 575.396825396813*x*(x - 0.6)*(x - 0.5)*(x - 0.4)*(x - 0.3)*(x - 0.2)*(x - 0.1) + 236.111111111108*x*(x - 0.5)*(x - 0.4)*(x - 0.3)*(x - 0.2)*(x - 0.1) - 74.9999999999997*x*(x - 0.4)*(x - 0.3)*(x - 0.2)*(x - 0.1) + 16.6666666666666*x*(x - 0.3)*(x - 0.2)*(x - 0.1) - 1.66666666666666*x*(x - 0.2)*(x - 0.1) - 1.5*x*(x - 0.1) + 4.1*x + 1.8\n",
      "Interpolation point: x = 0.8\n",
      "Newton poly result on x = 0.8\n",
      "N(0.8) = 4.3500\n"
     ]
    }
   ],
   "source": [
    "x = task.x\n",
    "y = task.y\n",
    "point = tests.point_5\n",
    "x_var = symbols('x')\n",
    "\n",
    "newton = newton_poly(x, y)\n",
    "lagrange = lagrange_poly(x, y)\n",
    "\n",
    "print(f\"\\tData:\\n\"\n",
    "      f\"x = {x}\\n\"\n",
    "      f\"y = {y}\")\n",
    "\n",
    "print('-' * 80)\n",
    "\n",
    "print(f'\\tLagrange interpolation polynomial:\\nL(x) = {lagrange}')\n",
    "print(f'Interpolation point: x = {point}')\n",
    "print(f'Lagrange poly result on x = {point}\\nL({point}) = {float(lagrange.subs(x_var, point)):.4f}')\n",
    "\n",
    "print('-' * 80)\n",
    "\n",
    "print(f'\\tNewton interpolation polynomial:\\nN(x) = {newton}')\n",
    "print(f'Interpolation point: x = {point}')\n",
    "print(f'Newton poly result on x = {point}\\nN({point}) = {float(newton.subs(x_var, point)):.4f}')"
   ]
  },
  {
   "cell_type": "markdown",
   "id": "equipped-strip",
   "metadata": {},
   "source": [
    "### Lagrange Polynomial"
   ]
  },
  {
   "cell_type": "code",
   "execution_count": 49,
   "id": "liquid-engineer",
   "metadata": {},
   "outputs": [
    {
     "data": {
      "text/latex": [
       "$\\displaystyle 22.1 x \\left(1.11111111111111 - 1.11111111111111 x\\right) \\left(1.125 - 1.25 x\\right) \\left(1.14285714285714 - 1.42857142857143 x\\right) \\left(1.16666666666667 - 1.66666666666667 x\\right) \\left(1.2 - 2.0 x\\right) \\left(1.25 - 2.5 x\\right) \\left(1.33333333333333 - 3.33333333333333 x\\right) \\left(1.5 - 5.0 x\\right) \\left(2.0 - 10.0 x\\right) + 12.95 x \\left(1.25 - 1.25 x\\right) \\left(1.28571428571429 - 1.42857142857143 x\\right) \\left(1.33333333333333 - 1.66666666666667 x\\right) \\left(1.4 - 2.0 x\\right) \\left(1.5 - 2.5 x\\right) \\left(1.66666666666667 - 3.33333333333333 x\\right) \\left(2.0 - 5.0 x\\right) \\left(3.0 - 10.0 x\\right) \\left(10.0 x - 1.0\\right) + 9.76666666666667 x \\left(1.42857142857143 - 1.42857142857143 x\\right) \\left(1.5 - 1.66666666666667 x\\right) \\left(1.6 - 2.0 x\\right) \\left(1.75 - 2.5 x\\right) \\left(2.0 - 3.33333333333333 x\\right) \\left(2.5 - 5.0 x\\right) \\left(4.0 - 10.0 x\\right) \\left(5.0 x - 0.5\\right) \\left(10.0 x - 2.0\\right) + 8.15 x \\left(1.66666666666667 - 1.66666666666667 x\\right) \\left(1.8 - 2.0 x\\right) \\left(2.0 - 2.5 x\\right) \\left(2.33333333333333 - 3.33333333333333 x\\right) \\left(3.0 - 5.0 x\\right) \\left(5.0 - 10.0 x\\right) \\left(3.33333333333333 x - 0.333333333333333\\right) \\left(5.0 x - 1.0\\right) \\left(10.0 x - 3.0\\right) + 7.12 x \\left(2.0 - 2.0 x\\right) \\left(2.25 - 2.5 x\\right) \\left(2.66666666666667 - 3.33333333333333 x\\right) \\left(3.5 - 5.0 x\\right) \\left(6.0 - 10.0 x\\right) \\left(2.5 x - 0.25\\right) \\left(3.33333333333333 x - 0.666666666666667\\right) \\left(5.0 x - 1.5\\right) \\left(10.0 x - 4.0\\right) + 6.4 x \\left(2.5 - 2.5 x\\right) \\left(3.0 - 3.33333333333333 x\\right) \\left(4.0 - 5.0 x\\right) \\left(7.0 - 10.0 x\\right) \\left(2.0 x - 0.2\\right) \\left(2.5 x - 0.5\\right) \\left(3.33333333333333 x - 1.0\\right) \\left(5.0 x - 2.0\\right) \\left(10.0 x - 5.0\\right) + 5.85714285714286 x \\left(3.33333333333333 - 3.33333333333333 x\\right) \\left(4.5 - 5.0 x\\right) \\left(7.99999999999999 - 9.99999999999999 x\\right) \\left(1.66666666666667 x - 0.166666666666667\\right) \\left(2.0 x - 0.4\\right) \\left(2.5 x - 0.75\\right) \\left(3.33333333333333 x - 1.33333333333333\\right) \\left(5.0 x - 2.5\\right) \\left(10.0 x - 6.0\\right) + 5.4375 x \\left(5.0 - 5.0 x\\right) \\left(9.0 - 10.0 x\\right) \\left(1.42857142857143 x - 0.142857142857143\\right) \\left(1.66666666666667 x - 0.333333333333333\\right) \\left(2.0 x - 0.6\\right) \\left(2.5 x - 1.0\\right) \\left(3.33333333333333 x - 1.66666666666667\\right) \\left(5.0 x - 3.0\\right) \\left(9.99999999999999 x - 6.99999999999999\\right) + 5.1 x \\left(10.0 - 10.0 x\\right) \\left(1.25 x - 0.125\\right) \\left(1.42857142857143 x - 0.285714285714286\\right) \\left(1.66666666666667 x - 0.5\\right) \\left(2.0 x - 0.8\\right) \\left(2.5 x - 1.25\\right) \\left(3.33333333333333 x - 2.0\\right) \\left(5.0 x - 3.5\\right) \\left(10.0 x - 8.0\\right) + 4.81 x \\left(1.11111111111111 x - 0.111111111111111\\right) \\left(1.25 x - 0.25\\right) \\left(1.42857142857143 x - 0.428571428571429\\right) \\left(1.66666666666667 x - 0.666666666666667\\right) \\left(2.0 x - 1.0\\right) \\left(2.5 x - 1.5\\right) \\left(3.33333333333333 x - 2.33333333333333\\right) \\left(5.0 x - 4.0\\right) \\left(10.0 x - 9.0\\right) + 1.8 \\left(1.0 - 10.0 x\\right) \\left(1.0 - 5.0 x\\right) \\left(1.0 - 3.33333333333333 x\\right) \\left(1.0 - 2.5 x\\right) \\left(1.0 - 2.0 x\\right) \\left(1.0 - 1.66666666666667 x\\right) \\left(1.0 - 1.42857142857143 x\\right) \\left(1.0 - 1.25 x\\right) \\left(1.0 - 1.11111111111111 x\\right) \\left(1.0 - 1.0 x\\right)$"
      ],
      "text/plain": [
       "22.1*x*(1.11111111111111 - 1.11111111111111*x)*(1.125 - 1.25*x)*(1.14285714285714 - 1.42857142857143*x)*(1.16666666666667 - 1.66666666666667*x)*(1.2 - 2.0*x)*(1.25 - 2.5*x)*(1.33333333333333 - 3.33333333333333*x)*(1.5 - 5.0*x)*(2.0 - 10.0*x) + 12.95*x*(1.25 - 1.25*x)*(1.28571428571429 - 1.42857142857143*x)*(1.33333333333333 - 1.66666666666667*x)*(1.4 - 2.0*x)*(1.5 - 2.5*x)*(1.66666666666667 - 3.33333333333333*x)*(2.0 - 5.0*x)*(3.0 - 10.0*x)*(10.0*x - 1.0) + 9.76666666666667*x*(1.42857142857143 - 1.42857142857143*x)*(1.5 - 1.66666666666667*x)*(1.6 - 2.0*x)*(1.75 - 2.5*x)*(2.0 - 3.33333333333333*x)*(2.5 - 5.0*x)*(4.0 - 10.0*x)*(5.0*x - 0.5)*(10.0*x - 2.0) + 8.15*x*(1.66666666666667 - 1.66666666666667*x)*(1.8 - 2.0*x)*(2.0 - 2.5*x)*(2.33333333333333 - 3.33333333333333*x)*(3.0 - 5.0*x)*(5.0 - 10.0*x)*(3.33333333333333*x - 0.333333333333333)*(5.0*x - 1.0)*(10.0*x - 3.0) + 7.12*x*(2.0 - 2.0*x)*(2.25 - 2.5*x)*(2.66666666666667 - 3.33333333333333*x)*(3.5 - 5.0*x)*(6.0 - 10.0*x)*(2.5*x - 0.25)*(3.33333333333333*x - 0.666666666666667)*(5.0*x - 1.5)*(10.0*x - 4.0) + 6.4*x*(2.5 - 2.5*x)*(3.0 - 3.33333333333333*x)*(4.0 - 5.0*x)*(7.0 - 10.0*x)*(2.0*x - 0.2)*(2.5*x - 0.5)*(3.33333333333333*x - 1.0)*(5.0*x - 2.0)*(10.0*x - 5.0) + 5.85714285714286*x*(3.33333333333333 - 3.33333333333333*x)*(4.5 - 5.0*x)*(7.99999999999999 - 9.99999999999999*x)*(1.66666666666667*x - 0.166666666666667)*(2.0*x - 0.4)*(2.5*x - 0.75)*(3.33333333333333*x - 1.33333333333333)*(5.0*x - 2.5)*(10.0*x - 6.0) + 5.4375*x*(5.0 - 5.0*x)*(9.0 - 10.0*x)*(1.42857142857143*x - 0.142857142857143)*(1.66666666666667*x - 0.333333333333333)*(2.0*x - 0.6)*(2.5*x - 1.0)*(3.33333333333333*x - 1.66666666666667)*(5.0*x - 3.0)*(9.99999999999999*x - 6.99999999999999) + 5.1*x*(10.0 - 10.0*x)*(1.25*x - 0.125)*(1.42857142857143*x - 0.285714285714286)*(1.66666666666667*x - 0.5)*(2.0*x - 0.8)*(2.5*x - 1.25)*(3.33333333333333*x - 2.0)*(5.0*x - 3.5)*(10.0*x - 8.0) + 4.81*x*(1.11111111111111*x - 0.111111111111111)*(1.25*x - 0.25)*(1.42857142857143*x - 0.428571428571429)*(1.66666666666667*x - 0.666666666666667)*(2.0*x - 1.0)*(2.5*x - 1.5)*(3.33333333333333*x - 2.33333333333333)*(5.0*x - 4.0)*(10.0*x - 9.0) + 1.8*(1.0 - 10.0*x)*(1.0 - 5.0*x)*(1.0 - 3.33333333333333*x)*(1.0 - 2.5*x)*(1.0 - 2.0*x)*(1.0 - 1.66666666666667*x)*(1.0 - 1.42857142857143*x)*(1.0 - 1.25*x)*(1.0 - 1.11111111111111*x)*(1.0 - 1.0*x)"
      ]
     },
     "execution_count": 49,
     "metadata": {},
     "output_type": "execute_result"
    }
   ],
   "source": [
    "lagrange"
   ]
  },
  {
   "cell_type": "code",
   "execution_count": 50,
   "id": "harmful-palmer",
   "metadata": {},
   "outputs": [
    {
     "data": {
      "text/latex": [
       "$\\displaystyle 3279.32098765438 x^{10} - 16823.7433862444 x^{9} + 37136.2433862388 x^{8} - 46113.5912698247 x^{7} + 35322.1643518358 x^{6} - 17192.6215277705 x^{5} + 5268.12692901166 x^{4} - 966.267030423158 x^{3} + 92.7493452380804 x^{2} + 0.62821428571533 x + 1.8$"
      ],
      "text/plain": [
       "3279.32098765438*x**10 - 16823.7433862444*x**9 + 37136.2433862388*x**8 - 46113.5912698247*x**7 + 35322.1643518358*x**6 - 17192.6215277705*x**5 + 5268.12692901166*x**4 - 966.267030423158*x**3 + 92.7493452380804*x**2 + 0.62821428571533*x + 1.8"
      ]
     },
     "execution_count": 50,
     "metadata": {},
     "output_type": "execute_result"
    }
   ],
   "source": [
    "simplify(lagrange)"
   ]
  },
  {
   "cell_type": "markdown",
   "id": "downtown-disability",
   "metadata": {},
   "source": [
    "### Newton Polynomial"
   ]
  },
  {
   "cell_type": "code",
   "execution_count": 51,
   "id": "descending-cloud",
   "metadata": {},
   "outputs": [
    {
     "data": {
      "text/latex": [
       "$\\displaystyle 3279.32098765415 x \\left(x - 0.9\\right) \\left(x - 0.8\\right) \\left(x - 0.7\\right) \\left(x - 0.6\\right) \\left(x - 0.5\\right) \\left(x - 0.4\\right) \\left(x - 0.3\\right) \\left(x - 0.2\\right) \\left(x - 0.1\\right) - 2066.79894179886 x \\left(x - 0.8\\right) \\left(x - 0.7\\right) \\left(x - 0.6\\right) \\left(x - 0.5\\right) \\left(x - 0.4\\right) \\left(x - 0.3\\right) \\left(x - 0.2\\right) \\left(x - 0.1\\right) + 1165.67460317457 x \\left(x - 0.7\\right) \\left(x - 0.6\\right) \\left(x - 0.5\\right) \\left(x - 0.4\\right) \\left(x - 0.3\\right) \\left(x - 0.2\\right) \\left(x - 0.1\\right) - 575.396825396813 x \\left(x - 0.6\\right) \\left(x - 0.5\\right) \\left(x - 0.4\\right) \\left(x - 0.3\\right) \\left(x - 0.2\\right) \\left(x - 0.1\\right) + 236.111111111108 x \\left(x - 0.5\\right) \\left(x - 0.4\\right) \\left(x - 0.3\\right) \\left(x - 0.2\\right) \\left(x - 0.1\\right) - 74.9999999999997 x \\left(x - 0.4\\right) \\left(x - 0.3\\right) \\left(x - 0.2\\right) \\left(x - 0.1\\right) + 16.6666666666666 x \\left(x - 0.3\\right) \\left(x - 0.2\\right) \\left(x - 0.1\\right) - 1.66666666666666 x \\left(x - 0.2\\right) \\left(x - 0.1\\right) - 1.5 x \\left(x - 0.1\\right) + 4.1 x + 1.8$"
      ],
      "text/plain": [
       "3279.32098765415*x*(x - 0.9)*(x - 0.8)*(x - 0.7)*(x - 0.6)*(x - 0.5)*(x - 0.4)*(x - 0.3)*(x - 0.2)*(x - 0.1) - 2066.79894179886*x*(x - 0.8)*(x - 0.7)*(x - 0.6)*(x - 0.5)*(x - 0.4)*(x - 0.3)*(x - 0.2)*(x - 0.1) + 1165.67460317457*x*(x - 0.7)*(x - 0.6)*(x - 0.5)*(x - 0.4)*(x - 0.3)*(x - 0.2)*(x - 0.1) - 575.396825396813*x*(x - 0.6)*(x - 0.5)*(x - 0.4)*(x - 0.3)*(x - 0.2)*(x - 0.1) + 236.111111111108*x*(x - 0.5)*(x - 0.4)*(x - 0.3)*(x - 0.2)*(x - 0.1) - 74.9999999999997*x*(x - 0.4)*(x - 0.3)*(x - 0.2)*(x - 0.1) + 16.6666666666666*x*(x - 0.3)*(x - 0.2)*(x - 0.1) - 1.66666666666666*x*(x - 0.2)*(x - 0.1) - 1.5*x*(x - 0.1) + 4.1*x + 1.8"
      ]
     },
     "execution_count": 51,
     "metadata": {},
     "output_type": "execute_result"
    }
   ],
   "source": [
    "newton"
   ]
  },
  {
   "cell_type": "code",
   "execution_count": 52,
   "id": "atmospheric-wellington",
   "metadata": {},
   "outputs": [
    {
     "data": {
      "text/latex": [
       "$\\displaystyle 3279.32098765415 x^{10} - 16823.7433862425 x^{9} + 37136.2433862416 x^{8} - 46113.5912698391 x^{7} + 35322.1643518503 x^{6} - 17192.621527777 x^{5} + 5268.12692901213 x^{4} - 966.267030423243 x^{3} + 92.7493452380918 x^{2} + 0.62821428571441 x + 1.8$"
      ],
      "text/plain": [
       "3279.32098765415*x**10 - 16823.7433862425*x**9 + 37136.2433862416*x**8 - 46113.5912698391*x**7 + 35322.1643518503*x**6 - 17192.621527777*x**5 + 5268.12692901213*x**4 - 966.267030423243*x**3 + 92.7493452380918*x**2 + 0.62821428571441*x + 1.8"
      ]
     },
     "execution_count": 52,
     "metadata": {},
     "output_type": "execute_result"
    }
   ],
   "source": [
    "simplify(newton)"
   ]
  },
  {
   "cell_type": "code",
   "execution_count": 53,
   "id": "eligible-philippines",
   "metadata": {},
   "outputs": [
    {
     "data": {
      "image/png": "[encoded data removed]",
      "text/plain": [
       "<Figure size 576x432 with 1 Axes>"
      ]
     },
     "metadata": {
      "needs_background": "light"
     },
     "output_type": "display_data"
    }
   ],
   "source": [
    "# plt.style.use('seaborn-poster')\n",
    "X = np.linspace(-0.15, 1.1, 50, endpoint=True)\n",
    "L = lambdify(x_var, lagrange)\n",
    "L_y = L(X)\n",
    "N = lambdify(x_var, newton)\n",
    "N_y = N(X)\n",
    "\n",
    "fig = plt.figure(figsize=(8, 6))\n",
    "# lagrange function\n",
    "plt.plot(X, L_y, label='Lagrange / Newton')\n",
    "\n",
    "# print interpolation points\n",
    "plt.plot(x, y, 'ko', c='red')\n",
    "# axes\n",
    "plt.axvline(color=\"black\", linewidth=0.5)\n",
    "plt.axhline(color='black', linewidth=0.5)\n",
    "plt.grid()\n",
    "\n",
    "plt.title('Lagrange and Newton Polynomials')\n",
    "plt.legend()\n",
    "plt.show()"
   ]
  },
  {
   "cell_type": "markdown",
   "id": "nuclear-columbus",
   "metadata": {},
   "source": [
    "### Найдем значение в точке"
   ]
  },
  {
   "cell_type": "code",
   "execution_count": 54,
   "id": "antique-router",
   "metadata": {},
   "outputs": [
    {
     "name": "stdout",
     "output_type": "stream",
     "text": [
      "Point!\n",
      "x = 0.47\n",
      "L(0.47) = 3.47265207970881\n",
      "N(0.47) = 3.4726520797088036\n"
     ]
    },
    {
     "data": {
      "image/png": "[encoded data removed]",
      "text/plain": [
       "<Figure size 576x432 with 1 Axes>"
      ]
     },
     "metadata": {
      "needs_background": "light"
     },
     "output_type": "display_data"
    }
   ],
   "source": [
    "point_x = task.point\n",
    "print(f\"Point!\\nx = {point_x}\")\n",
    "\n",
    "point_y_lagr = L(point_x)\n",
    "point_y_newt = N(point_x)\n",
    "print(f'L({point_x}) = {point_y_lagr}')\n",
    "print(f'N({point_x}) = {point_y_newt}')\n",
    "\n",
    "X = np.linspace(-0.1, 1, 100, endpoint=True)\n",
    "L_y = L(X)\n",
    "\n",
    "fig = plt.figure(figsize=(8, 6))\n",
    "# lagrange function\n",
    "plt.plot(X, L_y, label='Lagrange / Newton')\n",
    "\n",
    "# print interpolation points\n",
    "plt.plot(point_x, point_y_lagr, 'ko', c='black')\n",
    "plt.plot(x, y, 'ko', c='red')\n",
    "# axes\n",
    "plt.axvline(color=\"black\", linewidth=0.5)\n",
    "plt.axhline(color='black', linewidth=0.5)\n",
    "\n",
    "plt.grid()\n",
    "\n",
    "plt.title('Lagrange and Newton Polynomials')\n",
    "plt.legend()\n",
    "plt.show()"
   ]
  },
  {
   "cell_type": "code",
   "execution_count": null,
   "id": "identified-stage",
   "metadata": {},
   "outputs": [],
   "source": []
  },
  {
   "cell_type": "code",
   "execution_count": null,
   "id": "alike-ending",
   "metadata": {},
   "outputs": [],
   "source": []
  },
  {
   "cell_type": "code",
   "execution_count": null,
   "id": "accepting-reference",
   "metadata": {},
   "outputs": [],
   "source": []
  },
  {
   "cell_type": "code",
   "execution_count": null,
   "id": "suitable-locking",
   "metadata": {},
   "outputs": [],
   "source": []
  },
  {
   "cell_type": "code",
   "execution_count": null,
   "id": "stock-delaware",
   "metadata": {},
   "outputs": [],
   "source": []
  },
  {
   "cell_type": "code",
   "execution_count": null,
   "id": "coral-basketball",
   "metadata": {},
   "outputs": [],
   "source": []
  },
  {
   "cell_type": "code",
   "execution_count": null,
   "id": "abstract-checkout",
   "metadata": {},
   "outputs": [],
   "source": []
  },
  {
   "cell_type": "code",
   "execution_count": null,
   "id": "agreed-basin",
   "metadata": {},
   "outputs": [],
   "source": []
  },
  {
   "cell_type": "code",
   "execution_count": null,
   "id": "fitting-democracy",
   "metadata": {},
   "outputs": [],
   "source": []
  },
  {
   "cell_type": "code",
   "execution_count": null,
   "id": "proof-hebrew",
   "metadata": {},
   "outputs": [],
   "source": []
  },
  {
   "cell_type": "code",
   "execution_count": null,
   "id": "occupational-replication",
   "metadata": {},
   "outputs": [],
   "source": []
  },
  {
   "cell_type": "code",
   "execution_count": null,
   "id": "eastern-stewart",
   "metadata": {},
   "outputs": [],
   "source": []
  },
  {
   "cell_type": "code",
   "execution_count": null,
   "id": "artificial-paraguay",
   "metadata": {},
   "outputs": [],
   "source": []
  },
  {
   "cell_type": "code",
   "execution_count": null,
   "id": "backed-muslim",
   "metadata": {},
   "outputs": [],
   "source": []
  }
 ],
 "metadata": {
  "kernelspec": {
   "display_name": "Python 3",
   "language": "python",
   "name": "python3"
  },
  "language_info": {
   "codemirror_mode": {
    "name": "ipython",
    "version": 3
   },
   "file_extension": ".py",
   "mimetype": "text/x-python",
   "name": "python",
   "nbconvert_exporter": "python",
   "pygments_lexer": "ipython3",
   "version": "3.9.2"
  }
 },
 "nbformat": 4,
 "nbformat_minor": 5
}
