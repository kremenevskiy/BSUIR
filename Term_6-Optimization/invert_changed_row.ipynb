{
 "cells": [
  {
   "cell_type": "code",
   "execution_count": 98,
   "id": "ccbb0034",
   "metadata": {},
   "outputs": [],
   "source": [
    "import numpy as np"
   ]
  },
  {
   "cell_type": "code",
   "execution_count": 99,
   "id": "6ac750d5",
   "metadata": {},
   "outputs": [],
   "source": [
    "def invert_changed_row(A_inv, x, i):\n",
    "    l = A_inv.dot(x)\n",
    "    if l[i] == 0:\n",
    "        print('not invertable')\n",
    "        return\n",
    "    l_i = l[i]\n",
    "    l[i] = -1\n",
    "    l = - l / l_i\n",
    "\n",
    "    n = A_inv.shape[0]\n",
    "    E = np.eye(n)\n",
    "    E[:, i] = np.array(l)\n",
    "\n",
    "    \n",
    "    A_hat = np.zeros((n, n))\n",
    "    for k in range(n):\n",
    "        for j in range(n):\n",
    "            if k == i:\n",
    "                A_hat[k, j] = E[k,k] * A_inv[k,j]\n",
    "                continue\n",
    "            A_hat[k, j] = E[k,k] * A_inv[k,j] + E[k, i] * A_inv[i, j]\n",
    "    return A_hat"
   ]
  },
  {
   "cell_type": "code",
   "execution_count": 100,
   "id": "e1ea44e8",
   "metadata": {},
   "outputs": [
    {
     "data": {
      "text/plain": [
       "array([[1, 0, 5],\n",
       "       [2, 1, 6],\n",
       "       [3, 4, 0]])"
      ]
     },
     "execution_count": 100,
     "metadata": {},
     "output_type": "execute_result"
    }
   ],
   "source": [
    "A"
   ]
  },
  {
   "cell_type": "code",
   "execution_count": 101,
   "id": "dc09a2ee",
   "metadata": {},
   "outputs": [
    {
     "data": {
      "text/plain": [
       "array([[-24.,  20.,  -5.],\n",
       "       [ 18., -15.,   4.],\n",
       "       [  5.,  -4.,   1.]])"
      ]
     },
     "execution_count": 101,
     "metadata": {},
     "output_type": "execute_result"
    }
   ],
   "source": [
    "A = np.array([\n",
    "    [1, 0, 5],\n",
    "    [2, 1, 6],\n",
    "    [3, 4, 0]\n",
    "])\n",
    "A_inv = np.linalg.inv(A)\n",
    "A_inv"
   ]
  },
  {
   "cell_type": "code",
   "execution_count": 102,
   "id": "da058be4",
   "metadata": {},
   "outputs": [
    {
     "data": {
      "text/plain": [
       "array([[1, 2, 5],\n",
       "       [2, 2, 6],\n",
       "       [3, 2, 0]])"
      ]
     },
     "execution_count": 102,
     "metadata": {},
     "output_type": "execute_result"
    }
   ],
   "source": [
    "x = np.array([2, 2, 2]).T\n",
    "i = 1\n",
    "A_new = A.copy()\n",
    "A_new[:, i] = x\n",
    "A_new"
   ]
  },
  {
   "cell_type": "code",
   "execution_count": 103,
   "id": "0b7c1045",
   "metadata": {},
   "outputs": [
    {
     "data": {
      "text/plain": [
       "array([[-0.85714286,  0.71428571,  0.14285714],\n",
       "       [ 1.28571429, -1.07142857,  0.28571429],\n",
       "       [-0.14285714,  0.28571429, -0.14285714]])"
      ]
     },
     "execution_count": 103,
     "metadata": {},
     "output_type": "execute_result"
    }
   ],
   "source": [
    "np.linalg.inv(A_new)"
   ]
  },
  {
   "cell_type": "code",
   "execution_count": 104,
   "id": "1295a9fc",
   "metadata": {},
   "outputs": [
    {
     "data": {
      "text/plain": [
       "array([[-0.85714286,  0.71428571,  0.14285714],\n",
       "       [ 1.28571429, -1.07142857,  0.28571429],\n",
       "       [-0.14285714,  0.28571429, -0.14285714]])"
      ]
     },
     "execution_count": 104,
     "metadata": {},
     "output_type": "execute_result"
    }
   ],
   "source": [
    "invert_changed_row(A_inv, x, i)"
   ]
  },
  {
   "cell_type": "code",
   "execution_count": 105,
   "id": "e3119995",
   "metadata": {},
   "outputs": [
    {
     "data": {
      "text/plain": [
       "True"
      ]
     },
     "execution_count": 105,
     "metadata": {},
     "output_type": "execute_result"
    }
   ],
   "source": [
    "np.allclose(invert_changed_row(A_inv, x, i), np.linalg.inv(A_new))"
   ]
  },
  {
   "cell_type": "code",
   "execution_count": 106,
   "id": "d8944f51",
   "metadata": {},
   "outputs": [],
   "source": [
    "def test_invert(A=None, x=None, i=1, verbose=False):\n",
    "    n = None\n",
    "    if A is None:\n",
    "        n = 5\n",
    "        A = np.random.rand(n, n)\n",
    "    else:\n",
    "        n = A.shape[0]\n",
    "    if x is None:\n",
    "        x = np.ones(n) * 5\n",
    "    else:\n",
    "        x = np.array(x)\n",
    "    \n",
    "    assert n==x.shape[0], 'Shape of x and A not suitable'\n",
    "    A_inv = np.linalg.inv(A)\n",
    "    A_new = A.copy()\n",
    "    A_new[:, i] = x\n",
    "    A_inv_real = np.linalg.inv(A_new)\n",
    "    A_inv_hand = invert_changed_row(A_inv, x, i)\n",
    "    if verbose:\n",
    "        print('A_inv_real: \\n', A_inv_real)\n",
    "        print('A_inv_hand: \\n', A_inv_hand)\n",
    "        print()\n",
    "    assert np.allclose(A_inv_real, A_inv_hand), 'Matrices are not same'"
   ]
  },
  {
   "cell_type": "code",
   "execution_count": 107,
   "id": "f3eceb4e",
   "metadata": {},
   "outputs": [],
   "source": [
    "def generate_some_tests(n_cases=5, verbose=False, matrix_shape_max=7, random_x=True, random_i=True):\n",
    "    for case in range(n_cases):\n",
    "        print('\\tCase ', case+1)\n",
    "        n = np.random.randint(2, matrix_shape_max)\n",
    "        A = np.random.rand(n, n)\n",
    "        \n",
    "        x = None\n",
    "        if random_x:\n",
    "            x = np.random.rand(n)\n",
    "        else:\n",
    "            x = np.ones(n) * 5\n",
    "        \n",
    "        i = None\n",
    "        if random_i:\n",
    "            i = np.random.randint(0, n)\n",
    "        else:\n",
    "            i = 1\n",
    "        print('A shape: ', A.shape)\n",
    "        print('x shape: ', x.shape)\n",
    "        print('x: ', x)\n",
    "        print('i: ', i, end='\\n\\n')\n",
    "        test_invert(A, x, i, verbose=verbose)\n",
    "        print()"
   ]
  },
  {
   "cell_type": "code",
   "execution_count": 108,
   "id": "8244f4c3",
   "metadata": {},
   "outputs": [
    {
     "name": "stdout",
     "output_type": "stream",
     "text": [
      "\tCase  1\n",
      "A shape:  (3, 3)\n",
      "x shape:  (3,)\n",
      "x:  [0.7050563  0.38346056 0.38223207]\n",
      "i:  1\n",
      "\n",
      "A_inv_real: \n",
      " [[-1.06204078 -1.54875987  3.51275304]\n",
      " [ 2.35154087  0.74757011 -2.47135817]\n",
      " [-0.78939598  1.05642219  0.39628377]]\n",
      "A_inv_hand: \n",
      " [[-1.06204078 -1.54875987  3.51275304]\n",
      " [ 2.35154087  0.74757011 -2.47135817]\n",
      " [-0.78939598  1.05642219  0.39628377]]\n",
      "\n",
      "\n",
      "\tCase  2\n",
      "A shape:  (3, 3)\n",
      "x shape:  (3,)\n",
      "x:  [0.15590919 0.64287998 0.60702772]\n",
      "i:  1\n",
      "\n",
      "A_inv_real: \n",
      " [[ 0.63234236  1.50359361 -1.75480984]\n",
      " [-2.22418182  0.33937523  1.85921138]\n",
      " [ 1.78855935 -1.16435234  0.77374717]]\n",
      "A_inv_hand: \n",
      " [[ 0.63234236  1.50359361 -1.75480984]\n",
      " [-2.22418182  0.33937523  1.85921138]\n",
      " [ 1.78855935 -1.16435234  0.77374717]]\n",
      "\n",
      "\n",
      "\tCase  3\n",
      "A shape:  (3, 3)\n",
      "x shape:  (3,)\n",
      "x:  [0.65351639 0.95930664 0.57858489]\n",
      "i:  2\n",
      "\n",
      "A_inv_real: \n",
      " [[-3.27449031 -1.64361505  6.42371413]\n",
      " [-2.4666878   1.16831403  0.84905344]\n",
      " [ 3.5397562   0.99379806 -3.91756822]]\n",
      "A_inv_hand: \n",
      " [[-3.27449031 -1.64361505  6.42371413]\n",
      " [-2.4666878   1.16831403  0.84905344]\n",
      " [ 3.5397562   0.99379806 -3.91756822]]\n",
      "\n",
      "\n"
     ]
    }
   ],
   "source": [
    "generate_some_tests(n_cases=3, matrix_shape_max=4, verbose=True)"
   ]
  },
  {
   "cell_type": "code",
   "execution_count": null,
   "id": "e3e91b78",
   "metadata": {},
   "outputs": [],
   "source": []
  }
 ],
 "metadata": {
  "kernelspec": {
   "display_name": "Python 3",
   "language": "python",
   "name": "python3"
  },
  "language_info": {
   "codemirror_mode": {
    "name": "ipython",
    "version": 3
   },
   "file_extension": ".py",
   "mimetype": "text/x-python",
   "name": "python",
   "nbconvert_exporter": "python",
   "pygments_lexer": "ipython3",
   "version": "3.8.8"
  }
 },
 "nbformat": 4,
 "nbformat_minor": 5
}
