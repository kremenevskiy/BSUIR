{
 "cells": [
  {
   "cell_type": "code",
   "execution_count": 1,
   "id": "93ed6a6d",
   "metadata": {},
   "outputs": [],
   "source": [
    "import numpy as np"
   ]
  },
  {
   "cell_type": "code",
   "execution_count": 108,
   "id": "09c640d0",
   "metadata": {},
   "outputs": [],
   "source": [
    "def invert_changed_row(A_inv, x, i):\n",
    "    l = A_inv.dot(x)\n",
    "    if l[i] == 0:\n",
    "        print('not invertable')\n",
    "        return\n",
    "    l_i = l[i]\n",
    "    l[i] = -1\n",
    "    l = - l / l_i\n",
    "\n",
    "    n = A_inv.shape[0]\n",
    "    E = np.eye(n)\n",
    "    E[:, i] = np.array(l)\n",
    "\n",
    "    \n",
    "    A_hat = np.zeros((n, n))\n",
    "    for k in range(n):\n",
    "        for j in range(n):\n",
    "            if k == i:\n",
    "                A_hat[k, j] = E[k,k] * A_inv[k,j]\n",
    "                continue\n",
    "            A_hat[k, j] = E[k,k] * A_inv[k,j] + E[k, i] * A_inv[i, j]\n",
    "    return A_hat"
   ]
  },
  {
   "cell_type": "code",
   "execution_count": 202,
   "id": "ba6f8631",
   "metadata": {},
   "outputs": [],
   "source": [
    "def simplex_method(c: np.array, B: np.array, A: np.array, b: np.array, verbose: bool=False):\n",
    "    x = np.zeros(A.shape[1])\n",
    "    x[c==0] = b\n",
    "    B -= 1\n",
    "    iter_cnt = 1\n",
    "    \n",
    "    while True:\n",
    "        A_b = A[:, B]\n",
    "        if iter_cnt == 1:\n",
    "            A_b_inv = np.linalg.inv(A_b)\n",
    "        else:\n",
    "            A_b_inv = invert_changed_row(A_b_inv.copy(), A[:, j_0].copy(), k)\n",
    "            \n",
    "        c_b = c[B]\n",
    "\n",
    "        # potential vector\n",
    "        u = c_b @ A_b_inv\n",
    "\n",
    "        # eveluation_vector\n",
    "        nabla = u @ A - c\n",
    "        if (nabla >= -1e-8).all():\n",
    "            print('\\nmax c: ', c[c!=0] @ x[c!=0])\n",
    "            return x\n",
    "        # first neg element index\n",
    "        j_0 = nabla.argmin()\n",
    "        \n",
    "        z = A_b_inv @ A[:,j_0]\n",
    "\n",
    "        teta = np.array([x[B[j]] / el if el > 0 else float('inf') for j, el in enumerate(z)])\n",
    "\n",
    "        teta_0 = teta.min()\n",
    "        if teta_0 == float('inf'):\n",
    "            return \"Not Bounded\"\n",
    "        \n",
    "        k = teta.argmin()\n",
    "        j_star = B[k]\n",
    "        \n",
    "        old_B = B.copy()\n",
    "        B[k] = j_0\n",
    "\n",
    "        # update current plan\n",
    "        old_x = x.copy()\n",
    "        for b_ind, b in enumerate(B):\n",
    "            x[b] = x[b] - teta_0 * z[b_ind]\n",
    "\n",
    "        x[j_0] = teta_0\n",
    "        x[j_star] = 0\n",
    "        \n",
    "        if verbose: \n",
    "            print('\\t\\tITERATION: ', iter_cnt)\n",
    "            print()\n",
    "            \n",
    "            print('A_b:\\n', A_b)\n",
    "            print()\n",
    "            print('A_b_inv:\\n', A_b_inv)\n",
    "            print()\n",
    "            print('c:\\n', c)\n",
    "            print()\n",
    "            print('c_b:\\n', c_b)\n",
    "            print()\n",
    "            print('u:\\n', u)\n",
    "            print()\n",
    "            print('x:\\n', old_x)\n",
    "            print()\n",
    "            print('B:\\n', old_B+1)\n",
    "            print()\n",
    "            print('nablas:\\n', nabla)\n",
    "            print()\n",
    "            print('j_0:\\n', j_0)\n",
    "            print()\n",
    "            print('z:\\n', z)\n",
    "            print()\n",
    "            print('teta:\\n', teta)\n",
    "            print()\n",
    "            print('teta_0:\\n', teta_0)\n",
    "            print()\n",
    "            print('k:\\n', k)\n",
    "            print()\n",
    "            print('New B:\\n', B+1)\n",
    "            print()\n",
    "            print('New x:\\n', x)\n",
    "        iter_cnt += 1\n",
    "        "
   ]
  },
  {
   "cell_type": "code",
   "execution_count": 206,
   "id": "3c789bc6",
   "metadata": {},
   "outputs": [
    {
     "name": "stdout",
     "output_type": "stream",
     "text": [
      "\n",
      "max c:  5.0\n"
     ]
    },
    {
     "data": {
      "text/plain": [
       "array([3., 2., 2., 0., 0.])"
      ]
     },
     "execution_count": 206,
     "metadata": {},
     "output_type": "execute_result"
    }
   ],
   "source": [
    "c = np.array([\n",
    "    1, 1, 0, 0, 0\n",
    "]).T\n",
    "\n",
    "A = np.array([\n",
    "    [-1, 1, 1, 0, 0],\n",
    "    [1, 0, 0, 1, 0],\n",
    "    [0, 1, 0, 0, 1]\n",
    "])\n",
    "\n",
    "b = np.array([\n",
    "    1, 3, 2\n",
    "])\n",
    "\n",
    "B_start = np.array([\n",
    "    3, 4, 5\n",
    "])\n",
    "\n",
    "simplex_method(c.copy(), B_start.copy(), A.copy(), b.copy(), False)"
   ]
  },
  {
   "cell_type": "code",
   "execution_count": 205,
   "id": "2ce97eaf",
   "metadata": {},
   "outputs": [
    {
     "name": "stdout",
     "output_type": "stream",
     "text": [
      "\n",
      "max c:  33.0\n"
     ]
    },
    {
     "data": {
      "text/plain": [
       "array([ 3., 12.,  0.,  0.,  3.])"
      ]
     },
     "execution_count": 205,
     "metadata": {},
     "output_type": "execute_result"
    }
   ],
   "source": [
    "c = np.array([\n",
    "    3, 2, 0, 0, 0\n",
    "]).T\n",
    "\n",
    "A = np.array([\n",
    "    [2, 1, 1, 0, 0],\n",
    "    [2, 3, 0, 1, 0],\n",
    "    [3, 1, 0, 0, 1]\n",
    "])\n",
    "\n",
    "b = np.array([\n",
    "    18, 42, 24\n",
    "])\n",
    "\n",
    "B_start = np.array([\n",
    "    3, 4, 5\n",
    "])\n",
    "  \n",
    "simplex_method(c.copy(), B_start.copy(), A.copy(), b.copy(), False)"
   ]
  },
  {
   "cell_type": "code",
   "execution_count": null,
   "id": "407ecc91",
   "metadata": {},
   "outputs": [],
   "source": []
  },
  {
   "cell_type": "code",
   "execution_count": null,
   "id": "783f680b",
   "metadata": {},
   "outputs": [],
   "source": []
  }
 ],
 "metadata": {
  "kernelspec": {
   "display_name": "Python 3 (ipykernel)",
   "language": "python",
   "name": "python3"
  },
  "language_info": {
   "codemirror_mode": {
    "name": "ipython",
    "version": 3
   },
   "file_extension": ".py",
   "mimetype": "text/x-python",
   "name": "python",
   "nbconvert_exporter": "python",
   "pygments_lexer": "ipython3",
   "version": "3.9.7"
  }
 },
 "nbformat": 4,
 "nbformat_minor": 5
}
