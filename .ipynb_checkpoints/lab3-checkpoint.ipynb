{
 "cells": [
  {
   "cell_type": "code",
   "execution_count": 39,
   "id": "scenic-egypt",
   "metadata": {
    "collapsed": true
   },
   "outputs": [],
   "source": [
    "import numpy as np\n",
    "import scipy\n",
    "from sympy import *"
   ]
  },
  {
   "cell_type": "code",
   "execution_count": 40,
   "id": "least-chambers",
   "metadata": {
    "collapsed": true
   },
   "outputs": [],
   "source": [
    "%matplotlib inline\n",
    "import matplotlib.pyplot as plt\n",
    "plt.style.use('seaborn-whitegrid')\n",
    "plt.rcParams[\"figure.figsize\"] = (8,6)"
   ]
  },
  {
   "cell_type": "code",
   "execution_count": null,
   "id": "natural-prerequisite",
   "metadata": {
    "collapsed": true
   },
   "outputs": [],
   "source": []
  },
  {
   "cell_type": "markdown",
   "id": "amended-crisis",
   "metadata": {},
   "source": [
    "### **Полный проход списка, состоящего из вложенных список**"
   ]
  },
  {
   "cell_type": "code",
   "execution_count": 41,
   "id": "hidden-savage",
   "metadata": {
    "collapsed": true
   },
   "outputs": [],
   "source": [
    "def traverse_list(ls, a):\n",
    "    if type(ls) == tuple:\n",
    "        if ls[0] != 0 or ls[1] != 0:\n",
    "            a.append(ls)\n",
    "        return\n",
    "    for i in range(len(ls)):\n",
    "        traverse_list(ls[i], a)"
   ]
  },
  {
   "cell_type": "code",
   "execution_count": 42,
   "id": "confident-services",
   "metadata": {
    "collapsed": true
   },
   "outputs": [],
   "source": [
    "def get_clean_intervals(ls, a):\n",
    "    traverse_list(ls, a)\n",
    "    return a\n"
   ]
  },
  {
   "cell_type": "code",
   "execution_count": null,
   "id": "approximate-topic",
   "metadata": {
    "collapsed": true
   },
   "outputs": [],
   "source": []
  },
  {
   "cell_type": "markdown",
   "id": "plain-kitty",
   "metadata": {},
   "source": [
    "## **Для получения функций из ряда Штурма** "
   ]
  },
  {
   "cell_type": "code",
   "execution_count": 43,
   "id": "sensitive-papua",
   "metadata": {
    "collapsed": true
   },
   "outputs": [],
   "source": [
    "def get_sturm_row(equation):\n",
    "    x, y = symbols('x y')\n",
    "    sturm_row = list()\n",
    "    y = equation\n",
    "    sturm_row.append(y)\n",
    "\n",
    "    y_2 = diff(y)\n",
    "    sturm_row.append(y_2)\n",
    "\n",
    "    r = y_2\n",
    "    while degree(r) > 0:\n",
    "        r = div(y, y_2)[1] * (-1)\n",
    "        sturm_row.append(r)\n",
    "        y = y_2\n",
    "        y_2 = r\n",
    "    return sturm_row"
   ]
  },
  {
   "cell_type": "code",
   "execution_count": null,
   "id": "broadband-annex",
   "metadata": {
    "collapsed": true
   },
   "outputs": [],
   "source": []
  },
  {
   "cell_type": "markdown",
   "id": "gorgeous-crack",
   "metadata": {},
   "source": [
    "## **Разбиваем маленькие промежутки на интервалы в которых всего один корень**"
   ]
  },
  {
   "cell_type": "code",
   "execution_count": 44,
   "id": "independent-headset",
   "metadata": {
    "collapsed": true
   },
   "outputs": [],
   "source": [
    "def get_1root_small_interval(sturm_row, interval: tuple):\n",
    "    result_intervals = []\n",
    "    digit_changes = [0, 0]\n",
    "\n",
    "    for inter_num, inter in enumerate(interval):\n",
    "        func_values = list()\n",
    "        prev_val = 0\n",
    "        current_val = 0\n",
    "        for i, func in enumerate(sturm_row):\n",
    "            func_values.append(func.subs('x', inter))\n",
    "\n",
    "            if i == 0:\n",
    "                prev_val = func_values[i]\n",
    "                continue\n",
    "            current_val = func_values[i]\n",
    "\n",
    "            if prev_val == 0:\n",
    "                prev_val = current_val\n",
    "                continue\n",
    "            if current_val == 0:\n",
    "                continue\n",
    "\n",
    "            if prev_val * current_val < 0:\n",
    "                digit_changes[inter_num] += 1\n",
    "            prev_val = current_val\n",
    "\n",
    "    if digit_changes[0] == digit_changes[1]:\n",
    "        return 0, 0\n",
    "\n",
    "    if abs(digit_changes[1] - digit_changes[0]) == 1:\n",
    "        return interval[0], interval[1]\n",
    "    else:\n",
    "        middle = float(interval[1] - interval[0]) / 2\n",
    "        result_intervals.append(get_1root_small_interval(sturm_row, (interval[0], interval[0] + middle)))\n",
    "        result_intervals.append(get_1root_small_interval(sturm_row, (interval[0] + middle, interval[1])))\n",
    "\n",
    "    return result_intervals"
   ]
  },
  {
   "cell_type": "code",
   "execution_count": null,
   "id": "known-provision",
   "metadata": {
    "collapsed": true
   },
   "outputs": [],
   "source": []
  },
  {
   "cell_type": "markdown",
   "id": "american-evaluation",
   "metadata": {},
   "source": [
    "## **Находим на большом интервале, маленьких интервальчиков, где находится всего один корень** "
   ]
  },
  {
   "cell_type": "code",
   "execution_count": 45,
   "id": "arbitrary-release",
   "metadata": {
    "collapsed": true
   },
   "outputs": [],
   "source": [
    "def get_1root_intervals(sturm_row, interval: tuple):\n",
    "    root_intervals = list()\n",
    "    digit_change_times = dict()\n",
    "    for i in range(interval[0], interval[1] + 1):\n",
    "        func_values = list()\n",
    "        digit_changes_count = 0\n",
    "        for num, func in enumerate(sturm_row):\n",
    "            # if num == len(sturm_row) - 1:\n",
    "            #     func_values.append(func)\n",
    "            #     continue\n",
    "            func_values.append(func.subs('x', i))\n",
    "            if num == 0:\n",
    "                continue\n",
    "            if func_values[num] * func_values[num-1] < 0:\n",
    "                digit_changes_count += 1\n",
    "\n",
    "        digit_change_times[i] = digit_changes_count\n",
    "\n",
    "    for i in range(interval[0] + 1, interval[1] + 1):\n",
    "        if digit_change_times[i-1] - digit_change_times[i] > 1:\n",
    "            result_intervals = get_1root_small_interval(sturm_row, (i-1, i))\n",
    "            clean_upped_intervals = []\n",
    "            clean_upped_intervals = get_clean_intervals(result_intervals, clean_upped_intervals)\n",
    "\n",
    "            for inter in clean_upped_intervals:\n",
    "                root_intervals.append(inter)\n",
    "\n",
    "        elif digit_change_times[i-1] != digit_change_times[i]:\n",
    "            root_intervals.append((i-1, i))\n",
    "\n",
    "    return root_intervals"
   ]
  },
  {
   "cell_type": "code",
   "execution_count": null,
   "id": "cathedral-sessions",
   "metadata": {
    "collapsed": true
   },
   "outputs": [],
   "source": []
  },
  {
   "cell_type": "markdown",
   "id": "opening-decline",
   "metadata": {},
   "source": [
    "## **Метод биссекции**"
   ]
  },
  {
   "cell_type": "code",
   "execution_count": 46,
   "id": "thirty-carry",
   "metadata": {
    "collapsed": true
   },
   "outputs": [],
   "source": [
    "def bisection(function, interval: tuple, tol=0.0001):\n",
    "    x, y = symbols('x y')\n",
    "    a, b = interval[0], interval[1]\n",
    "    mid = (a + b) / 2\n",
    "\n",
    "    f = lambdify(x, function, \"numpy\")\n",
    "\n",
    "    if f(a) * f(b) > 0:\n",
    "        raise Exception(f\"Bisection method couldn't solve f(x) = 0, bcs f(a) * f(b) = {f(a) * f(b)} >= 0\\n\"\n",
    "                        f\"--> more than 1 root on ({(a, b)}) or no roots)\")\n",
    "\n",
    "    x_delta = tol * 2\n",
    "    iteration = 1\n",
    "    while f(mid) > tol or x_delta > tol:\n",
    "\n",
    "        if f(a) == 0:\n",
    "            return a, iteration\n",
    "        elif f(b) == 0:\n",
    "            return b, iteration\n",
    "        elif f(mid) == 0:\n",
    "            return mid, iteration\n",
    "\n",
    "        if f(a) * f(mid) < 0:\n",
    "            b = mid\n",
    "        elif f(b) * f(mid) < 0:\n",
    "            a = mid\n",
    "\n",
    "        x_delta = mid\n",
    "        mid = (a + b) / 2\n",
    "\n",
    "        x_delta = abs(x_delta - mid)\n",
    "        iteration += 1\n",
    "\n",
    "    return mid, iteration"
   ]
  },
  {
   "cell_type": "markdown",
   "id": "first-contributor",
   "metadata": {},
   "source": []
  },
  {
   "cell_type": "markdown",
   "id": "immediate-football",
   "metadata": {},
   "source": [
    "## **Метод секущих**"
   ]
  },
  {
   "cell_type": "code",
   "execution_count": 47,
   "id": "apart-portrait",
   "metadata": {
    "collapsed": true
   },
   "outputs": [],
   "source": [
    "def secant(function, interval: tuple, tol=0.0001):\n",
    "    x, y = symbols('x y')\n",
    "    a, b = interval[0], interval[1]\n",
    "    f = lambdify(x, function, \"numpy\")\n",
    "    if f(a) * f(b) > 0:\n",
    "        raise Exception(f\"Secant method couldn't solve f(x) = 0, bcs f(a) * f(b) = {f(a) * f(b)} >= 0\\n\"\n",
    "                        f\"--> more than 1 root on ({(a, b)}) or no roots)\")\n",
    "\n",
    "    x_sec = a - (f(a) * (b - a)) / (f(b) - f(a))\n",
    "\n",
    "\n",
    "    x_delta = 0\n",
    "    iteration = 1\n",
    "    while abs(f(x_sec)) > tol or x_delta > tol:\n",
    "\n",
    "        if f(a) == 0:\n",
    "            return a, iteration\n",
    "        elif f(b) == 0:\n",
    "            return b, iteration\n",
    "        elif f(x_sec) == 0:\n",
    "            return x_sec, iteration\n",
    "\n",
    "        if f(x_sec) * f(a) < 0:\n",
    "            b = x_sec\n",
    "        elif f(x_sec) * f(b) < 0:\n",
    "            a = x_sec\n",
    "\n",
    "        x_delta = x_sec\n",
    "        x_sec = a - (f(a) * (b - a)) / (f(b) - f(a))\n",
    "\n",
    "        x_delta = abs(x_delta - x_sec)\n",
    "        iteration += 1\n",
    "\n",
    "\n",
    "\n",
    "    return x_sec, iteration"
   ]
  },
  {
   "cell_type": "code",
   "execution_count": null,
   "id": "blond-sleep",
   "metadata": {
    "collapsed": true
   },
   "outputs": [],
   "source": []
  },
  {
   "cell_type": "markdown",
   "id": "major-reviewer",
   "metadata": {},
   "source": [
    "## **Метод Ньютона (касательных)**"
   ]
  },
  {
   "cell_type": "code",
   "execution_count": 48,
   "id": "unusual-reducing",
   "metadata": {
    "collapsed": true
   },
   "outputs": [],
   "source": [
    "def newton(function, interval, tol=0.0001):\n",
    "\n",
    "    x, y = symbols('x y')\n",
    "    a, b = interval[0], interval[1]\n",
    "   \n",
    "        \n",
    "    x_start = (a + b) / 2\n",
    "    f = lambdify(x, function, 'numpy')\n",
    "    if f(a) * f(b) > 0:\n",
    "        raise Exception(f\"Newton method couldn't solve f(x) = 0, bcs f(a) * f(b) = {f(a) * f(b)} >= 0\\n\"\n",
    "                        f\"--> more than 1 root on ({(a, b)}) or no roots)\")\n",
    "\n",
    "    y_diff = function.diff()\n",
    "    f_diff = lambdify(x, y_diff, 'numpy')\n",
    "\n",
    "    x_newton = x_start - f(x_start) / f_diff(x_start)\n",
    "\n",
    "    x_delta = tol * 2\n",
    "    iteration = 1\n",
    "    while abs(f(x_newton)) > tol or x_delta > tol:\n",
    "\n",
    "        if f(x_newton) == 0:\n",
    "            return x_newton, iteration\n",
    "\n",
    "        x_delta = x_newton\n",
    "        x_newton = x_newton - f(x_newton) / f_diff(x_newton)\n",
    "        x_delta = abs(x_delta - x_newton)\n",
    "        iteration += 1\n",
    "\n",
    "\n",
    "\n",
    "    return x_newton, iteration"
   ]
  },
  {
   "cell_type": "code",
   "execution_count": null,
   "id": "blank-billion",
   "metadata": {
    "collapsed": true
   },
   "outputs": [],
   "source": []
  },
  {
   "cell_type": "code",
   "execution_count": 49,
   "id": "disciplinary-singapore",
   "metadata": {
    "collapsed": true
   },
   "outputs": [],
   "source": [
    "def separator():\n",
    "    for i in range(2):\n",
    "        print('-' * 50)"
   ]
  },
  {
   "cell_type": "code",
   "execution_count": null,
   "id": "narrative-shannon",
   "metadata": {
    "collapsed": true
   },
   "outputs": [],
   "source": []
  },
  {
   "cell_type": "code",
   "execution_count": 50,
   "id": "immediate-shelf",
   "metadata": {
    "collapsed": true
   },
   "outputs": [],
   "source": [
    "x = symbols('x')"
   ]
  },
  {
   "cell_type": "markdown",
   "id": "surrounded-romantic",
   "metadata": {},
   "source": [
    "## Тестовый пример 1"
   ]
  },
  {
   "cell_type": "code",
   "execution_count": 51,
   "id": "loved-capability",
   "metadata": {
    "collapsed": true
   },
   "outputs": [
    {
     "name": "stdout",
     "output_type": "stream",
     "text": [
      "Количиство корней на интервале (-10, 10): 2\n",
      "Интервалы в которыx находится ровно один корень: [(-1, 0), (1, 2)]\n",
      "\n",
      "\t\tРассматриваемый интервал: (-1, 0)\n",
      "\n",
      "*** Метод Биссекции (Половинного деления) ***\n",
      "Корень: -0.29998779296875\n",
      "Количество Итераций: 14\n",
      "\n",
      "--------------------------------------------------\n",
      "--------------------------------------------------\n",
      "*** Метод Секущих (Хорд) ***\n",
      "Корень: -0.2999606066662447\n",
      "Количество Итераций: 8\n",
      "--------------------------------------------------\n",
      "--------------------------------------------------\n",
      "*** Метод Ньютона (Касательных) ***\n",
      "Корень: -0.30000000000000204\n",
      "Количество Итераций: 4\n",
      "\n",
      "\t\tРассматриваемый интервал: (1, 2)\n",
      "\n",
      "*** Метод Биссекции (Половинного деления) ***\n",
      "Корень: 1.20001220703125\n",
      "Количество Итераций: 14\n",
      "\n",
      "--------------------------------------------------\n",
      "--------------------------------------------------\n",
      "*** Метод Секущих (Хорд) ***\n",
      "Корень: 1.1999505620110387\n",
      "Количество Итераций: 8\n",
      "--------------------------------------------------\n",
      "--------------------------------------------------\n",
      "*** Метод Ньютона (Касательных) ***\n",
      "Корень: 1.2000000000005318\n",
      "Количество Итераций: 4\n"
     ]
    },
    {
     "data": {
      "text/latex": [
       "$\\displaystyle x^{2} - 0.9 x - 0.36$"
      ],
      "text/plain": [
       "x**2 - 0.9*x - 0.36"
      ]
     },
     "execution_count": 51,
     "metadata": {},
     "output_type": "execute_result"
    },
    {
     "data": {
      "image/png": "[encoded data removed]",
      "text/plain": [
       "<Figure size 576x432 with 1 Axes>"
      ]
     },
     "metadata": {},
     "output_type": "display_data"
    }
   ],
   "source": [
    "y = x**2 - 0.9*x - 0.36\n",
    "interval = (-10, 10)\n",
    "\n",
    "x_1 = np.arange(-5, 5, 0.1)\n",
    "y_1 = x_1**2 - 0.9*x_1 - 0.36\n",
    "fig, ax = plt.subplots()\n",
    "ax.plot(x_1, y_1)\n",
    "ax.axhline(y=0, color='k');\n",
    "plt.title(\"x^2 - 0.9x - 0.36\");\n",
    "\n",
    "intervals = get_1root_intervals(get_sturm_row(y), interval)\n",
    "print(f'Количиство корней на интервале (-10, 10): {len(intervals)}')\n",
    "print(f'Интервалы в которыx находится ровно один корень: {[i for i in intervals]}')\n",
    "for interval in intervals:\n",
    "    print(f\"\\n\\t\\tРассматриваемый интервал: {interval}\\n\")\n",
    "    bisection_ans = bisection(y, interval)\n",
    "    secant_ans = secant(y, interval)\n",
    "    newton_ans = newton(y, interval)\n",
    "    print(f\"*** Метод Биссекции (Половинного деления) ***\\n\"\n",
    "          f\"Корень: {bisection_ans[0]}\\n\"\n",
    "          f\"Количество Итераций: {bisection_ans[1]}\\n\")\n",
    "    separator()\n",
    "    print(f\"*** Метод Секущих (Хорд) ***\\n\"\n",
    "          f\"Корень: {secant_ans[0]}\\n\"\n",
    "          f\"Количество Итераций: {secant_ans[1]}\")\n",
    "    separator()\n",
    "    print(f\"*** Метод Ньютона (Касательных) ***\\n\"\n",
    "          f\"Корень: {newton_ans[0]}\\n\"\n",
    "          f\"Количество Итераций: {newton_ans[1]}\")\n",
    "y"
   ]
  },
  {
   "cell_type": "code",
   "execution_count": null,
   "id": "bigger-binding",
   "metadata": {
    "collapsed": true
   },
   "outputs": [],
   "source": []
  },
  {
   "cell_type": "code",
   "execution_count": null,
   "id": "crucial-mountain",
   "metadata": {
    "collapsed": true
   },
   "outputs": [],
   "source": []
  },
  {
   "cell_type": "markdown",
   "id": "residential-newcastle",
   "metadata": {},
   "source": [
    "## Тестовый пример 2"
   ]
  },
  {
   "cell_type": "code",
   "execution_count": 52,
   "id": "hidden-combat",
   "metadata": {
    "collapsed": true
   },
   "outputs": [
    {
     "name": "stdout",
     "output_type": "stream",
     "text": [
      "Количиство корней на интервале (-10, 10): 1\n",
      "Интервалы в которыx находится ровно один корень: [(-3, -2)]\n",
      "\n",
      "\t\tРассматриваемый интервал: (-3, -2)\n",
      "\n",
      "*** Метод Биссекции (Половинного деления) ***\n",
      "Корень: -2\n",
      "Количество Итераций: 1\n",
      "\n",
      "--------------------------------------------------\n",
      "--------------------------------------------------\n",
      "*** Метод Секущих (Хорд) ***\n",
      "Корень: -2.0\n",
      "Количество Итераций: 1\n",
      "--------------------------------------------------\n",
      "--------------------------------------------------\n",
      "*** Метод Ньютона (Касательных) ***\n",
      "Корень: -2.00006103515625\n",
      "Количество Итераций: 13\n"
     ]
    },
    {
     "data": {
      "text/latex": [
       "$\\displaystyle \\left(2 x + 4\\right)^{2}$"
      ],
      "text/plain": [
       "(2*x + 4)**2"
      ]
     },
     "execution_count": 52,
     "metadata": {},
     "output_type": "execute_result"
    },
    {
     "data": {
      "image/png": "[encoded data removed]",
      "text/plain": [
       "<Figure size 576x432 with 1 Axes>"
      ]
     },
     "metadata": {},
     "output_type": "display_data"
    }
   ],
   "source": [
    "## Тестовый пример 2\n",
    "\n",
    "y = (2*x + 4)**2\n",
    "interval = (-10, 10)\n",
    "\n",
    "x_2 = np.arange(-8, 4, 0.1)\n",
    "y_2 = (2*x_2 + 4)**2\n",
    "fig, ax = plt.subplots()\n",
    "ax.plot(x_2, y_2)\n",
    "ax.axhline(y=0, color='k');\n",
    "plt.title(\"(2x + 4)^2\");\n",
    "\n",
    "intervals = get_1root_intervals(get_sturm_row(y), interval)\n",
    "print(f'Количиство корней на интервале (-10, 10): {len(intervals)}')\n",
    "print(f'Интервалы в которыx находится ровно один корень: {[i for i in intervals]}')\n",
    "for interval in intervals:\n",
    "    print(f\"\\n\\t\\tРассматриваемый интервал: {interval}\\n\")\n",
    "    bisection_ans = bisection(y, interval)\n",
    "    secant_ans = secant(y, interval)\n",
    "    newton_ans = newton(y, interval)\n",
    "    print(f\"*** Метод Биссекции (Половинного деления) ***\\n\"\n",
    "          f\"Корень: {bisection_ans[0]}\\n\"\n",
    "          f\"Количество Итераций: {bisection_ans[1]}\\n\")\n",
    "    separator()\n",
    "    print(f\"*** Метод Секущих (Хорд) ***\\n\"\n",
    "          f\"Корень: {secant_ans[0]}\\n\"\n",
    "          f\"Количество Итераций: {secant_ans[1]}\")\n",
    "    separator()\n",
    "    print(f\"*** Метод Ньютона (Касательных) ***\\n\"\n",
    "          f\"Корень: {newton_ans[0]}\\n\"\n",
    "          f\"Количество Итераций: {newton_ans[1]}\")\n",
    "\n",
    "y"
   ]
  },
  {
   "cell_type": "code",
   "execution_count": null,
   "id": "special-surgeon",
   "metadata": {
    "collapsed": true
   },
   "outputs": [],
   "source": []
  },
  {
   "cell_type": "markdown",
   "id": "nonprofit-connecticut",
   "metadata": {},
   "source": [
    "## Тестовый пример 3"
   ]
  },
  {
   "cell_type": "code",
   "execution_count": 53,
   "id": "heavy-confidentiality",
   "metadata": {},
   "outputs": [
    {
     "name": "stdout",
     "output_type": "stream",
     "text": [
      "Количиство корней на интервале (-10, 10): 4\n",
      "Интервалы в которыx находится ровно один корень: [(-3, -2), (-1, 0), (1, 2), (3, 4)]\n",
      "\n",
      "\t\tРассматриваемый интервал: (-3, -2)\n",
      "\n",
      "*** Метод Биссекции (Половинного деления) ***\n",
      "Корень: -2.35003662109375\n",
      "Количество Итераций: 14\n",
      "\n",
      "--------------------------------------------------\n",
      "--------------------------------------------------\n",
      "*** Метод Секущих (Хорд) ***\n",
      "Корень: -2.350082809843179\n",
      "Количество Итераций: 14\n",
      "--------------------------------------------------\n",
      "--------------------------------------------------\n",
      "*** Метод Ньютона (Касательных) ***\n",
      "Корень: -2.3500847963187756\n",
      "Количество Итераций: 4\n",
      "\n",
      "\t\tРассматриваемый интервал: (-1, 0)\n",
      "\n",
      "*** Метод Биссекции (Половинного деления) ***\n",
      "Корень: -0.11407470703125\n",
      "Количество Итераций: 14\n",
      "\n",
      "--------------------------------------------------\n",
      "--------------------------------------------------\n",
      "*** Метод Секущих (Хорд) ***\n",
      "Корень: -0.11401153728200486\n",
      "Количество Итераций: 7\n",
      "--------------------------------------------------\n",
      "--------------------------------------------------\n",
      "*** Метод Ньютона (Касательных) ***\n",
      "Корень: -0.11401681881954807\n",
      "Количество Итераций: 4\n",
      "\n",
      "\t\tРассматриваемый интервал: (1, 2)\n",
      "\n",
      "*** Метод Биссекции (Половинного деления) ***\n",
      "Корень: 1.11407470703125\n",
      "Количество Итераций: 14\n",
      "\n",
      "--------------------------------------------------\n",
      "--------------------------------------------------\n",
      "*** Метод Секущих (Хорд) ***\n",
      "Корень: 1.114011537282005\n",
      "Количество Итераций: 7\n",
      "--------------------------------------------------\n",
      "--------------------------------------------------\n",
      "*** Метод Ньютона (Касательных) ***\n",
      "Корень: 1.114016818819548\n",
      "Количество Итераций: 4\n",
      "\n",
      "\t\tРассматриваемый интервал: (3, 4)\n",
      "\n",
      "*** Метод Биссекции (Половинного деления) ***\n",
      "Корень: 3.35003662109375\n",
      "Количество Итераций: 14\n",
      "\n",
      "--------------------------------------------------\n",
      "--------------------------------------------------\n",
      "*** Метод Секущих (Хорд) ***\n",
      "Корень: 3.3500828098431787\n",
      "Количество Итераций: 14\n",
      "--------------------------------------------------\n",
      "--------------------------------------------------\n",
      "*** Метод Ньютона (Касательных) ***\n",
      "Корень: 3.3500847963187756\n",
      "Количество Итераций: 4\n"
     ]
    },
    {
     "data": {
      "text/latex": [
       "$\\displaystyle x^{4} - 2 x^{3} - 7 x^{2} + 8 x + 1$"
      ],
      "text/plain": [
       "x**4 - 2*x**3 - 7*x**2 + 8*x + 1"
      ]
     },
     "execution_count": 53,
     "metadata": {},
     "output_type": "execute_result"
    },
    {
     "data": {
      "image/png": "[encoded data removed]",
      "text/plain": [
       "<Figure size 576x432 with 1 Axes>"
      ]
     },
     "metadata": {},
     "output_type": "display_data"
    }
   ],
   "source": [
    "## Тестовый пример 3\n",
    "\n",
    "y = x**4 - 2*x**3 - 7*x**2 + 8*x + 1\n",
    "interval = (-10, 10)\n",
    "\n",
    "x_3 = np.arange(-3, 4, 0.1)\n",
    "y_3 = x_3**4 - 2*x_3**3 - 7*x_3**2 + 8*x_3 + 1\n",
    "fig, ax = plt.subplots()\n",
    "ax.plot(x_3, y_3)\n",
    "ax.axhline(y=0, color='k');\n",
    "plt.title(\"x^4 - 2x^3 - 7x^2 + 8x + 1\");\n",
    "\n",
    "intervals = get_1root_intervals(get_sturm_row(y), interval)\n",
    "print(f'Количиство корней на интервале (-10, 10): {len(intervals)}')\n",
    "print(f'Интервалы в которыx находится ровно один корень: {[i for i in intervals]}')\n",
    "for interval in intervals:\n",
    "    print(f\"\\n\\t\\tРассматриваемый интервал: {interval}\\n\")\n",
    "    bisection_ans = bisection(y, interval)\n",
    "    secant_ans = secant(y, interval)\n",
    "    newton_ans = newton(y, interval)\n",
    "    print(f\"*** Метод Биссекции (Половинного деления) ***\\n\"\n",
    "          f\"Корень: {bisection_ans[0]}\\n\"\n",
    "          f\"Количество Итераций: {bisection_ans[1]}\\n\")\n",
    "    separator()\n",
    "    print(f\"*** Метод Секущих (Хорд) ***\\n\"\n",
    "          f\"Корень: {secant_ans[0]}\\n\"\n",
    "          f\"Количество Итераций: {secant_ans[1]}\")\n",
    "    separator()\n",
    "    print(f\"*** Метод Ньютона (Касательных) ***\\n\"\n",
    "          f\"Корень: {newton_ans[0]}\\n\"\n",
    "          f\"Количество Итераций: {newton_ans[1]}\")\n",
    "y"
   ]
  },
  {
   "cell_type": "code",
   "execution_count": null,
   "id": "generic-merit",
   "metadata": {
    "collapsed": true
   },
   "outputs": [],
   "source": []
  },
  {
   "cell_type": "markdown",
   "id": "raised-volume",
   "metadata": {},
   "source": [
    "## Тестовый пример 4"
   ]
  },
  {
   "cell_type": "code",
   "execution_count": 56,
   "id": "fitting-equality",
   "metadata": {},
   "outputs": [
    {
     "name": "stdout",
     "output_type": "stream",
     "text": [
      "Количиство корней на интервале (-10, 10): 5\n",
      "Интервалы в которыx находится ровно один корень: [(-10, -9), (-8, -7), (2, 3), (3, 4), (7, 8)]\n",
      "\n",
      "\t\tРассматриваемый интервал: (-10, -9)\n",
      "\n",
      "*** Метод Биссекции (Половинного деления) ***\n",
      "Корень: -9.20001220703125\n",
      "Количество Итераций: 14\n",
      "\n",
      "--------------------------------------------------\n",
      "--------------------------------------------------\n",
      "*** Метод Секущих (Хорд) ***\n",
      "Корень: -9.19999999013451\n",
      "Количество Итераций: 18\n",
      "--------------------------------------------------\n",
      "--------------------------------------------------\n",
      "*** Метод Ньютона (Касательных) ***\n",
      "Корень: -9.200000005308917\n",
      "Количество Итераций: 4\n",
      "\n",
      "\t\tРассматриваемый интервал: (-8, -7)\n",
      "\n",
      "*** Метод Биссекции (Половинного деления) ***\n",
      "Корень: -7.199981689453125\n",
      "Количество Итераций: 15\n",
      "\n",
      "--------------------------------------------------\n",
      "--------------------------------------------------\n",
      "*** Метод Секущих (Хорд) ***\n",
      "Корень: -7.200000000542465\n",
      "Количество Итераций: 6\n",
      "--------------------------------------------------\n",
      "--------------------------------------------------\n",
      "*** Метод Ньютона (Касательных) ***\n",
      "Корень: -7.199999992932308\n",
      "Количество Итераций: 4\n",
      "\n",
      "\t\tРассматриваемый интервал: (2, 3)\n",
      "\n",
      "*** Метод Биссекции (Половинного деления) ***\n",
      "Корень: 2.569976806640625\n",
      "Количество Итераций: 15\n",
      "\n",
      "--------------------------------------------------\n",
      "--------------------------------------------------\n",
      "*** Метод Секущих (Хорд) ***\n",
      "Корень: 2.570000197805116\n",
      "Количество Итераций: 19\n",
      "--------------------------------------------------\n",
      "--------------------------------------------------\n",
      "*** Метод Ньютона (Касательных) ***\n",
      "Корень: 2.5700000007375503\n",
      "Количество Итераций: 3\n",
      "\n",
      "\t\tРассматриваемый интервал: (3, 4)\n",
      "\n",
      "*** Метод Биссекции (Половинного деления) ***\n",
      "Корень: 3.2800140380859375\n",
      "Количество Итераций: 16\n",
      "\n",
      "--------------------------------------------------\n",
      "--------------------------------------------------\n",
      "*** Метод Секущих (Хорд) ***\n",
      "Корень: 3.279999798419035\n",
      "Количество Итераций: 20\n",
      "--------------------------------------------------\n",
      "--------------------------------------------------\n",
      "*** Метод Ньютона (Касательных) ***\n",
      "Корень: 3.2799999923029866\n",
      "Количество Итераций: 4\n",
      "\n",
      "\t\tРассматриваемый интервал: (7, 8)\n",
      "\n",
      "*** Метод Биссекции (Половинного деления) ***\n",
      "Корень: 7.88995361328125\n",
      "Количество Итераций: 14\n",
      "\n",
      "--------------------------------------------------\n",
      "--------------------------------------------------\n",
      "*** Метод Секущих (Хорд) ***\n",
      "Корень: 7.890000000061255\n",
      "Количество Итераций: 7\n",
      "--------------------------------------------------\n",
      "--------------------------------------------------\n",
      "*** Метод Ньютона (Касательных) ***\n",
      "Корень: 7.8900000024698365\n",
      "Количество Итераций: 4\n"
     ]
    },
    {
     "data": {
      "text/latex": [
       "$\\displaystyle x^{5} + 2.66 x^{4} - 104.5099 x^{3} - 81.435104 x^{2} + 2525.02674 x - 4405.59219$"
      ],
      "text/plain": [
       "x**5 + 2.66*x**4 - 104.5099*x**3 - 81.435104*x**2 + 2525.02674*x - 4405.59219"
      ]
     },
     "execution_count": 56,
     "metadata": {},
     "output_type": "execute_result"
    },
    {
     "data": {
      "image/png": "[encoded data removed]",
      "text/plain": [
       "<Figure size 576x432 with 1 Axes>"
      ]
     },
     "metadata": {},
     "output_type": "display_data"
    }
   ],
   "source": [
    "## Тестовый пример 4\n",
    "\n",
    "y = x**5 + 2.66*x**4 - 104.5099*x**3 - 81.435104*x**2 + 2525.02674*x - 4405.59219\n",
    "\n",
    "interval = (-10, 10)\n",
    "\n",
    "x_4 = np.arange(-10, 10, 0.1)\n",
    "y_4 = x_4**5 + 2.66*x_4**4 - 104.5099*x_4**3 - 81.435104*x_4**2 + 2525.02674*x_4 - 4405.59219\n",
    "fig, ax = plt.subplots()\n",
    "ax.plot(x_4, y_4)\n",
    "ax.axhline(y=0, color='k');\n",
    "plt.title(\"x^5 - 2.66x^4 - 104.5099x^3 + 81.435104x^2 + 2525.02674x - 4405.59219\");\n",
    "\n",
    "intervals = get_1root_intervals(get_sturm_row(y), interval)\n",
    "print(f'Количиство корней на интервале (-10, 10): {len(intervals)}')\n",
    "print(f'Интервалы в которыx находится ровно один корень: {[i for i in intervals]}')\n",
    "for interval in intervals:\n",
    "    print(f\"\\n\\t\\tРассматриваемый интервал: {interval}\\n\")\n",
    "    bisection_ans = bisection(y, interval)\n",
    "    secant_ans = secant(y, interval)\n",
    "    newton_ans = newton(y, interval)\n",
    "    print(f\"*** Метод Биссекции (Половинного деления) ***\\n\"\n",
    "          f\"Корень: {bisection_ans[0]}\\n\"\n",
    "          f\"Количество Итераций: {bisection_ans[1]}\\n\")\n",
    "    separator()\n",
    "    print(f\"*** Метод Секущих (Хорд) ***\\n\"\n",
    "          f\"Корень: {secant_ans[0]}\\n\"\n",
    "          f\"Количество Итераций: {secant_ans[1]}\")\n",
    "    separator()\n",
    "    print(f\"*** Метод Ньютона (Касательных) ***\\n\"\n",
    "          f\"Корень: {newton_ans[0]}\\n\"\n",
    "          f\"Количество Итераций: {newton_ans[1]}\")\n",
    "y"
   ]
  },
  {
   "cell_type": "code",
   "execution_count": null,
   "id": "packed-ordinary",
   "metadata": {
    "collapsed": true
   },
   "outputs": [],
   "source": []
  },
  {
   "cell_type": "markdown",
   "id": "adjustable-karma",
   "metadata": {},
   "source": [
    "## Тестовый пример 5"
   ]
  },
  {
   "cell_type": "code",
   "execution_count": 63,
   "id": "adjusted-living",
   "metadata": {},
   "outputs": [
    {
     "name": "stdout",
     "output_type": "stream",
     "text": [
      "Количиство корней на интервале (-10, 10): 3\n",
      "Интервалы в которыx находится ровно один корень: [(2, 3), (3, 4), (5, 6)]\n",
      "\n",
      "\t\tРассматриваемый интервал: (2, 3)\n",
      "\n",
      "*** Метод Биссекции (Половинного деления) ***\n",
      "Корень: 2.79998779296875\n",
      "Количество Итераций: 14\n",
      "\n",
      "--------------------------------------------------\n",
      "--------------------------------------------------\n",
      "*** Метод Секущих (Хорд) ***\n",
      "Корень: 2.800025369209012\n",
      "Количество Итераций: 16\n",
      "--------------------------------------------------\n",
      "--------------------------------------------------\n",
      "*** Метод Ньютона (Касательных) ***\n",
      "Корень: 2.799999996958965\n",
      "Количество Итераций: 4\n",
      "\n",
      "\t\tРассматриваемый интервал: (3, 4)\n",
      "\n",
      "*** Метод Биссекции (Половинного деления) ***\n",
      "Корень: 3.89996337890625\n",
      "Количество Итераций: 14\n",
      "\n",
      "--------------------------------------------------\n",
      "--------------------------------------------------\n",
      "*** Метод Секущих (Хорд) ***\n",
      "Корень: 3.899999421379996\n",
      "Количество Итераций: 4\n",
      "--------------------------------------------------\n",
      "--------------------------------------------------\n",
      "*** Метод Ньютона (Касательных) ***\n",
      "Корень: 3.9000000000023665\n",
      "Количество Итераций: 4\n",
      "\n",
      "\t\tРассматриваемый интервал: (5, 6)\n",
      "\n",
      "*** Метод Биссекции (Половинного деления) ***\n",
      "Корень: 5.27996826171875\n",
      "Количество Итераций: 14\n",
      "\n",
      "--------------------------------------------------\n",
      "--------------------------------------------------\n",
      "*** Метод Секущих (Хорд) ***\n",
      "Корень: 5.279982490956562\n",
      "Количество Итераций: 14\n",
      "--------------------------------------------------\n",
      "--------------------------------------------------\n",
      "*** Метод Ньютона (Касательных) ***\n",
      "Корень: 5.2800000000105385\n",
      "Количество Итераций: 4\n"
     ]
    },
    {
     "data": {
      "text/latex": [
       "$\\displaystyle x^{3} - 11.98 x^{2} + 46.296 x - 57.6576$"
      ],
      "text/plain": [
       "x**3 - 11.98*x**2 + 46.296*x - 57.6576"
      ]
     },
     "execution_count": 63,
     "metadata": {},
     "output_type": "execute_result"
    },
    {
     "data": {
      "image/png": "[encoded data removed]",
      "text/plain": [
       "<Figure size 576x432 with 1 Axes>"
      ]
     },
     "metadata": {},
     "output_type": "display_data"
    }
   ],
   "source": [
    "## Тестовый пример 4\n",
    "\n",
    "y = x**3 - 11.98*x**2 + 46.296*x - 57.6576\n",
    "\n",
    "interval = (-10, 10)\n",
    "\n",
    "x_5 = np.arange(2, 6, 0.1)\n",
    "y_5 = x_5**3 - 11.98*x_5**2 + 46.296*x_5 - 57.6576\n",
    "fig, ax = plt.subplots()\n",
    "ax.plot(x_5, y_5)\n",
    "ax.axhline(y=0, color='k');\n",
    "plt.title(\"x^3 - 11.98x^2 + 46.296x - 57.6576\");\n",
    "\n",
    "intervals = get_1root_intervals(get_sturm_row(y), interval)\n",
    "print(f'Количиство корней на интервале (-10, 10): {len(intervals)}')\n",
    "print(f'Интервалы в которыx находится ровно один корень: {[i for i in intervals]}')\n",
    "for interval in intervals:\n",
    "    print(f\"\\n\\t\\tРассматриваемый интервал: {interval}\\n\")\n",
    "    bisection_ans = bisection(y, interval)\n",
    "    secant_ans = secant(y, interval)\n",
    "    newton_ans = newton(y, interval)\n",
    "    print(f\"*** Метод Биссекции (Половинного деления) ***\\n\"\n",
    "          f\"Корень: {bisection_ans[0]}\\n\"\n",
    "          f\"Количество Итераций: {bisection_ans[1]}\\n\")\n",
    "    separator()\n",
    "    print(f\"*** Метод Секущих (Хорд) ***\\n\"\n",
    "          f\"Корень: {secant_ans[0]}\\n\"\n",
    "          f\"Количество Итераций: {secant_ans[1]}\")\n",
    "    separator()\n",
    "    print(f\"*** Метод Ньютона (Касательных) ***\\n\"\n",
    "          f\"Корень: {newton_ans[0]}\\n\"\n",
    "          f\"Количество Итераций: {newton_ans[1]}\")\n",
    "y"
   ]
  },
  {
   "cell_type": "code",
   "execution_count": null,
   "id": "thermal-pontiac",
   "metadata": {
    "collapsed": true
   },
   "outputs": [],
   "source": []
  },
  {
   "cell_type": "code",
   "execution_count": null,
   "id": "nominated-month",
   "metadata": {
    "collapsed": true
   },
   "outputs": [],
   "source": []
  },
  {
   "cell_type": "markdown",
   "id": "drawn-mixer",
   "metadata": {},
   "source": [
    "## Выполнение задания"
   ]
  },
  {
   "cell_type": "code",
   "execution_count": 66,
   "id": "after-slave",
   "metadata": {},
   "outputs": [
    {
     "name": "stdout",
     "output_type": "stream",
     "text": [
      "Количиство корней на интервале (-10, 10): 3\n",
      "Интервалы в которыx находится ровно один корень: [(-4, -3), (0, 1), (9, 10)]\n",
      "\n",
      "\t\tРассматриваемый интервал: (-4, -3)\n",
      "\n",
      "*** Метод Биссекции (Половинного деления) ***\n",
      "Корень: -3.686981201171875\n",
      "Количество Итераций: 15\n",
      "\n",
      "--------------------------------------------------\n",
      "--------------------------------------------------\n",
      "*** Метод Секущих (Хорд) ***\n",
      "Корень: -3.6869587106105097\n",
      "Количество Итераций: 6\n",
      "--------------------------------------------------\n",
      "--------------------------------------------------\n",
      "*** Метод Ньютона (Касательных) ***\n",
      "Корень: -3.6869591161303483\n",
      "Количество Итераций: 3\n",
      "\n",
      "\t\tРассматриваемый интервал: (0, 1)\n",
      "\n",
      "*** Метод Биссекции (Половинного деления) ***\n",
      "Корень: 0.660247802734375\n",
      "Количество Итераций: 15\n",
      "\n",
      "--------------------------------------------------\n",
      "--------------------------------------------------\n",
      "*** Метод Секущих (Хорд) ***\n",
      "Корень: 0.6602217167039184\n",
      "Количество Итераций: 4\n",
      "--------------------------------------------------\n",
      "--------------------------------------------------\n",
      "*** Метод Ньютона (Касательных) ***\n",
      "Корень: 0.6602230525750614\n",
      "Количество Итераций: 3\n",
      "\n",
      "\t\tРассматриваемый интервал: (9, 10)\n",
      "\n",
      "*** Метод Биссекции (Половинного деления) ***\n",
      "Корень: 9.52178955078125\n",
      "Количество Итераций: 14\n",
      "\n",
      "--------------------------------------------------\n",
      "--------------------------------------------------\n",
      "*** Метод Секущих (Хорд) ***\n",
      "Корень: 9.521835859978257\n",
      "Количество Итераций: 6\n",
      "--------------------------------------------------\n",
      "--------------------------------------------------\n",
      "*** Метод Ньютона (Касательных) ***\n",
      "Корень: 9.521836064553895\n",
      "Количество Итераций: 2\n"
     ]
    },
    {
     "data": {
      "text/latex": [
       "$\\displaystyle x^{3} - 6.4951 x^{2} - 31.2543 x + 23.1782$"
      ],
      "text/plain": [
       "x**3 - 6.4951*x**2 - 31.2543*x + 23.1782"
      ]
     },
     "execution_count": 66,
     "metadata": {},
     "output_type": "execute_result"
    },
    {
     "data": {
      "image/png": "[encoded data removed]",
      "text/plain": [
       "<Figure size 576x432 with 1 Axes>"
      ]
     },
     "metadata": {},
     "output_type": "display_data"
    }
   ],
   "source": [
    "## Задание\n",
    "\n",
    "y = x**3 - 6.4951*x**2 - 31.2543*x + 23.1782\n",
    "\n",
    "interval = (-10, 10)\n",
    "\n",
    "x_task = np.arange(-10, 10, 0.1)\n",
    "y_task = x_task**3 -6.4951*x_task**2 - 31.2543*x_task + 23.1782\n",
    "fig, ax = plt.subplots()\n",
    "ax.plot(x_task, y_task)\n",
    "ax.axhline(y=0, color='k');\n",
    "plt.title(\"x^3 - 6.4951x^2 - 31.2543x + 23.1782\");\n",
    "\n",
    "intervals = get_1root_intervals(get_sturm_row(y), interval)\n",
    "print(f'Количиство корней на интервале (-10, 10): {len(intervals)}')\n",
    "print(f'Интервалы в которыx находится ровно один корень: {[i for i in intervals]}')\n",
    "for interval in intervals:\n",
    "    print(f\"\\n\\t\\tРассматриваемый интервал: {interval}\\n\")\n",
    "    bisection_ans = bisection(y, interval)\n",
    "    secant_ans = secant(y, interval)\n",
    "    newton_ans = newton(y, interval)\n",
    "    print(f\"*** Метод Биссекции (Половинного деления) ***\\n\"\n",
    "          f\"Корень: {bisection_ans[0]}\\n\"\n",
    "          f\"Количество Итераций: {bisection_ans[1]}\\n\")\n",
    "    separator()\n",
    "    print(f\"*** Метод Секущих (Хорд) ***\\n\"\n",
    "          f\"Корень: {secant_ans[0]}\\n\"\n",
    "          f\"Количество Итераций: {secant_ans[1]}\")\n",
    "    separator()\n",
    "    print(f\"*** Метод Ньютона (Касательных) ***\\n\"\n",
    "          f\"Корень: {newton_ans[0]}\\n\"\n",
    "          f\"Количество Итераций: {newton_ans[1]}\")\n",
    "y"
   ]
  },
  {
   "cell_type": "code",
   "execution_count": null,
   "id": "meaningful-hunter",
   "metadata": {
    "collapsed": true
   },
   "outputs": [],
   "source": []
  },
  {
   "cell_type": "code",
   "execution_count": null,
   "id": "satellite-bearing",
   "metadata": {
    "collapsed": true
   },
   "outputs": [],
   "source": []
  },
  {
   "cell_type": "markdown",
   "id": "foster-sierra",
   "metadata": {},
   "source": [
    "## Тестинг корней"
   ]
  },
  {
   "cell_type": "code",
   "execution_count": null,
   "id": "conventional-recipe",
   "metadata": {
    "collapsed": true
   },
   "outputs": [],
   "source": [
    "x, y = symbols('x y')"
   ]
  },
  {
   "cell_type": "code",
   "execution_count": 57,
   "id": "rental-symbol",
   "metadata": {},
   "outputs": [
    {
     "data": {
      "text/plain": [
       "array([  1.    , -11.98  ,  46.296 , -57.6576])"
      ]
     },
     "execution_count": 57,
     "metadata": {},
     "output_type": "execute_result"
    }
   ],
   "source": [
    "np.poly([2.8, 3.9, 5.28])"
   ]
  },
  {
   "cell_type": "code",
   "execution_count": null,
   "id": "activated-conducting",
   "metadata": {
    "collapsed": true
   },
   "outputs": [],
   "source": [
    "np.roots([1, 2.66, -104.5099, -81.435104, 2525.02674, -4405.59219])"
   ]
  }
 ],
 "metadata": {
  "kernelspec": {
   "display_name": "Python 3",
   "language": "python",
   "name": "python3"
  },
  "language_info": {
   "codemirror_mode": {
    "name": "ipython",
    "version": 3
   },
   "file_extension": ".py",
   "mimetype": "text/x-python",
   "name": "python",
   "nbconvert_exporter": "python",
   "pygments_lexer": "ipython3",
   "version": "3.9.2"
  }
 },
 "nbformat": 4,
 "nbformat_minor": 5
}
