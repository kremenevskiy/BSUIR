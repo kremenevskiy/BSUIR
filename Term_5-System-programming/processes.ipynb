{
 "cells": [
  {
   "cell_type": "code",
   "execution_count": 2,
   "id": "87a95160",
   "metadata": {},
   "outputs": [
    {
     "data": {
      "text/plain": [
       "2046"
      ]
     },
     "execution_count": 2,
     "metadata": {},
     "output_type": "execute_result"
    }
   ],
   "source": [
    "import os, sys, time\n",
    "os.getpid()"
   ]
  },
  {
   "cell_type": "markdown",
   "id": "caf1993d",
   "metadata": {},
   "source": [
    "## with releasing"
   ]
  },
  {
   "cell_type": "code",
   "execution_count": 13,
   "id": "8951a37e",
   "metadata": {},
   "outputs": [
    {
     "name": "stdout",
     "output_type": "stream",
     "text": [
      "im child: 2305\n",
      "Parent pid: 2046\n",
      "i m a parent: 2046\n",
      "closing parent\n",
      "closing child\n"
     ]
    }
   ],
   "source": [
    "print(f'Parent pid: {os.getpid()}')\n",
    "pid = os.fork()\n",
    "\n",
    "if pid == 0:\n",
    "    print(f'im child: {os.getpid()}')\n",
    "    time.sleep(10)\n",
    "    print('closing child')\n",
    "#     sys.exit(0)\n",
    "#     os.execlp('ls', 'ls', '-a')  # change what to do\n",
    "    os._exit(os.EX_OK)\n",
    "else:\n",
    "    print(f'i m a parent: {os.getpid()}')\n",
    "    time.sleep(5)\n",
    "    print('closing parent')"
   ]
  },
  {
   "cell_type": "markdown",
   "id": "163b2d51",
   "metadata": {},
   "source": [
    "## no releasing"
   ]
  },
  {
   "cell_type": "code",
   "execution_count": null,
   "id": "d17de559",
   "metadata": {},
   "outputs": [],
   "source": [
    "print(f'Parent pid: {os.getpid()}')\n",
    "pid = os.fork()\n",
    "\n",
    "if pid == 0:\n",
    "    print(f'im child: {os.getpid()}')\n",
    "    time.sleep(10)\n",
    "    print('closing child')\n",
    "#     sys.exit(0)\n",
    "#     os._exit(os.EX_OK)\n",
    "else:\n",
    "    print(f'i m a parent: {os.getpid()}')\n",
    "    time.sleep(5)\n",
    "    print('closing parent')"
   ]
  }
 ],
 "metadata": {
  "kernelspec": {
   "display_name": "Python 3",
   "language": "python",
   "name": "python3"
  },
  "language_info": {
   "codemirror_mode": {
    "name": "ipython",
    "version": 3
   },
   "file_extension": ".py",
   "mimetype": "text/x-python",
   "name": "python",
   "nbconvert_exporter": "python",
   "pygments_lexer": "ipython3",
   "version": "3.8.8"
  }
 },
 "nbformat": 4,
 "nbformat_minor": 5
}
